{
  "nbformat": 4,
  "nbformat_minor": 0,
  "metadata": {
    "colab": {
      "name": "BoW_and_LSTM_Classifier",
      "provenance": [],
      "collapsed_sections": [],
      "toc_visible": true,
      "authorship_tag": "ABX9TyPxGuT/h+GUiT6mLGhH0eNH",
      "include_colab_link": true
    },
    "kernelspec": {
      "name": "python3",
      "display_name": "Python 3"
    },
    "accelerator": "TPU"
  },
  "cells": [
    {
      "cell_type": "markdown",
      "metadata": {
        "id": "view-in-github",
        "colab_type": "text"
      },
      "source": [
        "<a href=\"https://colab.research.google.com/github/Vmjkom/Projektit/blob/master/BoW_and_LSTM_Classifier.ipynb\" target=\"_parent\"><img src=\"https://colab.research.google.com/assets/colab-badge.svg\" alt=\"Open In Colab\"/></a>"
      ]
    },
    {
      "cell_type": "code",
      "metadata": {
        "id": "5boQsFkNU5qJ",
        "colab_type": "code",
        "outputId": "b4b67aa9-8f90-461b-a56f-7139752402b5",
        "colab": {
          "base_uri": "https://localhost:8080/",
          "height": 119
        }
      },
      "source": [
        "!wget -nc http://dl.turkunlp.org/TKO_8965-projects/classification/fincore-dev.tsv\n",
        "!wget -nc http://dl.turkunlp.org/TKO_8965-projects/classification/fincore-test.tsv\n",
        "!wget -nc http://dl.turkunlp.org/TKO_8965-projects/classification/fincore-train.tsv"
      ],
      "execution_count": 112,
      "outputs": [
        {
          "output_type": "stream",
          "text": [
            "File ‘fincore-dev.tsv’ already there; not retrieving.\n",
            "\n",
            "File ‘fincore-test.tsv’ already there; not retrieving.\n",
            "\n",
            "File ‘fincore-train.tsv’ already there; not retrieving.\n",
            "\n"
          ],
          "name": "stdout"
        }
      ]
    },
    {
      "cell_type": "markdown",
      "metadata": {
        "id": "-lXLAeeR_l7O",
        "colab_type": "text"
      },
      "source": [
        "Data is transformed to panda's dataframe, because thats what i thought to be simplest to handle. "
      ]
    },
    {
      "cell_type": "code",
      "metadata": {
        "id": "Ia7zXuzOU8I2",
        "colab_type": "code",
        "outputId": "b5394afd-b846-4340-e163-07618560b88f",
        "colab": {
          "base_uri": "https://localhost:8080/",
          "height": 514
        }
      },
      "source": [
        "import csv\n",
        "import pandas as pd\n",
        "import matplotlib.pyplot as plt\n",
        "from sklearn.utils import shuffle\n",
        "\n",
        "train_df = pd.read_csv('/content/fincore-train.tsv',delimiter = '\\t',names=['Labels', 'Text'])\n",
        "train_df = shuffle(train_df)\n",
        "\n",
        "dev_df = pd.read_csv('/content/fincore-dev.tsv',delimiter = '\\t',names=['Labels', 'Text'])\n",
        "dev_df = shuffle(dev_df)\n",
        "\n",
        "test_df = pd.read_csv('/content/fincore-test.tsv',delimiter = '\\t',names=['Labels', 'Text'])\n",
        "test_df = shuffle(test_df)\n",
        "\n",
        "\n",
        "train_df.Labels.value_counts().plot(kind='bar');\n",
        "train_df.head()\n"
      ],
      "execution_count": 113,
      "outputs": [
        {
          "output_type": "execute_result",
          "data": {
            "text/html": [
              "<div>\n",
              "<style scoped>\n",
              "    .dataframe tbody tr th:only-of-type {\n",
              "        vertical-align: middle;\n",
              "    }\n",
              "\n",
              "    .dataframe tbody tr th {\n",
              "        vertical-align: top;\n",
              "    }\n",
              "\n",
              "    .dataframe thead th {\n",
              "        text-align: right;\n",
              "    }\n",
              "</style>\n",
              "<table border=\"1\" class=\"dataframe\">\n",
              "  <thead>\n",
              "    <tr style=\"text-align: right;\">\n",
              "      <th></th>\n",
              "      <th>Labels</th>\n",
              "      <th>Text</th>\n",
              "    </tr>\n",
              "  </thead>\n",
              "  <tbody>\n",
              "    <tr>\n",
              "      <th>3696</th>\n",
              "      <td>DF ID</td>\n",
              "      <td>Jaa miks näin ? Mulla ainakin vaikeuksia saad...</td>\n",
              "    </tr>\n",
              "    <tr>\n",
              "      <th>277</th>\n",
              "      <td>NE NA</td>\n",
              "      <td>Juuri nyt Stockmannin liikevaihto huhti-kesäk...</td>\n",
              "    </tr>\n",
              "    <tr>\n",
              "      <th>1600</th>\n",
              "      <td>DS IG</td>\n",
              "      <td>Pietari Pietari on Venäjän toiseksi suurin- j...</td>\n",
              "    </tr>\n",
              "    <tr>\n",
              "      <th>1479</th>\n",
              "      <td>NE NA</td>\n",
              "      <td>Poliisi tutkii varastetuilla verkkopankkitunn...</td>\n",
              "    </tr>\n",
              "    <tr>\n",
              "      <th>4240</th>\n",
              "      <td>DS IG</td>\n",
              "      <td>Hakulomake Etsi Safera Oy - Lisää turvaa koti...</td>\n",
              "    </tr>\n",
              "  </tbody>\n",
              "</table>\n",
              "</div>"
            ],
            "text/plain": [
              "      Labels                                               Text\n",
              "3696  DF ID    Jaa miks näin ? Mulla ainakin vaikeuksia saad...\n",
              "277   NE NA    Juuri nyt Stockmannin liikevaihto huhti-kesäk...\n",
              "1600  DS IG    Pietari Pietari on Venäjän toiseksi suurin- j...\n",
              "1479  NE NA    Poliisi tutkii varastetuilla verkkopankkitunn...\n",
              "4240  DS IG    Hakulomake Etsi Safera Oy - Lisää turvaa koti..."
            ]
          },
          "metadata": {
            "tags": []
          },
          "execution_count": 113
        },
        {
          "output_type": "display_data",
          "data": {
            "image/png": "[encoded data removed]",
            "text/plain": [
              "<Figure size 432x288 with 1 Axes>"
            ]
          },
          "metadata": {
            "tags": [],
            "needs_background": "light"
          }
        }
      ]
    },
    {
      "cell_type": "markdown",
      "metadata": {
        "id": "2vymJtq-_9xB",
        "colab_type": "text"
      },
      "source": [
        "**Text needs cleaning up and labels are transformed to their respective main register classes. **"
      ]
    },
    {
      "cell_type": "code",
      "metadata": {
        "id": "7in5NHJbD11s",
        "colab_type": "code",
        "colab": {}
      },
      "source": [
        "import string\n",
        "\n",
        "def clean_label(label):\n",
        "  label = label.strip()\n",
        "  label = label[-2:]\n",
        "  return label\n",
        "\n",
        "def clean_text(text):\n",
        "  text = text.lower()\n",
        "  text = text.strip()\n",
        "  no_punct = \"\".join([c for c in text if c not in string.punctuation])\n",
        "  return no_punct"
      ],
      "execution_count": 0,
      "outputs": []
    },
    {
      "cell_type": "code",
      "metadata": {
        "id": "hoXROgjEI2Y1",
        "colab_type": "code",
        "outputId": "ab9bfbbe-57a8-40a0-d01e-f8203c88c8b4",
        "colab": {
          "base_uri": "https://localhost:8080/",
          "height": 474
        }
      },
      "source": [
        "train_df['Labels'] = train_df['Labels'].apply(clean_label)\n",
        "train_df['Text'] = train_df['Text'].apply(clean_text)\n",
        "\n",
        "train_df.head()\n",
        "\n",
        "dev_df['Labels'] = dev_df['Labels'].apply(clean_label)\n",
        "dev_df['Text'] = dev_df['Text'].apply(clean_text)\n",
        "\n",
        "dev_df.head()\n",
        "\n",
        "test_df['Labels'] = test_df['Labels'].apply(clean_label)\n",
        "test_df['Text'] = test_df['Text'].apply(clean_text)\n",
        "\n",
        "train_df.Labels.value_counts().plot(kind='bar');\n",
        "print(train_df.head())\n",
        "print(dev_df.head())\n",
        "\n",
        "\n",
        "\n"
      ],
      "execution_count": 115,
      "outputs": [
        {
          "output_type": "stream",
          "text": [
            "     Labels                                               Text\n",
            "3696     ID  jaa miks näin  mulla ainakin vaikeuksia saada ...\n",
            "277      NA  juuri nyt stockmannin liikevaihto huhtikesäkuu...\n",
            "1600     IG  pietari pietari on venäjän toiseksi suurin ja ...\n",
            "1479     NA  poliisi tutkii varastetuilla verkkopankkitunnu...\n",
            "4240     IG  hakulomake etsi safera oy  lisää turvaa kotiin...\n",
            "    Labels                                               Text\n",
            "10      NA  kiitoksia lähettämistä runoistasi  jotka taase...\n",
            "114     NA  projekteja  kauhajoen lukio oli lähtenyt 1996 ...\n",
            "644     ID  katsoin norjalaisen dagbladetin artikkelia ja ...\n",
            "698     HI  osakekauppa on helppoa internetin välityksellä...\n",
            "427     IN  emmental emmental   eli tahkojuusto on puoliko...\n"
          ],
          "name": "stdout"
        },
        {
          "output_type": "display_data",
          "data": {
            "image/png": "[encoded data removed]",
            "text/plain": [
              "<Figure size 432x288 with 1 Axes>"
            ]
          },
          "metadata": {
            "tags": [],
            "needs_background": "light"
          }
        }
      ]
    },
    {
      "cell_type": "markdown",
      "metadata": {
        "id": "xRY-3cULCWvR",
        "colab_type": "text"
      },
      "source": [
        "TfidfVectorizer for feature matrixes and labelencoder for the labels. "
      ]
    },
    {
      "cell_type": "code",
      "metadata": {
        "id": "Yq9nWFDQOVX1",
        "colab_type": "code",
        "outputId": "90b5cce1-3e1c-4d79-a075-5c8ba2eb9f4d",
        "colab": {
          "base_uri": "https://localhost:8080/",
          "height": 51
        }
      },
      "source": [
        "from sklearn.feature_extraction.text import TfidfVectorizer\n",
        "from sklearn.preprocessing import LabelEncoder\n",
        "\n",
        "\n",
        "tfidf = TfidfVectorizer(sublinear_tf=True,ngram_range=(1,2),min_df=5)\n",
        "label_encoder=LabelEncoder()\n",
        "\n",
        "train_features = tfidf.fit_transform(train_df.Text)\n",
        "train_labels = label_encoder.fit_transform(train_df.Labels)\n",
        "\n",
        "dev_features = tfidf.transform(dev_df.Text)\n",
        "dev_labels = label_encoder.transform(dev_df.Labels)\n",
        "\n",
        "test_features = tfidf.transform(test_df.Text)\n",
        "test_labels = label_encoder.transform(test_df.Labels)\n",
        "\n",
        "print(train_features.shape)\n",
        "print(\"class labels\",label_encoder.classes_)\n",
        "\n"
      ],
      "execution_count": 116,
      "outputs": [
        {
          "output_type": "stream",
          "text": [
            "(5295, 90457)\n",
            "class labels ['HI' 'ID' 'IG' 'IN' 'LY' 'NA' 'OP' 'OS' 'SP']\n"
          ],
          "name": "stdout"
        }
      ]
    },
    {
      "cell_type": "markdown",
      "metadata": {
        "id": "Wq7NTOL0FZXE",
        "colab_type": "text"
      },
      "source": [
        "**Simple sequential model. Experimented a little with different node amounts on the first layer, 100 seems to be good.**"
      ]
    },
    {
      "cell_type": "code",
      "metadata": {
        "id": "XB1amzOApcck",
        "colab_type": "code",
        "colab": {}
      },
      "source": [
        "import keras\n",
        "from keras.models import Sequential\n",
        "from keras import layers\n",
        "\n",
        "input_dim = train_features.shape[1]\n",
        "class_count = len(label_encoder.classes_)\n",
        "\n",
        "model=Sequential()\n",
        "model.add(layers.Dense(100,input_dim=input_dim,activation='relu'))\n",
        "model.add(layers.Dense(class_count,activation='softmax'))\n",
        "\n"
      ],
      "execution_count": 0,
      "outputs": []
    },
    {
      "cell_type": "markdown",
      "metadata": {
        "id": "lzY8ioHaFwBf",
        "colab_type": "text"
      },
      "source": [
        "**9 different classes so decided to go for sparse categorical crossentropy. **"
      ]
    },
    {
      "cell_type": "code",
      "metadata": {
        "id": "22-P6Au2yMTC",
        "colab_type": "code",
        "outputId": "0db1256f-0ba7-4bf7-d84a-3a08d5e0a47c",
        "colab": {
          "base_uri": "https://localhost:8080/",
          "height": 221
        }
      },
      "source": [
        "from keras.callbacks import EarlyStopping\n",
        "\n",
        "model.compile(loss='sparse_categorical_crossentropy',\n",
        "              optimizer='adam',\n",
        "              metrics=['accuracy'] )\n",
        "model.summary()\n",
        "\n",
        "callbacks = keras.callbacks.EarlyStopping(monitor='val_accuracy',patience=2)"
      ],
      "execution_count": 118,
      "outputs": [
        {
          "output_type": "stream",
          "text": [
            "Model: \"sequential_57\"\n",
            "_________________________________________________________________\n",
            "Layer (type)                 Output Shape              Param #   \n",
            "=================================================================\n",
            "dense_58 (Dense)             (None, 100)               9045800   \n",
            "_________________________________________________________________\n",
            "dense_59 (Dense)             (None, 9)                 909       \n",
            "=================================================================\n",
            "Total params: 9,046,709\n",
            "Trainable params: 9,046,709\n",
            "Non-trainable params: 0\n",
            "_________________________________________________________________\n"
          ],
          "name": "stdout"
        }
      ]
    },
    {
      "cell_type": "markdown",
      "metadata": {
        "id": "aPeLMsRIF_XW",
        "colab_type": "text"
      },
      "source": [
        "**Decent parameters, will experiment more below.**"
      ]
    },
    {
      "cell_type": "code",
      "metadata": {
        "id": "F8i2CMN_zNnc",
        "colab_type": "code",
        "outputId": "3e3a17c5-4a03-47cb-ad45-5966bd8ca307",
        "colab": {
          "base_uri": "https://localhost:8080/",
          "height": 374
        }
      },
      "source": [
        "history=model.fit(train_features,train_labels,epochs=10,batch_size=50,validation_data=(dev_features,dev_labels))"
      ],
      "execution_count": 119,
      "outputs": [
        {
          "output_type": "stream",
          "text": [
            "Train on 5295 samples, validate on 756 samples\n",
            "Epoch 1/10\n",
            "5295/5295 [==============================] - 17s 3ms/step - loss: 1.5841 - accuracy: 0.5260 - val_loss: 1.1570 - val_accuracy: 0.6071\n",
            "Epoch 2/10\n",
            "5295/5295 [==============================] - 17s 3ms/step - loss: 0.7465 - accuracy: 0.8045 - val_loss: 0.9270 - val_accuracy: 0.7090\n",
            "Epoch 3/10\n",
            "5295/5295 [==============================] - 17s 3ms/step - loss: 0.3011 - accuracy: 0.9688 - val_loss: 0.8591 - val_accuracy: 0.7169\n",
            "Epoch 4/10\n",
            "5295/5295 [==============================] - 17s 3ms/step - loss: 0.1097 - accuracy: 0.9923 - val_loss: 0.8410 - val_accuracy: 0.7249\n",
            "Epoch 5/10\n",
            "5295/5295 [==============================] - 17s 3ms/step - loss: 0.0523 - accuracy: 0.9955 - val_loss: 0.8448 - val_accuracy: 0.7235\n",
            "Epoch 6/10\n",
            "5295/5295 [==============================] - 17s 3ms/step - loss: 0.0317 - accuracy: 0.9962 - val_loss: 0.8469 - val_accuracy: 0.7275\n",
            "Epoch 7/10\n",
            "5295/5295 [==============================] - 17s 3ms/step - loss: 0.0234 - accuracy: 0.9979 - val_loss: 0.8533 - val_accuracy: 0.7249\n",
            "Epoch 8/10\n",
            "5295/5295 [==============================] - 16s 3ms/step - loss: 0.0169 - accuracy: 0.9975 - val_loss: 0.8687 - val_accuracy: 0.7209\n",
            "Epoch 9/10\n",
            "5295/5295 [==============================] - 17s 3ms/step - loss: 0.0147 - accuracy: 0.9974 - val_loss: 0.8671 - val_accuracy: 0.7196\n",
            "Epoch 10/10\n",
            "5295/5295 [==============================] - 17s 3ms/step - loss: 0.0146 - accuracy: 0.9972 - val_loss: 0.8761 - val_accuracy: 0.7262\n"
          ],
          "name": "stdout"
        }
      ]
    },
    {
      "cell_type": "markdown",
      "metadata": {
        "id": "zFaQaMBdQoUc",
        "colab_type": "text"
      },
      "source": [
        "**As we can see accuracy seems to improve very slowly after 2nd Epoch, but decent enough accuracy at 72% with this data in my opinnion.**"
      ]
    },
    {
      "cell_type": "code",
      "metadata": {
        "id": "CICE9LbkPUhM",
        "colab_type": "code",
        "colab": {
          "base_uri": "https://localhost:8080/",
          "height": 54
        },
        "outputId": "75c8e3e2-c9cc-491d-9b2f-007d1974bbf6"
      },
      "source": [
        "print(history.history['val_accuracy'])"
      ],
      "execution_count": 120,
      "outputs": [
        {
          "output_type": "stream",
          "text": [
            "[0.6071428656578064, 0.7089946866035461, 0.7169312238693237, 0.7248677015304565, 0.7235449552536011, 0.7275132536888123, 0.7248677015304565, 0.7208994626998901, 0.7195767164230347, 0.726190447807312]\n"
          ],
          "name": "stdout"
        }
      ]
    },
    {
      "cell_type": "code",
      "metadata": {
        "id": "HL0nOPrYQ9pq",
        "colab_type": "code",
        "colab": {
          "base_uri": "https://localhost:8080/",
          "height": 374
        },
        "outputId": "1faeab0d-fe71-46a0-a7ba-1e363a5c7685"
      },
      "source": [
        "model_2=Sequential()\n",
        "model_2.add(layers.Dense(200,input_dim=input_dim,activation='relu'))\n",
        "model_2.add(layers.Dense(class_count,activation='softmax'))\n",
        "\n",
        "model_2.compile(loss='sparse_categorical_crossentropy',\n",
        "              optimizer='RMSprop',\n",
        "              metrics=['accuracy'])\n",
        "\n",
        "history_2 = model_2.fit(train_features,train_labels,epochs=10,batch_size=50,validation_data=(dev_features,dev_labels))"
      ],
      "execution_count": 121,
      "outputs": [
        {
          "output_type": "stream",
          "text": [
            "Train on 5295 samples, validate on 756 samples\n",
            "Epoch 1/10\n",
            "5295/5295 [==============================] - 25s 5ms/step - loss: 1.4264 - accuracy: 0.5509 - val_loss: 1.0630 - val_accuracy: 0.6786\n",
            "Epoch 2/10\n",
            "5295/5295 [==============================] - 24s 5ms/step - loss: 0.6835 - accuracy: 0.8247 - val_loss: 0.8853 - val_accuracy: 0.7288\n",
            "Epoch 3/10\n",
            "5295/5295 [==============================] - 24s 5ms/step - loss: 0.3049 - accuracy: 0.9520 - val_loss: 0.8295 - val_accuracy: 0.7394\n",
            "Epoch 4/10\n",
            "5295/5295 [==============================] - 24s 5ms/step - loss: 0.1205 - accuracy: 0.9838 - val_loss: 0.8386 - val_accuracy: 0.7196\n",
            "Epoch 5/10\n",
            "5295/5295 [==============================] - 24s 5ms/step - loss: 0.0497 - accuracy: 0.9932 - val_loss: 0.8838 - val_accuracy: 0.7103\n",
            "Epoch 6/10\n",
            "5295/5295 [==============================] - 24s 5ms/step - loss: 0.0242 - accuracy: 0.9970 - val_loss: 0.9463 - val_accuracy: 0.7196\n",
            "Epoch 7/10\n",
            "5295/5295 [==============================] - 24s 5ms/step - loss: 0.0171 - accuracy: 0.9968 - val_loss: 1.0089 - val_accuracy: 0.7196\n",
            "Epoch 8/10\n",
            "5295/5295 [==============================] - 24s 5ms/step - loss: 0.0123 - accuracy: 0.9972 - val_loss: 1.0510 - val_accuracy: 0.7063\n",
            "Epoch 9/10\n",
            "5295/5295 [==============================] - 24s 5ms/step - loss: 0.0119 - accuracy: 0.9972 - val_loss: 1.0889 - val_accuracy: 0.7169\n",
            "Epoch 10/10\n",
            "5295/5295 [==============================] - 24s 5ms/step - loss: 0.0094 - accuracy: 0.9974 - val_loss: 1.1414 - val_accuracy: 0.7116\n"
          ],
          "name": "stdout"
        }
      ]
    },
    {
      "cell_type": "markdown",
      "metadata": {
        "id": "4ilxW7ThYPmb",
        "colab_type": "text"
      },
      "source": [
        "Changing the Dense units and model optimizer seems to have no effect at all."
      ]
    },
    {
      "cell_type": "code",
      "metadata": {
        "id": "v9ceIQN9YXdX",
        "colab_type": "code",
        "colab": {
          "base_uri": "https://localhost:8080/",
          "height": 374
        },
        "outputId": "66d5d2dc-d19d-4744-edcc-d22f50636fae"
      },
      "source": [
        "model_3=Sequential()\n",
        "model_3.add(layers.Dense(10,input_dim=input_dim,activation='relu'))\n",
        "model_3.add(layers.Dense(class_count,activation='softmax'))\n",
        "\n",
        "model_3.compile(loss='sparse_categorical_crossentropy',\n",
        "              optimizer='Adam',\n",
        "              metrics=['accuracy'])\n",
        "\n",
        "history_3 = model_3.fit(train_features,train_labels,epochs=10,batch_size=20,validation_data=(dev_features,dev_labels))"
      ],
      "execution_count": 122,
      "outputs": [
        {
          "output_type": "stream",
          "text": [
            "Train on 5295 samples, validate on 756 samples\n",
            "Epoch 1/10\n",
            "5295/5295 [==============================] - 7s 1ms/step - loss: 1.7626 - accuracy: 0.4045 - val_loss: 1.4080 - val_accuracy: 0.5212\n",
            "Epoch 2/10\n",
            "5295/5295 [==============================] - 7s 1ms/step - loss: 1.1111 - accuracy: 0.6002 - val_loss: 1.1169 - val_accuracy: 0.6005\n",
            "Epoch 3/10\n",
            "5295/5295 [==============================] - 7s 1ms/step - loss: 0.7336 - accuracy: 0.7977 - val_loss: 0.9951 - val_accuracy: 0.6680\n",
            "Epoch 4/10\n",
            "5295/5295 [==============================] - 7s 1ms/step - loss: 0.4604 - accuracy: 0.9296 - val_loss: 0.9304 - val_accuracy: 0.7050\n",
            "Epoch 5/10\n",
            "5295/5295 [==============================] - 7s 1ms/step - loss: 0.2776 - accuracy: 0.9790 - val_loss: 0.9012 - val_accuracy: 0.7024\n",
            "Epoch 6/10\n",
            "5295/5295 [==============================] - 7s 1ms/step - loss: 0.1708 - accuracy: 0.9879 - val_loss: 0.8863 - val_accuracy: 0.7011\n",
            "Epoch 7/10\n",
            "5295/5295 [==============================] - 7s 1ms/step - loss: 0.1118 - accuracy: 0.9890 - val_loss: 0.8765 - val_accuracy: 0.7090\n",
            "Epoch 8/10\n",
            "5295/5295 [==============================] - 7s 1ms/step - loss: 0.0774 - accuracy: 0.9911 - val_loss: 0.8769 - val_accuracy: 0.7077\n",
            "Epoch 9/10\n",
            "5295/5295 [==============================] - 8s 1ms/step - loss: 0.0570 - accuracy: 0.9953 - val_loss: 0.8812 - val_accuracy: 0.7050\n",
            "Epoch 10/10\n",
            "5295/5295 [==============================] - 8s 1ms/step - loss: 0.0431 - accuracy: 0.9955 - val_loss: 0.8909 - val_accuracy: 0.7050\n"
          ],
          "name": "stdout"
        }
      ]
    },
    {
      "cell_type": "markdown",
      "metadata": {
        "id": "58tgatik8CAV",
        "colab_type": "text"
      },
      "source": [
        "**Still no change, dont know why. Time to see how it does with unseen test data**"
      ]
    },
    {
      "cell_type": "code",
      "metadata": {
        "id": "LNrrI4dE8Hkl",
        "colab_type": "code",
        "colab": {
          "base_uri": "https://localhost:8080/",
          "height": 51
        },
        "outputId": "106c37ac-ea93-4d5b-e105-a01428873ab8"
      },
      "source": [
        "history_test = model.evaluate(test_features,test_labels)\n",
        "print(history_test)"
      ],
      "execution_count": 123,
      "outputs": [
        {
          "output_type": "stream",
          "text": [
            "1513/1513 [==============================] - 1s 815us/step\n",
            "[0.930460403001789, 0.6807667016983032]\n"
          ],
          "name": "stdout"
        }
      ]
    },
    {
      "cell_type": "markdown",
      "metadata": {
        "id": "KBudZUu56wV0",
        "colab_type": "text"
      },
      "source": [
        "# Milestone 1.2 RNN LSTM"
      ]
    },
    {
      "cell_type": "code",
      "metadata": {
        "id": "R4IIMbko67B-",
        "colab_type": "code",
        "colab": {
          "base_uri": "https://localhost:8080/",
          "height": 221
        },
        "outputId": "e782bae8-fe57-416e-b620-22efdf9abe82"
      },
      "source": [
        "from tensorflow.keras.preprocessing.text import Tokenizer\n",
        "\n",
        "#Combine train and development dataframes so its easier for me to code\n",
        "\n",
        "combine = [train_df,dev_df]\n",
        "frames = pd.concat(combine)\n",
        "\n",
        "\n",
        "\n",
        "tokenizer = Tokenizer( num_words=10000)\n",
        "label_tokenizer = Tokenizer()\n",
        "\n",
        "tokenizer.fit_on_texts(frames['Text'])\n",
        "labels= label_tokenizer.fit_on_texts(frames['Labels'])\n",
        "\n",
        "word_index = tokenizer.word_index\n",
        "print(len(word_index))\n",
        "frames.head()"
      ],
      "execution_count": 124,
      "outputs": [
        {
          "output_type": "stream",
          "text": [
            "432486\n"
          ],
          "name": "stdout"
        },
        {
          "output_type": "execute_result",
          "data": {
            "text/html": [
              "<div>\n",
              "<style scoped>\n",
              "    .dataframe tbody tr th:only-of-type {\n",
              "        vertical-align: middle;\n",
              "    }\n",
              "\n",
              "    .dataframe tbody tr th {\n",
              "        vertical-align: top;\n",
              "    }\n",
              "\n",
              "    .dataframe thead th {\n",
              "        text-align: right;\n",
              "    }\n",
              "</style>\n",
              "<table border=\"1\" class=\"dataframe\">\n",
              "  <thead>\n",
              "    <tr style=\"text-align: right;\">\n",
              "      <th></th>\n",
              "      <th>Labels</th>\n",
              "      <th>Text</th>\n",
              "    </tr>\n",
              "  </thead>\n",
              "  <tbody>\n",
              "    <tr>\n",
              "      <th>3696</th>\n",
              "      <td>ID</td>\n",
              "      <td>jaa miks näin  mulla ainakin vaikeuksia saada ...</td>\n",
              "    </tr>\n",
              "    <tr>\n",
              "      <th>277</th>\n",
              "      <td>NA</td>\n",
              "      <td>juuri nyt stockmannin liikevaihto huhtikesäkuu...</td>\n",
              "    </tr>\n",
              "    <tr>\n",
              "      <th>1600</th>\n",
              "      <td>IG</td>\n",
              "      <td>pietari pietari on venäjän toiseksi suurin ja ...</td>\n",
              "    </tr>\n",
              "    <tr>\n",
              "      <th>1479</th>\n",
              "      <td>NA</td>\n",
              "      <td>poliisi tutkii varastetuilla verkkopankkitunnu...</td>\n",
              "    </tr>\n",
              "    <tr>\n",
              "      <th>4240</th>\n",
              "      <td>IG</td>\n",
              "      <td>hakulomake etsi safera oy  lisää turvaa kotiin...</td>\n",
              "    </tr>\n",
              "  </tbody>\n",
              "</table>\n",
              "</div>"
            ],
            "text/plain": [
              "     Labels                                               Text\n",
              "3696     ID  jaa miks näin  mulla ainakin vaikeuksia saada ...\n",
              "277      NA  juuri nyt stockmannin liikevaihto huhtikesäkuu...\n",
              "1600     IG  pietari pietari on venäjän toiseksi suurin ja ...\n",
              "1479     NA  poliisi tutkii varastetuilla verkkopankkitunnu...\n",
              "4240     IG  hakulomake etsi safera oy  lisää turvaa kotiin..."
            ]
          },
          "metadata": {
            "tags": []
          },
          "execution_count": 124
        }
      ]
    },
    {
      "cell_type": "markdown",
      "metadata": {
        "id": "w-huPsj9FyhX",
        "colab_type": "text"
      },
      "source": [
        "Here we tokenized the texts, didnt bother using tokenizer parameters much because text has arleady been cleaned up quite well in earlier bag of words classifier."
      ]
    },
    {
      "cell_type": "code",
      "metadata": {
        "id": "EwhOPgnyFr4B",
        "colab_type": "code",
        "colab": {
          "base_uri": "https://localhost:8080/",
          "height": 340
        },
        "outputId": "37233473-3522-4f54-e42f-c0e2f715c07f"
      },
      "source": [
        "from tensorflow.keras.preprocessing.sequence import pad_sequences\n",
        "import numpy as np\n",
        "\n",
        "\n",
        "sequences = tokenizer.texts_to_sequences(frames['Text'])\n",
        "padded = pad_sequences(sequences,maxlen=200)\n",
        "print(len(sequences))\n",
        "print(padded.shape)\n",
        "\n",
        "\n",
        "labels = pd.get_dummies(frames['Labels'])\n",
        "print(labels.shape)\n",
        "print()\n",
        "print(padded[0])"
      ],
      "execution_count": 125,
      "outputs": [
        {
          "output_type": "stream",
          "text": [
            "6051\n",
            "(6051, 200)\n",
            "(6051, 9)\n",
            "\n",
            "[2201 2202   35  326   77  385    2   23  218  415   16 1303  153  547\n",
            "  957   42   23  787   31 1474   32    1  408 8280    2 2209  710    2\n",
            " 9379    1    3   60    1   23  781   16  619  554  857    1 3267  781\n",
            " 8628   71  236 5095   16 1251 5227    1 3706 1717 4640 8448 3194 1271\n",
            " 9799    7    4 1270 8107  283    8 3894    1 2567  274   66    3 5095\n",
            "    1 5227  256   79 5023  787  134  127 1164   23   29    1   35  326\n",
            "    8 1031  142  680  220  366    9    7  792 5651  101  217 4817   23\n",
            "    6    2  125   64 2139   32 1223 2221  108 3370  908    1  396   71\n",
            "  908 1278  675 1809 1501    1 1001 1591 9594   13 1289  251 1426  865\n",
            " 2568 9595  404    1 1405   55 1621   64  216    8  101    1 3371    2\n",
            "  619    3    8    3  198  115    3   41   14  300   15   43 3894    2\n",
            " 1684  300   71   51    8    9 8800  421    1  344   13 3016    3   64\n",
            "  144    8  878  209  967   13    1 8449   40    4   97    2  565   46\n",
            "    1  300    4 3016    8  801 8450 1019  297 9172 1501    1    7  119\n",
            " 3535 2735 1158  127]\n"
          ],
          "name": "stdout"
        }
      ]
    },
    {
      "cell_type": "markdown",
      "metadata": {
        "id": "Cauxk5zEA9iu",
        "colab_type": "text"
      },
      "source": [
        "Padded sequences with 200 max length and default parameters. Quite alot of zeros."
      ]
    },
    {
      "cell_type": "code",
      "metadata": {
        "id": "FxVGEHD7HfWo",
        "colab_type": "code",
        "colab": {
          "base_uri": "https://localhost:8080/",
          "height": 51
        },
        "outputId": "2f096dc9-12ee-40ea-f379-a68f0b71b648"
      },
      "source": [
        "from sklearn.model_selection import train_test_split\n",
        "\n",
        "X_train, X_test, Y_train, Y_test = train_test_split(padded,labels, test_size = 0.20)\n",
        "print(X_train.shape,Y_train.shape)\n",
        "print(X_test.shape,Y_test.shape)"
      ],
      "execution_count": 126,
      "outputs": [
        {
          "output_type": "stream",
          "text": [
            "(4840, 200) (4840, 9)\n",
            "(1211, 200) (1211, 9)\n"
          ],
          "name": "stdout"
        }
      ]
    },
    {
      "cell_type": "code",
      "metadata": {
        "id": "W7HHcInaIKr7",
        "colab_type": "code",
        "colab": {
          "base_uri": "https://localhost:8080/",
          "height": 255
        },
        "outputId": "20b818b4-bf5f-4c91-cc78-5159bdd723cd"
      },
      "source": [
        "from keras.layers import LSTM, Embedding\n",
        "\n",
        "\n",
        "model_lstm = Sequential()\n",
        "model_lstm.add(Embedding(10000,100,input_length=padded.shape[1]))\n",
        "model_lstm.add(LSTM(100))\n",
        "model_lstm.add(layers.Dense(9,activation='softmax'))\n",
        "\n",
        "model_lstm.compile(loss='categorical_crossentropy', optimizer='adam', metrics=['accuracy'])\n",
        "model_lstm.summary()"
      ],
      "execution_count": 127,
      "outputs": [
        {
          "output_type": "stream",
          "text": [
            "Model: \"sequential_60\"\n",
            "_________________________________________________________________\n",
            "Layer (type)                 Output Shape              Param #   \n",
            "=================================================================\n",
            "embedding_53 (Embedding)     (None, 200, 100)          1000000   \n",
            "_________________________________________________________________\n",
            "lstm_52 (LSTM)               (None, 100)               80400     \n",
            "_________________________________________________________________\n",
            "dense_64 (Dense)             (None, 9)                 909       \n",
            "=================================================================\n",
            "Total params: 1,081,309\n",
            "Trainable params: 1,081,309\n",
            "Non-trainable params: 0\n",
            "_________________________________________________________________\n"
          ],
          "name": "stdout"
        }
      ]
    },
    {
      "cell_type": "code",
      "metadata": {
        "id": "xwktR9jLMOhS",
        "colab_type": "code",
        "colab": {
          "base_uri": "https://localhost:8080/",
          "height": 258
        },
        "outputId": "7cd7ee21-3cd4-4376-8c1a-7067e05a2491"
      },
      "source": [
        "history_lstm = model_lstm.fit(padded,labels,epochs=5,batch_size=10,validation_split=0.1)"
      ],
      "execution_count": 129,
      "outputs": [
        {
          "output_type": "stream",
          "text": [
            "/usr/local/lib/python3.6/dist-packages/tensorflow/python/framework/indexed_slices.py:434: UserWarning: Converting sparse IndexedSlices to a dense Tensor of unknown shape. This may consume a large amount of memory.\n",
            "  \"Converting sparse IndexedSlices to a dense Tensor of unknown shape. \"\n"
          ],
          "name": "stderr"
        },
        {
          "output_type": "stream",
          "text": [
            "Train on 5445 samples, validate on 606 samples\n",
            "Epoch 1/5\n",
            "5445/5445 [==============================] - 83s 15ms/step - loss: 1.5863 - accuracy: 0.4459 - val_loss: 1.5195 - val_accuracy: 0.4455\n",
            "Epoch 2/5\n",
            "5445/5445 [==============================] - 82s 15ms/step - loss: 1.0596 - accuracy: 0.6331 - val_loss: 1.4215 - val_accuracy: 0.4868\n",
            "Epoch 3/5\n",
            "5445/5445 [==============================] - 82s 15ms/step - loss: 0.5896 - accuracy: 0.8118 - val_loss: 1.4054 - val_accuracy: 0.5611\n",
            "Epoch 4/5\n",
            "5445/5445 [==============================] - 81s 15ms/step - loss: 0.2668 - accuracy: 0.9249 - val_loss: 1.7865 - val_accuracy: 0.5066\n",
            "Epoch 5/5\n",
            "5445/5445 [==============================] - 82s 15ms/step - loss: 0.1514 - accuracy: 0.9600 - val_loss: 1.9422 - val_accuracy: 0.5396\n"
          ],
          "name": "stdout"
        }
      ]
    },
    {
      "cell_type": "markdown",
      "metadata": {
        "id": "5Uoa2ESCoV8c",
        "colab_type": "text"
      },
      "source": [
        "Pretty bad result from beginning to end. Changing hyperparameters eventhough some problem might lie with the data itself."
      ]
    },
    {
      "cell_type": "code",
      "metadata": {
        "id": "7INoisjGQI6o",
        "colab_type": "code",
        "colab": {
          "base_uri": "https://localhost:8080/",
          "height": 459
        },
        "outputId": "45bea816-a716-4c5a-d8c3-f1635f4fdf27"
      },
      "source": [
        "vocab_size = 20000\n",
        "embedding_dim = 64\n",
        "max_length = 100\n",
        "trunc_type = 'post'\n",
        "padding_type = 'post'\n",
        "from keras.layers import Dropout\n",
        "\n",
        "combine2 = [train_df,dev_df]\n",
        "frames2 = pd.concat(combine2)\n",
        "\n",
        "tokenizer2 = Tokenizer( num_words=vocab_size)\n",
        "label_tokenizer2 = Tokenizer()\n",
        "\n",
        "tokenizer2.fit_on_texts(frames2['Text'])\n",
        "labels2= pd.get_dummies(frames2['Labels'])\n",
        "\n",
        "\n",
        "\n",
        "sequences2 = tokenizer2.texts_to_sequences(frames2['Text'])\n",
        "padded2 = pad_sequences(sequences2,maxlen=max_length,padding=padding_type,truncating=trunc_type)\n",
        "print(padded2.shape)\n",
        "\n",
        "\n",
        "model2_lstm = Sequential()\n",
        "model2_lstm.add(Embedding(vocab_size,embedding_dim,input_length=padded2.shape[1]))\n",
        "model2_lstm.add(LSTM(100,dropout=0.2, recurrent_dropout=0.2))\n",
        "model2_lstm.add(layers.Dense(9,activation='softmax'))\n",
        "\n",
        "model2_lstm.compile(loss='categorical_crossentropy', optimizer='adam', metrics=['accuracy'])\n",
        "model2_lstm.summary()\n",
        "\n",
        "print(padded2[0])\n",
        "\n",
        "X_train, X_test, Y_train, Y_test = train_test_split(padded2,labels2, test_size = 0.20)\n",
        "print(X_train.shape,Y_train.shape)\n",
        "print(X_test.shape,Y_test.shape)\n",
        "\n"
      ],
      "execution_count": 130,
      "outputs": [
        {
          "output_type": "stream",
          "text": [
            "(6051, 100)\n",
            "Model: \"sequential_61\"\n",
            "_________________________________________________________________\n",
            "Layer (type)                 Output Shape              Param #   \n",
            "=================================================================\n",
            "embedding_54 (Embedding)     (None, 100, 64)           1280000   \n",
            "_________________________________________________________________\n",
            "lstm_53 (LSTM)               (None, 100)               66000     \n",
            "_________________________________________________________________\n",
            "dense_65 (Dense)             (None, 9)                 909       \n",
            "=================================================================\n",
            "Total params: 1,346,909\n",
            "Trainable params: 1,346,909\n",
            "Non-trainable params: 0\n",
            "_________________________________________________________________\n",
            "[ 3605  6269    83   710   151  2721   112  8627  9379  1876  1314  2397\n",
            "   164   355  1085 16777   769    33     3  1501     1   160   603  2139\n",
            "     2   336   248  4259  3532     2 11934     1  3233    13 17472  2139\n",
            "  1653  1845  6361     1   127  5226   809   119  3234  2276   781   986\n",
            "    98  2625  4309   933    71   283  4760    41  5023     9     3   601\n",
            "    69  5899  9379    95    79   530    97   769 10034  1955   653  1041\n",
            "   781  3894    97     9     3  2669  2492   781  1270  1747  2056   476\n",
            "     3  8627    19    84   842   208   769   274    71    70  2398  1501\n",
            "     1    78    17    69]\n",
            "(4840, 100) (4840, 9)\n",
            "(1211, 100) (1211, 9)\n"
          ],
          "name": "stdout"
        }
      ]
    },
    {
      "cell_type": "markdown",
      "metadata": {
        "id": "qFHgdtAas5mQ",
        "colab_type": "text"
      },
      "source": [
        "**Changed embedding layer dimension and changed padding and trunc to 'post.\n",
        "Also changed max length of the padding to 50 from 200 to limit the amount of 0's. Added dropout to the LSTM layer to limit overfitting**"
      ]
    },
    {
      "cell_type": "code",
      "metadata": {
        "id": "qHMbWsObqM9s",
        "colab_type": "code",
        "colab": {
          "base_uri": "https://localhost:8080/",
          "height": 258
        },
        "outputId": "ad9d7b41-a3df-49e2-8ad6-ffcc0d5660a0"
      },
      "source": [
        "history_lstm2 = model2_lstm.fit(padded2,labels2,epochs=5,batch_size=10,validation_split=0.1)"
      ],
      "execution_count": 131,
      "outputs": [
        {
          "output_type": "stream",
          "text": [
            "/usr/local/lib/python3.6/dist-packages/tensorflow/python/framework/indexed_slices.py:434: UserWarning: Converting sparse IndexedSlices to a dense Tensor of unknown shape. This may consume a large amount of memory.\n",
            "  \"Converting sparse IndexedSlices to a dense Tensor of unknown shape. \"\n"
          ],
          "name": "stderr"
        },
        {
          "output_type": "stream",
          "text": [
            "Train on 5445 samples, validate on 606 samples\n",
            "Epoch 1/5\n",
            "5445/5445 [==============================] - 47s 9ms/step - loss: 1.7717 - accuracy: 0.3640 - val_loss: 1.5957 - val_accuracy: 0.4422\n",
            "Epoch 2/5\n",
            "5445/5445 [==============================] - 48s 9ms/step - loss: 1.4008 - accuracy: 0.4929 - val_loss: 1.4270 - val_accuracy: 0.4868\n",
            "Epoch 3/5\n",
            "5445/5445 [==============================] - 48s 9ms/step - loss: 1.0311 - accuracy: 0.6305 - val_loss: 1.4163 - val_accuracy: 0.5000\n",
            "Epoch 4/5\n",
            "5445/5445 [==============================] - 51s 9ms/step - loss: 0.7322 - accuracy: 0.7471 - val_loss: 1.4967 - val_accuracy: 0.5231\n",
            "Epoch 5/5\n",
            "5445/5445 [==============================] - 48s 9ms/step - loss: 0.5095 - accuracy: 0.8296 - val_loss: 1.6841 - val_accuracy: 0.5099\n"
          ],
          "name": "stdout"
        }
      ]
    },
    {
      "cell_type": "markdown",
      "metadata": {
        "id": "5RHVWsUovgJE",
        "colab_type": "text"
      },
      "source": [
        "**No improvement, raising batch_size to 20 when fitting.\n",
        "Lstm units set to 50**\n",
        "\n",
        "---\n",
        "\n"
      ]
    },
    {
      "cell_type": "code",
      "metadata": {
        "id": "uhujvBCUvnZM",
        "colab_type": "code",
        "colab": {
          "base_uri": "https://localhost:8080/",
          "height": 442
        },
        "outputId": "25aee8ed-d4bc-4b16-8858-b1b3742de108"
      },
      "source": [
        "model3_lstm = Sequential\n",
        "vocab_size = 10000\n",
        "embedding_dim = 64\n",
        "max_length = 100\n",
        "trunc_type = 'post'\n",
        "padding_type = 'post'\n",
        "from keras.layers import Dropout\n",
        "\n",
        "combine3 = [train_df,dev_df]\n",
        "frames3 = pd.concat(combine3)\n",
        "\n",
        "tokenizer3 = Tokenizer( num_words=vocab_size)\n",
        "label_tokenizer3 = Tokenizer()\n",
        "\n",
        "tokenizer3.fit_on_texts(frames3['Text'])\n",
        "labels3= pd.get_dummies(frames3['Labels'])\n",
        "\n",
        "\n",
        "\n",
        "sequences3 = tokenizer3.texts_to_sequences(frames3['Text'])\n",
        "padded3 = pad_sequences(sequences3,maxlen=max_length,padding=padding_type,truncating=trunc_type)\n",
        "print(padded3.shape)\n",
        "\n",
        "model3_lstm = Sequential()\n",
        "model3_lstm.add(Embedding(vocab_size,embedding_dim,input_length=padded3.shape[1]))\n",
        "model3_lstm.add(LSTM(50,dropout=0.2, recurrent_dropout=0.2))\n",
        "model3_lstm.add(layers.Dense(9,activation='softmax'))\n",
        "\n",
        "model3_lstm.compile(loss='categorical_crossentropy', optimizer='adam', metrics=['accuracy'])\n",
        "model3_lstm.summary()\n",
        "\n",
        "print(padded3[0])\n",
        "\n",
        "X_train, X_test, Y_train, Y_test = train_test_split(padded3,labels3, test_size = 0.20)\n",
        "print(X_train.shape,Y_train.shape)\n",
        "print(X_test.shape,Y_test.shape)"
      ],
      "execution_count": 132,
      "outputs": [
        {
          "output_type": "stream",
          "text": [
            "(6051, 100)\n",
            "Model: \"sequential_62\"\n",
            "_________________________________________________________________\n",
            "Layer (type)                 Output Shape              Param #   \n",
            "=================================================================\n",
            "embedding_55 (Embedding)     (None, 100, 64)           640000    \n",
            "_________________________________________________________________\n",
            "lstm_54 (LSTM)               (None, 50)                23000     \n",
            "_________________________________________________________________\n",
            "dense_66 (Dense)             (None, 9)                 459       \n",
            "=================================================================\n",
            "Total params: 663,459\n",
            "Trainable params: 663,459\n",
            "Non-trainable params: 0\n",
            "_________________________________________________________________\n",
            "[3605 6269   83  710  151 2721  112 8627 9379 1876 1314 2397  164  355\n",
            " 1085  769   33    3 1501    1  160  603 2139    2  336  248 4259 3532\n",
            "    2    1 3233   13 2139 1653 1845 6361    1  127 5226  809  119 3234\n",
            " 2276  781  986   98 2625 4309  933   71  283 4760   41 5023    9    3\n",
            "  601   69 5899 9379   95   79  530   97  769 1955  653 1041  781 3894\n",
            "   97    9    3 2669 2492  781 1270 1747 2056  476    3 8627   19   84\n",
            "  842  208  769  274   71   70 2398 1501    1   78   17   69 1209   51\n",
            "    8   84]\n",
            "(4840, 100) (4840, 9)\n",
            "(1211, 100) (1211, 9)\n"
          ],
          "name": "stdout"
        }
      ]
    },
    {
      "cell_type": "code",
      "metadata": {
        "id": "gN0M-7YOxh8w",
        "colab_type": "code",
        "colab": {
          "base_uri": "https://localhost:8080/",
          "height": 258
        },
        "outputId": "ffefebee-2788-40b6-a8cc-6fc1150a550b"
      },
      "source": [
        "history_lstm3 = model3_lstm.fit(padded3,labels3,epochs=5,batch_size=20,validation_split=0.1)"
      ],
      "execution_count": 133,
      "outputs": [
        {
          "output_type": "stream",
          "text": [
            "/usr/local/lib/python3.6/dist-packages/tensorflow/python/framework/indexed_slices.py:434: UserWarning: Converting sparse IndexedSlices to a dense Tensor of unknown shape. This may consume a large amount of memory.\n",
            "  \"Converting sparse IndexedSlices to a dense Tensor of unknown shape. \"\n"
          ],
          "name": "stderr"
        },
        {
          "output_type": "stream",
          "text": [
            "Train on 5445 samples, validate on 606 samples\n",
            "Epoch 1/5\n",
            "5445/5445 [==============================] - 21s 4ms/step - loss: 1.7815 - accuracy: 0.3658 - val_loss: 1.5896 - val_accuracy: 0.4455\n",
            "Epoch 2/5\n",
            "5445/5445 [==============================] - 19s 4ms/step - loss: 1.4851 - accuracy: 0.4711 - val_loss: 1.4430 - val_accuracy: 0.4835\n",
            "Epoch 3/5\n",
            "5445/5445 [==============================] - 20s 4ms/step - loss: 1.2411 - accuracy: 0.5352 - val_loss: 1.3842 - val_accuracy: 0.4439\n",
            "Epoch 4/5\n",
            "5445/5445 [==============================] - 19s 4ms/step - loss: 1.0375 - accuracy: 0.6184 - val_loss: 1.4294 - val_accuracy: 0.4917\n",
            "Epoch 5/5\n",
            "5445/5445 [==============================] - 19s 4ms/step - loss: 0.8782 - accuracy: 0.6876 - val_loss: 1.5116 - val_accuracy: 0.4934\n"
          ],
          "name": "stdout"
        }
      ]
    },
    {
      "cell_type": "markdown",
      "metadata": {
        "id": "ItQY33tMJBph",
        "colab_type": "text"
      },
      "source": [
        "**Original model seems to work the best, but couldnt manage to squeeze out a good accuracy from any of them. **\n",
        "**Ville Komulainen, Milestone 1**"
      ]
    }
  ]
}