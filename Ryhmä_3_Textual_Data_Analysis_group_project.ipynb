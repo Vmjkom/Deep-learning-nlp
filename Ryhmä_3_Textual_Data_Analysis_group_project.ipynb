{
  "nbformat": 4,
  "nbformat_minor": 0,
  "metadata": {
    "accelerator": "GPU",
    "colab": {
      "name": "Ryhmä 3_Textual Data Analysis_group_project.ipynb",
      "provenance": [],
      "collapsed_sections": [],
      "toc_visible": true,
      "include_colab_link": true
    },
    "kernelspec": {
      "display_name": "Python 3",
      "language": "python",
      "name": "python3"
    },
    "language_info": {
      "codemirror_mode": {
        "name": "ipython",
        "version": 3
      },
      "file_extension": ".py",
      "mimetype": "text/x-python",
      "name": "python",
      "nbconvert_exporter": "python",
      "pygments_lexer": "ipython3",
      "version": "3.8.3"
    },
    "widgets": {
      "application/vnd.jupyter.widget-state+json": {
        "02576315e15e45a194a702416d97605c": {
          "model_module": "@jupyter-widgets/controls",
          "model_name": "HBoxModel",
          "state": {
            "_view_name": "HBoxView",
            "_dom_classes": [],
            "_model_name": "HBoxModel",
            "_view_module": "@jupyter-widgets/controls",
            "_model_module_version": "1.5.0",
            "_view_count": null,
            "_view_module_version": "1.5.0",
            "box_style": "",
            "layout": "IPY_MODEL_1bd25afe243144d4904038f9a900513f",
            "_model_module": "@jupyter-widgets/controls",
            "children": [
              "IPY_MODEL_00d9460594394451996add3419494b8c",
              "IPY_MODEL_b46815c1d42f44f0a6d6d5d8e0d1b890"
            ]
          }
        },
        "1bd25afe243144d4904038f9a900513f": {
          "model_module": "@jupyter-widgets/base",
          "model_name": "LayoutModel",
          "state": {
            "_view_name": "LayoutView",
            "grid_template_rows": null,
            "right": null,
            "justify_content": null,
            "_view_module": "@jupyter-widgets/base",
            "overflow": null,
            "_model_module_version": "1.2.0",
            "_view_count": null,
            "flex_flow": null,
            "width": null,
            "min_width": null,
            "border": null,
            "align_items": null,
            "bottom": null,
            "_model_module": "@jupyter-widgets/base",
            "top": null,
            "grid_column": null,
            "overflow_y": null,
            "overflow_x": null,
            "grid_auto_flow": null,
            "grid_area": null,
            "grid_template_columns": null,
            "flex": null,
            "_model_name": "LayoutModel",
            "justify_items": null,
            "grid_row": null,
            "max_height": null,
            "align_content": null,
            "visibility": null,
            "align_self": null,
            "height": null,
            "min_height": null,
            "padding": null,
            "grid_auto_rows": null,
            "grid_gap": null,
            "max_width": null,
            "order": null,
            "_view_module_version": "1.2.0",
            "grid_template_areas": null,
            "object_position": null,
            "object_fit": null,
            "grid_auto_columns": null,
            "margin": null,
            "display": null,
            "left": null
          }
        },
        "00d9460594394451996add3419494b8c": {
          "model_module": "@jupyter-widgets/controls",
          "model_name": "FloatProgressModel",
          "state": {
            "_view_name": "ProgressView",
            "style": "IPY_MODEL_498a89500b634012bda9faec1288e13c",
            "_dom_classes": [],
            "description": "100%",
            "_model_name": "FloatProgressModel",
            "bar_style": "success",
            "max": 1574,
            "_view_module": "@jupyter-widgets/controls",
            "_model_module_version": "1.5.0",
            "value": 1574,
            "_view_count": null,
            "_view_module_version": "1.5.0",
            "orientation": "horizontal",
            "min": 0,
            "description_tooltip": null,
            "_model_module": "@jupyter-widgets/controls",
            "layout": "IPY_MODEL_802eaeba08a54629a2754b6134f2356a"
          }
        },
        "b46815c1d42f44f0a6d6d5d8e0d1b890": {
          "model_module": "@jupyter-widgets/controls",
          "model_name": "HTMLModel",
          "state": {
            "_view_name": "HTMLView",
            "style": "IPY_MODEL_c085d886e2324f2682acda19c77a79b5",
            "_dom_classes": [],
            "description": "",
            "_model_name": "HTMLModel",
            "placeholder": "​",
            "_view_module": "@jupyter-widgets/controls",
            "_model_module_version": "1.5.0",
            "value": " 1574/1574 [00:00&lt;00:00, 2305.45ex/s]",
            "_view_count": null,
            "_view_module_version": "1.5.0",
            "description_tooltip": null,
            "_model_module": "@jupyter-widgets/controls",
            "layout": "IPY_MODEL_1e4935891d344c38b78ef0c3454ab8ab"
          }
        },
        "498a89500b634012bda9faec1288e13c": {
          "model_module": "@jupyter-widgets/controls",
          "model_name": "ProgressStyleModel",
          "state": {
            "_view_name": "StyleView",
            "_model_name": "ProgressStyleModel",
            "description_width": "initial",
            "_view_module": "@jupyter-widgets/base",
            "_model_module_version": "1.5.0",
            "_view_count": null,
            "_view_module_version": "1.2.0",
            "bar_color": null,
            "_model_module": "@jupyter-widgets/controls"
          }
        },
        "802eaeba08a54629a2754b6134f2356a": {
          "model_module": "@jupyter-widgets/base",
          "model_name": "LayoutModel",
          "state": {
            "_view_name": "LayoutView",
            "grid_template_rows": null,
            "right": null,
            "justify_content": null,
            "_view_module": "@jupyter-widgets/base",
            "overflow": null,
            "_model_module_version": "1.2.0",
            "_view_count": null,
            "flex_flow": null,
            "width": null,
            "min_width": null,
            "border": null,
            "align_items": null,
            "bottom": null,
            "_model_module": "@jupyter-widgets/base",
            "top": null,
            "grid_column": null,
            "overflow_y": null,
            "overflow_x": null,
            "grid_auto_flow": null,
            "grid_area": null,
            "grid_template_columns": null,
            "flex": null,
            "_model_name": "LayoutModel",
            "justify_items": null,
            "grid_row": null,
            "max_height": null,
            "align_content": null,
            "visibility": null,
            "align_self": null,
            "height": null,
            "min_height": null,
            "padding": null,
            "grid_auto_rows": null,
            "grid_gap": null,
            "max_width": null,
            "order": null,
            "_view_module_version": "1.2.0",
            "grid_template_areas": null,
            "object_position": null,
            "object_fit": null,
            "grid_auto_columns": null,
            "margin": null,
            "display": null,
            "left": null
          }
        },
        "c085d886e2324f2682acda19c77a79b5": {
          "model_module": "@jupyter-widgets/controls",
          "model_name": "DescriptionStyleModel",
          "state": {
            "_view_name": "StyleView",
            "_model_name": "DescriptionStyleModel",
            "description_width": "",
            "_view_module": "@jupyter-widgets/base",
            "_model_module_version": "1.5.0",
            "_view_count": null,
            "_view_module_version": "1.2.0",
            "_model_module": "@jupyter-widgets/controls"
          }
        },
        "1e4935891d344c38b78ef0c3454ab8ab": {
          "model_module": "@jupyter-widgets/base",
          "model_name": "LayoutModel",
          "state": {
            "_view_name": "LayoutView",
            "grid_template_rows": null,
            "right": null,
            "justify_content": null,
            "_view_module": "@jupyter-widgets/base",
            "overflow": null,
            "_model_module_version": "1.2.0",
            "_view_count": null,
            "flex_flow": null,
            "width": null,
            "min_width": null,
            "border": null,
            "align_items": null,
            "bottom": null,
            "_model_module": "@jupyter-widgets/base",
            "top": null,
            "grid_column": null,
            "overflow_y": null,
            "overflow_x": null,
            "grid_auto_flow": null,
            "grid_area": null,
            "grid_template_columns": null,
            "flex": null,
            "_model_name": "LayoutModel",
            "justify_items": null,
            "grid_row": null,
            "max_height": null,
            "align_content": null,
            "visibility": null,
            "align_self": null,
            "height": null,
            "min_height": null,
            "padding": null,
            "grid_auto_rows": null,
            "grid_gap": null,
            "max_width": null,
            "order": null,
            "_view_module_version": "1.2.0",
            "grid_template_areas": null,
            "object_position": null,
            "object_fit": null,
            "grid_auto_columns": null,
            "margin": null,
            "display": null,
            "left": null
          }
        },
        "9c4cc2f5b6f740c0b3d7c4bb0aa8152b": {
          "model_module": "@jupyter-widgets/controls",
          "model_name": "HBoxModel",
          "state": {
            "_view_name": "HBoxView",
            "_dom_classes": [],
            "_model_name": "HBoxModel",
            "_view_module": "@jupyter-widgets/controls",
            "_model_module_version": "1.5.0",
            "_view_count": null,
            "_view_module_version": "1.5.0",
            "box_style": "",
            "layout": "IPY_MODEL_73383c4476704b3c89e33602f090b061",
            "_model_module": "@jupyter-widgets/controls",
            "children": [
              "IPY_MODEL_82113ac1944344328b5a263c662b9b44",
              "IPY_MODEL_bfae882fe49b4b5a834be8f99060d4ab"
            ]
          }
        },
        "73383c4476704b3c89e33602f090b061": {
          "model_module": "@jupyter-widgets/base",
          "model_name": "LayoutModel",
          "state": {
            "_view_name": "LayoutView",
            "grid_template_rows": null,
            "right": null,
            "justify_content": null,
            "_view_module": "@jupyter-widgets/base",
            "overflow": null,
            "_model_module_version": "1.2.0",
            "_view_count": null,
            "flex_flow": null,
            "width": null,
            "min_width": null,
            "border": null,
            "align_items": null,
            "bottom": null,
            "_model_module": "@jupyter-widgets/base",
            "top": null,
            "grid_column": null,
            "overflow_y": null,
            "overflow_x": null,
            "grid_auto_flow": null,
            "grid_area": null,
            "grid_template_columns": null,
            "flex": null,
            "_model_name": "LayoutModel",
            "justify_items": null,
            "grid_row": null,
            "max_height": null,
            "align_content": null,
            "visibility": null,
            "align_self": null,
            "height": null,
            "min_height": null,
            "padding": null,
            "grid_auto_rows": null,
            "grid_gap": null,
            "max_width": null,
            "order": null,
            "_view_module_version": "1.2.0",
            "grid_template_areas": null,
            "object_position": null,
            "object_fit": null,
            "grid_auto_columns": null,
            "margin": null,
            "display": null,
            "left": null
          }
        },
        "82113ac1944344328b5a263c662b9b44": {
          "model_module": "@jupyter-widgets/controls",
          "model_name": "FloatProgressModel",
          "state": {
            "_view_name": "ProgressView",
            "style": "IPY_MODEL_caeddec4a9684942a1e260cda9c6cf0f",
            "_dom_classes": [],
            "description": "100%",
            "_model_name": "FloatProgressModel",
            "bar_style": "success",
            "max": 197,
            "_view_module": "@jupyter-widgets/controls",
            "_model_module_version": "1.5.0",
            "value": 197,
            "_view_count": null,
            "_view_module_version": "1.5.0",
            "orientation": "horizontal",
            "min": 0,
            "description_tooltip": null,
            "_model_module": "@jupyter-widgets/controls",
            "layout": "IPY_MODEL_5f3eefa85d544e82adef118022903843"
          }
        },
        "bfae882fe49b4b5a834be8f99060d4ab": {
          "model_module": "@jupyter-widgets/controls",
          "model_name": "HTMLModel",
          "state": {
            "_view_name": "HTMLView",
            "style": "IPY_MODEL_7af5cedf9f62467ba95e334d7332e36c",
            "_dom_classes": [],
            "description": "",
            "_model_name": "HTMLModel",
            "placeholder": "​",
            "_view_module": "@jupyter-widgets/controls",
            "_model_module_version": "1.5.0",
            "value": " 197/197 [00:22&lt;00:00,  8.65ex/s]",
            "_view_count": null,
            "_view_module_version": "1.5.0",
            "description_tooltip": null,
            "_model_module": "@jupyter-widgets/controls",
            "layout": "IPY_MODEL_66c376c61c314ac9a4a74bf1de44e809"
          }
        },
        "caeddec4a9684942a1e260cda9c6cf0f": {
          "model_module": "@jupyter-widgets/controls",
          "model_name": "ProgressStyleModel",
          "state": {
            "_view_name": "StyleView",
            "_model_name": "ProgressStyleModel",
            "description_width": "initial",
            "_view_module": "@jupyter-widgets/base",
            "_model_module_version": "1.5.0",
            "_view_count": null,
            "_view_module_version": "1.2.0",
            "bar_color": null,
            "_model_module": "@jupyter-widgets/controls"
          }
        },
        "5f3eefa85d544e82adef118022903843": {
          "model_module": "@jupyter-widgets/base",
          "model_name": "LayoutModel",
          "state": {
            "_view_name": "LayoutView",
            "grid_template_rows": null,
            "right": null,
            "justify_content": null,
            "_view_module": "@jupyter-widgets/base",
            "overflow": null,
            "_model_module_version": "1.2.0",
            "_view_count": null,
            "flex_flow": null,
            "width": null,
            "min_width": null,
            "border": null,
            "align_items": null,
            "bottom": null,
            "_model_module": "@jupyter-widgets/base",
            "top": null,
            "grid_column": null,
            "overflow_y": null,
            "overflow_x": null,
            "grid_auto_flow": null,
            "grid_area": null,
            "grid_template_columns": null,
            "flex": null,
            "_model_name": "LayoutModel",
            "justify_items": null,
            "grid_row": null,
            "max_height": null,
            "align_content": null,
            "visibility": null,
            "align_self": null,
            "height": null,
            "min_height": null,
            "padding": null,
            "grid_auto_rows": null,
            "grid_gap": null,
            "max_width": null,
            "order": null,
            "_view_module_version": "1.2.0",
            "grid_template_areas": null,
            "object_position": null,
            "object_fit": null,
            "grid_auto_columns": null,
            "margin": null,
            "display": null,
            "left": null
          }
        },
        "7af5cedf9f62467ba95e334d7332e36c": {
          "model_module": "@jupyter-widgets/controls",
          "model_name": "DescriptionStyleModel",
          "state": {
            "_view_name": "StyleView",
            "_model_name": "DescriptionStyleModel",
            "description_width": "",
            "_view_module": "@jupyter-widgets/base",
            "_model_module_version": "1.5.0",
            "_view_count": null,
            "_view_module_version": "1.2.0",
            "_model_module": "@jupyter-widgets/controls"
          }
        },
        "66c376c61c314ac9a4a74bf1de44e809": {
          "model_module": "@jupyter-widgets/base",
          "model_name": "LayoutModel",
          "state": {
            "_view_name": "LayoutView",
            "grid_template_rows": null,
            "right": null,
            "justify_content": null,
            "_view_module": "@jupyter-widgets/base",
            "overflow": null,
            "_model_module_version": "1.2.0",
            "_view_count": null,
            "flex_flow": null,
            "width": null,
            "min_width": null,
            "border": null,
            "align_items": null,
            "bottom": null,
            "_model_module": "@jupyter-widgets/base",
            "top": null,
            "grid_column": null,
            "overflow_y": null,
            "overflow_x": null,
            "grid_auto_flow": null,
            "grid_area": null,
            "grid_template_columns": null,
            "flex": null,
            "_model_name": "LayoutModel",
            "justify_items": null,
            "grid_row": null,
            "max_height": null,
            "align_content": null,
            "visibility": null,
            "align_self": null,
            "height": null,
            "min_height": null,
            "padding": null,
            "grid_auto_rows": null,
            "grid_gap": null,
            "max_width": null,
            "order": null,
            "_view_module_version": "1.2.0",
            "grid_template_areas": null,
            "object_position": null,
            "object_fit": null,
            "grid_auto_columns": null,
            "margin": null,
            "display": null,
            "left": null
          }
        },
        "4c94b61f3cc4466484cd6e7f3cf10b93": {
          "model_module": "@jupyter-widgets/controls",
          "model_name": "HBoxModel",
          "state": {
            "_view_name": "HBoxView",
            "_dom_classes": [],
            "_model_name": "HBoxModel",
            "_view_module": "@jupyter-widgets/controls",
            "_model_module_version": "1.5.0",
            "_view_count": null,
            "_view_module_version": "1.5.0",
            "box_style": "",
            "layout": "IPY_MODEL_9cb7e355d53c441db7f2d113911ba6f9",
            "_model_module": "@jupyter-widgets/controls",
            "children": [
              "IPY_MODEL_825a8bc6bf5d4641972c224bf27c5cc7",
              "IPY_MODEL_1fa9d7607c2a45db9fdc1297de36c756"
            ]
          }
        },
        "9cb7e355d53c441db7f2d113911ba6f9": {
          "model_module": "@jupyter-widgets/base",
          "model_name": "LayoutModel",
          "state": {
            "_view_name": "LayoutView",
            "grid_template_rows": null,
            "right": null,
            "justify_content": null,
            "_view_module": "@jupyter-widgets/base",
            "overflow": null,
            "_model_module_version": "1.2.0",
            "_view_count": null,
            "flex_flow": null,
            "width": null,
            "min_width": null,
            "border": null,
            "align_items": null,
            "bottom": null,
            "_model_module": "@jupyter-widgets/base",
            "top": null,
            "grid_column": null,
            "overflow_y": null,
            "overflow_x": null,
            "grid_auto_flow": null,
            "grid_area": null,
            "grid_template_columns": null,
            "flex": null,
            "_model_name": "LayoutModel",
            "justify_items": null,
            "grid_row": null,
            "max_height": null,
            "align_content": null,
            "visibility": null,
            "align_self": null,
            "height": null,
            "min_height": null,
            "padding": null,
            "grid_auto_rows": null,
            "grid_gap": null,
            "max_width": null,
            "order": null,
            "_view_module_version": "1.2.0",
            "grid_template_areas": null,
            "object_position": null,
            "object_fit": null,
            "grid_auto_columns": null,
            "margin": null,
            "display": null,
            "left": null
          }
        },
        "825a8bc6bf5d4641972c224bf27c5cc7": {
          "model_module": "@jupyter-widgets/controls",
          "model_name": "FloatProgressModel",
          "state": {
            "_view_name": "ProgressView",
            "style": "IPY_MODEL_f5b7665e22da4fea9492b9e6fa1fa694",
            "_dom_classes": [],
            "description": "100%",
            "_model_name": "FloatProgressModel",
            "bar_style": "success",
            "max": 197,
            "_view_module": "@jupyter-widgets/controls",
            "_model_module_version": "1.5.0",
            "value": 197,
            "_view_count": null,
            "_view_module_version": "1.5.0",
            "orientation": "horizontal",
            "min": 0,
            "description_tooltip": null,
            "_model_module": "@jupyter-widgets/controls",
            "layout": "IPY_MODEL_cb409fc636c44125ac33bd535edc497b"
          }
        },
        "1fa9d7607c2a45db9fdc1297de36c756": {
          "model_module": "@jupyter-widgets/controls",
          "model_name": "HTMLModel",
          "state": {
            "_view_name": "HTMLView",
            "style": "IPY_MODEL_e861538768054143ab67600c912dd85d",
            "_dom_classes": [],
            "description": "",
            "_model_name": "HTMLModel",
            "placeholder": "​",
            "_view_module": "@jupyter-widgets/controls",
            "_model_module_version": "1.5.0",
            "value": " 197/197 [00:22&lt;00:00,  8.71ex/s]",
            "_view_count": null,
            "_view_module_version": "1.5.0",
            "description_tooltip": null,
            "_model_module": "@jupyter-widgets/controls",
            "layout": "IPY_MODEL_7ebcd37fd70f4ea7beebbca7a166319c"
          }
        },
        "f5b7665e22da4fea9492b9e6fa1fa694": {
          "model_module": "@jupyter-widgets/controls",
          "model_name": "ProgressStyleModel",
          "state": {
            "_view_name": "StyleView",
            "_model_name": "ProgressStyleModel",
            "description_width": "initial",
            "_view_module": "@jupyter-widgets/base",
            "_model_module_version": "1.5.0",
            "_view_count": null,
            "_view_module_version": "1.2.0",
            "bar_color": null,
            "_model_module": "@jupyter-widgets/controls"
          }
        },
        "cb409fc636c44125ac33bd535edc497b": {
          "model_module": "@jupyter-widgets/base",
          "model_name": "LayoutModel",
          "state": {
            "_view_name": "LayoutView",
            "grid_template_rows": null,
            "right": null,
            "justify_content": null,
            "_view_module": "@jupyter-widgets/base",
            "overflow": null,
            "_model_module_version": "1.2.0",
            "_view_count": null,
            "flex_flow": null,
            "width": null,
            "min_width": null,
            "border": null,
            "align_items": null,
            "bottom": null,
            "_model_module": "@jupyter-widgets/base",
            "top": null,
            "grid_column": null,
            "overflow_y": null,
            "overflow_x": null,
            "grid_auto_flow": null,
            "grid_area": null,
            "grid_template_columns": null,
            "flex": null,
            "_model_name": "LayoutModel",
            "justify_items": null,
            "grid_row": null,
            "max_height": null,
            "align_content": null,
            "visibility": null,
            "align_self": null,
            "height": null,
            "min_height": null,
            "padding": null,
            "grid_auto_rows": null,
            "grid_gap": null,
            "max_width": null,
            "order": null,
            "_view_module_version": "1.2.0",
            "grid_template_areas": null,
            "object_position": null,
            "object_fit": null,
            "grid_auto_columns": null,
            "margin": null,
            "display": null,
            "left": null
          }
        },
        "e861538768054143ab67600c912dd85d": {
          "model_module": "@jupyter-widgets/controls",
          "model_name": "DescriptionStyleModel",
          "state": {
            "_view_name": "StyleView",
            "_model_name": "DescriptionStyleModel",
            "description_width": "",
            "_view_module": "@jupyter-widgets/base",
            "_model_module_version": "1.5.0",
            "_view_count": null,
            "_view_module_version": "1.2.0",
            "_model_module": "@jupyter-widgets/controls"
          }
        },
        "7ebcd37fd70f4ea7beebbca7a166319c": {
          "model_module": "@jupyter-widgets/base",
          "model_name": "LayoutModel",
          "state": {
            "_view_name": "LayoutView",
            "grid_template_rows": null,
            "right": null,
            "justify_content": null,
            "_view_module": "@jupyter-widgets/base",
            "overflow": null,
            "_model_module_version": "1.2.0",
            "_view_count": null,
            "flex_flow": null,
            "width": null,
            "min_width": null,
            "border": null,
            "align_items": null,
            "bottom": null,
            "_model_module": "@jupyter-widgets/base",
            "top": null,
            "grid_column": null,
            "overflow_y": null,
            "overflow_x": null,
            "grid_auto_flow": null,
            "grid_area": null,
            "grid_template_columns": null,
            "flex": null,
            "_model_name": "LayoutModel",
            "justify_items": null,
            "grid_row": null,
            "max_height": null,
            "align_content": null,
            "visibility": null,
            "align_self": null,
            "height": null,
            "min_height": null,
            "padding": null,
            "grid_auto_rows": null,
            "grid_gap": null,
            "max_width": null,
            "order": null,
            "_view_module_version": "1.2.0",
            "grid_template_areas": null,
            "object_position": null,
            "object_fit": null,
            "grid_auto_columns": null,
            "margin": null,
            "display": null,
            "left": null
          }
        },
        "90392de9a1a443b8817d4c19c897121e": {
          "model_module": "@jupyter-widgets/controls",
          "model_name": "HBoxModel",
          "state": {
            "_view_name": "HBoxView",
            "_dom_classes": [],
            "_model_name": "HBoxModel",
            "_view_module": "@jupyter-widgets/controls",
            "_model_module_version": "1.5.0",
            "_view_count": null,
            "_view_module_version": "1.5.0",
            "box_style": "",
            "layout": "IPY_MODEL_f7c502b2640f4bdbad99cbe9638cd4dd",
            "_model_module": "@jupyter-widgets/controls",
            "children": [
              "IPY_MODEL_4ba9afd7a1b84b7986f37ea4565beabc",
              "IPY_MODEL_6273eab299b24edca5765cccce592785"
            ]
          }
        },
        "f7c502b2640f4bdbad99cbe9638cd4dd": {
          "model_module": "@jupyter-widgets/base",
          "model_name": "LayoutModel",
          "state": {
            "_view_name": "LayoutView",
            "grid_template_rows": null,
            "right": null,
            "justify_content": null,
            "_view_module": "@jupyter-widgets/base",
            "overflow": null,
            "_model_module_version": "1.2.0",
            "_view_count": null,
            "flex_flow": null,
            "width": null,
            "min_width": null,
            "border": null,
            "align_items": null,
            "bottom": null,
            "_model_module": "@jupyter-widgets/base",
            "top": null,
            "grid_column": null,
            "overflow_y": null,
            "overflow_x": null,
            "grid_auto_flow": null,
            "grid_area": null,
            "grid_template_columns": null,
            "flex": null,
            "_model_name": "LayoutModel",
            "justify_items": null,
            "grid_row": null,
            "max_height": null,
            "align_content": null,
            "visibility": null,
            "align_self": null,
            "height": null,
            "min_height": null,
            "padding": null,
            "grid_auto_rows": null,
            "grid_gap": null,
            "max_width": null,
            "order": null,
            "_view_module_version": "1.2.0",
            "grid_template_areas": null,
            "object_position": null,
            "object_fit": null,
            "grid_auto_columns": null,
            "margin": null,
            "display": null,
            "left": null
          }
        },
        "4ba9afd7a1b84b7986f37ea4565beabc": {
          "model_module": "@jupyter-widgets/controls",
          "model_name": "FloatProgressModel",
          "state": {
            "_view_name": "ProgressView",
            "style": "IPY_MODEL_17d1481a17d54ec6aafb3ba068513ee5",
            "_dom_classes": [],
            "description": "100%",
            "_model_name": "FloatProgressModel",
            "bar_style": "success",
            "max": 1574,
            "_view_module": "@jupyter-widgets/controls",
            "_model_module_version": "1.5.0",
            "value": 1574,
            "_view_count": null,
            "_view_module_version": "1.5.0",
            "orientation": "horizontal",
            "min": 0,
            "description_tooltip": null,
            "_model_module": "@jupyter-widgets/controls",
            "layout": "IPY_MODEL_dc9463f15bb54b11a20935345e4d95bf"
          }
        },
        "6273eab299b24edca5765cccce592785": {
          "model_module": "@jupyter-widgets/controls",
          "model_name": "HTMLModel",
          "state": {
            "_view_name": "HTMLView",
            "style": "IPY_MODEL_d372bff4d6724720b6af2f8b4e85e2b0",
            "_dom_classes": [],
            "description": "",
            "_model_name": "HTMLModel",
            "placeholder": "​",
            "_view_module": "@jupyter-widgets/controls",
            "_model_module_version": "1.5.0",
            "value": " 1574/1574 [00:00&lt;00:00, 2227.90ex/s]",
            "_view_count": null,
            "_view_module_version": "1.5.0",
            "description_tooltip": null,
            "_model_module": "@jupyter-widgets/controls",
            "layout": "IPY_MODEL_7e1353b68e7448d3a14663911b874fc7"
          }
        },
        "17d1481a17d54ec6aafb3ba068513ee5": {
          "model_module": "@jupyter-widgets/controls",
          "model_name": "ProgressStyleModel",
          "state": {
            "_view_name": "StyleView",
            "_model_name": "ProgressStyleModel",
            "description_width": "initial",
            "_view_module": "@jupyter-widgets/base",
            "_model_module_version": "1.5.0",
            "_view_count": null,
            "_view_module_version": "1.2.0",
            "bar_color": null,
            "_model_module": "@jupyter-widgets/controls"
          }
        },
        "dc9463f15bb54b11a20935345e4d95bf": {
          "model_module": "@jupyter-widgets/base",
          "model_name": "LayoutModel",
          "state": {
            "_view_name": "LayoutView",
            "grid_template_rows": null,
            "right": null,
            "justify_content": null,
            "_view_module": "@jupyter-widgets/base",
            "overflow": null,
            "_model_module_version": "1.2.0",
            "_view_count": null,
            "flex_flow": null,
            "width": null,
            "min_width": null,
            "border": null,
            "align_items": null,
            "bottom": null,
            "_model_module": "@jupyter-widgets/base",
            "top": null,
            "grid_column": null,
            "overflow_y": null,
            "overflow_x": null,
            "grid_auto_flow": null,
            "grid_area": null,
            "grid_template_columns": null,
            "flex": null,
            "_model_name": "LayoutModel",
            "justify_items": null,
            "grid_row": null,
            "max_height": null,
            "align_content": null,
            "visibility": null,
            "align_self": null,
            "height": null,
            "min_height": null,
            "padding": null,
            "grid_auto_rows": null,
            "grid_gap": null,
            "max_width": null,
            "order": null,
            "_view_module_version": "1.2.0",
            "grid_template_areas": null,
            "object_position": null,
            "object_fit": null,
            "grid_auto_columns": null,
            "margin": null,
            "display": null,
            "left": null
          }
        },
        "d372bff4d6724720b6af2f8b4e85e2b0": {
          "model_module": "@jupyter-widgets/controls",
          "model_name": "DescriptionStyleModel",
          "state": {
            "_view_name": "StyleView",
            "_model_name": "DescriptionStyleModel",
            "description_width": "",
            "_view_module": "@jupyter-widgets/base",
            "_model_module_version": "1.5.0",
            "_view_count": null,
            "_view_module_version": "1.2.0",
            "_model_module": "@jupyter-widgets/controls"
          }
        },
        "7e1353b68e7448d3a14663911b874fc7": {
          "model_module": "@jupyter-widgets/base",
          "model_name": "LayoutModel",
          "state": {
            "_view_name": "LayoutView",
            "grid_template_rows": null,
            "right": null,
            "justify_content": null,
            "_view_module": "@jupyter-widgets/base",
            "overflow": null,
            "_model_module_version": "1.2.0",
            "_view_count": null,
            "flex_flow": null,
            "width": null,
            "min_width": null,
            "border": null,
            "align_items": null,
            "bottom": null,
            "_model_module": "@jupyter-widgets/base",
            "top": null,
            "grid_column": null,
            "overflow_y": null,
            "overflow_x": null,
            "grid_auto_flow": null,
            "grid_area": null,
            "grid_template_columns": null,
            "flex": null,
            "_model_name": "LayoutModel",
            "justify_items": null,
            "grid_row": null,
            "max_height": null,
            "align_content": null,
            "visibility": null,
            "align_self": null,
            "height": null,
            "min_height": null,
            "padding": null,
            "grid_auto_rows": null,
            "grid_gap": null,
            "max_width": null,
            "order": null,
            "_view_module_version": "1.2.0",
            "grid_template_areas": null,
            "object_position": null,
            "object_fit": null,
            "grid_auto_columns": null,
            "margin": null,
            "display": null,
            "left": null
          }
        },
        "3a5f7288286e4aafb04b7a1816190d54": {
          "model_module": "@jupyter-widgets/controls",
          "model_name": "HBoxModel",
          "state": {
            "_view_name": "HBoxView",
            "_dom_classes": [],
            "_model_name": "HBoxModel",
            "_view_module": "@jupyter-widgets/controls",
            "_model_module_version": "1.5.0",
            "_view_count": null,
            "_view_module_version": "1.5.0",
            "box_style": "",
            "layout": "IPY_MODEL_4dbb3de338d546d09655b391b743297a",
            "_model_module": "@jupyter-widgets/controls",
            "children": [
              "IPY_MODEL_d5321a336ddc4b55ab20e3baba1e4310",
              "IPY_MODEL_0ded205c2314448ebd0975bc8c657b97"
            ]
          }
        },
        "4dbb3de338d546d09655b391b743297a": {
          "model_module": "@jupyter-widgets/base",
          "model_name": "LayoutModel",
          "state": {
            "_view_name": "LayoutView",
            "grid_template_rows": null,
            "right": null,
            "justify_content": null,
            "_view_module": "@jupyter-widgets/base",
            "overflow": null,
            "_model_module_version": "1.2.0",
            "_view_count": null,
            "flex_flow": null,
            "width": null,
            "min_width": null,
            "border": null,
            "align_items": null,
            "bottom": null,
            "_model_module": "@jupyter-widgets/base",
            "top": null,
            "grid_column": null,
            "overflow_y": null,
            "overflow_x": null,
            "grid_auto_flow": null,
            "grid_area": null,
            "grid_template_columns": null,
            "flex": null,
            "_model_name": "LayoutModel",
            "justify_items": null,
            "grid_row": null,
            "max_height": null,
            "align_content": null,
            "visibility": null,
            "align_self": null,
            "height": null,
            "min_height": null,
            "padding": null,
            "grid_auto_rows": null,
            "grid_gap": null,
            "max_width": null,
            "order": null,
            "_view_module_version": "1.2.0",
            "grid_template_areas": null,
            "object_position": null,
            "object_fit": null,
            "grid_auto_columns": null,
            "margin": null,
            "display": null,
            "left": null
          }
        },
        "d5321a336ddc4b55ab20e3baba1e4310": {
          "model_module": "@jupyter-widgets/controls",
          "model_name": "FloatProgressModel",
          "state": {
            "_view_name": "ProgressView",
            "style": "IPY_MODEL_bc807b8187a84bc783f1768711809914",
            "_dom_classes": [],
            "description": "100%",
            "_model_name": "FloatProgressModel",
            "bar_style": "success",
            "max": 197,
            "_view_module": "@jupyter-widgets/controls",
            "_model_module_version": "1.5.0",
            "value": 197,
            "_view_count": null,
            "_view_module_version": "1.5.0",
            "orientation": "horizontal",
            "min": 0,
            "description_tooltip": null,
            "_model_module": "@jupyter-widgets/controls",
            "layout": "IPY_MODEL_b1e76adb2b5f4a4d9e59d27ec3fe8220"
          }
        },
        "0ded205c2314448ebd0975bc8c657b97": {
          "model_module": "@jupyter-widgets/controls",
          "model_name": "HTMLModel",
          "state": {
            "_view_name": "HTMLView",
            "style": "IPY_MODEL_8d47551e642742e7b0b1ee08838e51e4",
            "_dom_classes": [],
            "description": "",
            "_model_name": "HTMLModel",
            "placeholder": "​",
            "_view_module": "@jupyter-widgets/controls",
            "_model_module_version": "1.5.0",
            "value": " 197/197 [00:04&lt;00:00, 44.40ex/s]",
            "_view_count": null,
            "_view_module_version": "1.5.0",
            "description_tooltip": null,
            "_model_module": "@jupyter-widgets/controls",
            "layout": "IPY_MODEL_dc6167e2e8f541fd8ebf4bf1e5972ec9"
          }
        },
        "bc807b8187a84bc783f1768711809914": {
          "model_module": "@jupyter-widgets/controls",
          "model_name": "ProgressStyleModel",
          "state": {
            "_view_name": "StyleView",
            "_model_name": "ProgressStyleModel",
            "description_width": "initial",
            "_view_module": "@jupyter-widgets/base",
            "_model_module_version": "1.5.0",
            "_view_count": null,
            "_view_module_version": "1.2.0",
            "bar_color": null,
            "_model_module": "@jupyter-widgets/controls"
          }
        },
        "b1e76adb2b5f4a4d9e59d27ec3fe8220": {
          "model_module": "@jupyter-widgets/base",
          "model_name": "LayoutModel",
          "state": {
            "_view_name": "LayoutView",
            "grid_template_rows": null,
            "right": null,
            "justify_content": null,
            "_view_module": "@jupyter-widgets/base",
            "overflow": null,
            "_model_module_version": "1.2.0",
            "_view_count": null,
            "flex_flow": null,
            "width": null,
            "min_width": null,
            "border": null,
            "align_items": null,
            "bottom": null,
            "_model_module": "@jupyter-widgets/base",
            "top": null,
            "grid_column": null,
            "overflow_y": null,
            "overflow_x": null,
            "grid_auto_flow": null,
            "grid_area": null,
            "grid_template_columns": null,
            "flex": null,
            "_model_name": "LayoutModel",
            "justify_items": null,
            "grid_row": null,
            "max_height": null,
            "align_content": null,
            "visibility": null,
            "align_self": null,
            "height": null,
            "min_height": null,
            "padding": null,
            "grid_auto_rows": null,
            "grid_gap": null,
            "max_width": null,
            "order": null,
            "_view_module_version": "1.2.0",
            "grid_template_areas": null,
            "object_position": null,
            "object_fit": null,
            "grid_auto_columns": null,
            "margin": null,
            "display": null,
            "left": null
          }
        },
        "8d47551e642742e7b0b1ee08838e51e4": {
          "model_module": "@jupyter-widgets/controls",
          "model_name": "DescriptionStyleModel",
          "state": {
            "_view_name": "StyleView",
            "_model_name": "DescriptionStyleModel",
            "description_width": "",
            "_view_module": "@jupyter-widgets/base",
            "_model_module_version": "1.5.0",
            "_view_count": null,
            "_view_module_version": "1.2.0",
            "_model_module": "@jupyter-widgets/controls"
          }
        },
        "dc6167e2e8f541fd8ebf4bf1e5972ec9": {
          "model_module": "@jupyter-widgets/base",
          "model_name": "LayoutModel",
          "state": {
            "_view_name": "LayoutView",
            "grid_template_rows": null,
            "right": null,
            "justify_content": null,
            "_view_module": "@jupyter-widgets/base",
            "overflow": null,
            "_model_module_version": "1.2.0",
            "_view_count": null,
            "flex_flow": null,
            "width": null,
            "min_width": null,
            "border": null,
            "align_items": null,
            "bottom": null,
            "_model_module": "@jupyter-widgets/base",
            "top": null,
            "grid_column": null,
            "overflow_y": null,
            "overflow_x": null,
            "grid_auto_flow": null,
            "grid_area": null,
            "grid_template_columns": null,
            "flex": null,
            "_model_name": "LayoutModel",
            "justify_items": null,
            "grid_row": null,
            "max_height": null,
            "align_content": null,
            "visibility": null,
            "align_self": null,
            "height": null,
            "min_height": null,
            "padding": null,
            "grid_auto_rows": null,
            "grid_gap": null,
            "max_width": null,
            "order": null,
            "_view_module_version": "1.2.0",
            "grid_template_areas": null,
            "object_position": null,
            "object_fit": null,
            "grid_auto_columns": null,
            "margin": null,
            "display": null,
            "left": null
          }
        },
        "39a07d54bc3e4ce0803032f7b3c0abc4": {
          "model_module": "@jupyter-widgets/controls",
          "model_name": "HBoxModel",
          "state": {
            "_view_name": "HBoxView",
            "_dom_classes": [],
            "_model_name": "HBoxModel",
            "_view_module": "@jupyter-widgets/controls",
            "_model_module_version": "1.5.0",
            "_view_count": null,
            "_view_module_version": "1.5.0",
            "box_style": "",
            "layout": "IPY_MODEL_d588022154ea424ab334e0f1a4492ae5",
            "_model_module": "@jupyter-widgets/controls",
            "children": [
              "IPY_MODEL_58f85924c23e4ff0b9f3bc874355dceb",
              "IPY_MODEL_bdea5f2840334d94960a7221530e99b8"
            ]
          }
        },
        "d588022154ea424ab334e0f1a4492ae5": {
          "model_module": "@jupyter-widgets/base",
          "model_name": "LayoutModel",
          "state": {
            "_view_name": "LayoutView",
            "grid_template_rows": null,
            "right": null,
            "justify_content": null,
            "_view_module": "@jupyter-widgets/base",
            "overflow": null,
            "_model_module_version": "1.2.0",
            "_view_count": null,
            "flex_flow": null,
            "width": null,
            "min_width": null,
            "border": null,
            "align_items": null,
            "bottom": null,
            "_model_module": "@jupyter-widgets/base",
            "top": null,
            "grid_column": null,
            "overflow_y": null,
            "overflow_x": null,
            "grid_auto_flow": null,
            "grid_area": null,
            "grid_template_columns": null,
            "flex": null,
            "_model_name": "LayoutModel",
            "justify_items": null,
            "grid_row": null,
            "max_height": null,
            "align_content": null,
            "visibility": null,
            "align_self": null,
            "height": null,
            "min_height": null,
            "padding": null,
            "grid_auto_rows": null,
            "grid_gap": null,
            "max_width": null,
            "order": null,
            "_view_module_version": "1.2.0",
            "grid_template_areas": null,
            "object_position": null,
            "object_fit": null,
            "grid_auto_columns": null,
            "margin": null,
            "display": null,
            "left": null
          }
        },
        "58f85924c23e4ff0b9f3bc874355dceb": {
          "model_module": "@jupyter-widgets/controls",
          "model_name": "FloatProgressModel",
          "state": {
            "_view_name": "ProgressView",
            "style": "IPY_MODEL_a9ba10400db74c35849de72323d46e99",
            "_dom_classes": [],
            "description": "100%",
            "_model_name": "FloatProgressModel",
            "bar_style": "success",
            "max": 197,
            "_view_module": "@jupyter-widgets/controls",
            "_model_module_version": "1.5.0",
            "value": 197,
            "_view_count": null,
            "_view_module_version": "1.5.0",
            "orientation": "horizontal",
            "min": 0,
            "description_tooltip": null,
            "_model_module": "@jupyter-widgets/controls",
            "layout": "IPY_MODEL_3ba6a6bba16947549d34fd669fe46083"
          }
        },
        "bdea5f2840334d94960a7221530e99b8": {
          "model_module": "@jupyter-widgets/controls",
          "model_name": "HTMLModel",
          "state": {
            "_view_name": "HTMLView",
            "style": "IPY_MODEL_a6ef2e96f8de4b8bb36e3cff35a0458c",
            "_dom_classes": [],
            "description": "",
            "_model_name": "HTMLModel",
            "placeholder": "​",
            "_view_module": "@jupyter-widgets/controls",
            "_model_module_version": "1.5.0",
            "value": " 197/197 [00:04&lt;00:00, 45.83ex/s]",
            "_view_count": null,
            "_view_module_version": "1.5.0",
            "description_tooltip": null,
            "_model_module": "@jupyter-widgets/controls",
            "layout": "IPY_MODEL_fe076ba76c28409da832967229a3cfbb"
          }
        },
        "a9ba10400db74c35849de72323d46e99": {
          "model_module": "@jupyter-widgets/controls",
          "model_name": "ProgressStyleModel",
          "state": {
            "_view_name": "StyleView",
            "_model_name": "ProgressStyleModel",
            "description_width": "initial",
            "_view_module": "@jupyter-widgets/base",
            "_model_module_version": "1.5.0",
            "_view_count": null,
            "_view_module_version": "1.2.0",
            "bar_color": null,
            "_model_module": "@jupyter-widgets/controls"
          }
        },
        "3ba6a6bba16947549d34fd669fe46083": {
          "model_module": "@jupyter-widgets/base",
          "model_name": "LayoutModel",
          "state": {
            "_view_name": "LayoutView",
            "grid_template_rows": null,
            "right": null,
            "justify_content": null,
            "_view_module": "@jupyter-widgets/base",
            "overflow": null,
            "_model_module_version": "1.2.0",
            "_view_count": null,
            "flex_flow": null,
            "width": null,
            "min_width": null,
            "border": null,
            "align_items": null,
            "bottom": null,
            "_model_module": "@jupyter-widgets/base",
            "top": null,
            "grid_column": null,
            "overflow_y": null,
            "overflow_x": null,
            "grid_auto_flow": null,
            "grid_area": null,
            "grid_template_columns": null,
            "flex": null,
            "_model_name": "LayoutModel",
            "justify_items": null,
            "grid_row": null,
            "max_height": null,
            "align_content": null,
            "visibility": null,
            "align_self": null,
            "height": null,
            "min_height": null,
            "padding": null,
            "grid_auto_rows": null,
            "grid_gap": null,
            "max_width": null,
            "order": null,
            "_view_module_version": "1.2.0",
            "grid_template_areas": null,
            "object_position": null,
            "object_fit": null,
            "grid_auto_columns": null,
            "margin": null,
            "display": null,
            "left": null
          }
        },
        "a6ef2e96f8de4b8bb36e3cff35a0458c": {
          "model_module": "@jupyter-widgets/controls",
          "model_name": "DescriptionStyleModel",
          "state": {
            "_view_name": "StyleView",
            "_model_name": "DescriptionStyleModel",
            "description_width": "",
            "_view_module": "@jupyter-widgets/base",
            "_model_module_version": "1.5.0",
            "_view_count": null,
            "_view_module_version": "1.2.0",
            "_model_module": "@jupyter-widgets/controls"
          }
        },
        "fe076ba76c28409da832967229a3cfbb": {
          "model_module": "@jupyter-widgets/base",
          "model_name": "LayoutModel",
          "state": {
            "_view_name": "LayoutView",
            "grid_template_rows": null,
            "right": null,
            "justify_content": null,
            "_view_module": "@jupyter-widgets/base",
            "overflow": null,
            "_model_module_version": "1.2.0",
            "_view_count": null,
            "flex_flow": null,
            "width": null,
            "min_width": null,
            "border": null,
            "align_items": null,
            "bottom": null,
            "_model_module": "@jupyter-widgets/base",
            "top": null,
            "grid_column": null,
            "overflow_y": null,
            "overflow_x": null,
            "grid_auto_flow": null,
            "grid_area": null,
            "grid_template_columns": null,
            "flex": null,
            "_model_name": "LayoutModel",
            "justify_items": null,
            "grid_row": null,
            "max_height": null,
            "align_content": null,
            "visibility": null,
            "align_self": null,
            "height": null,
            "min_height": null,
            "padding": null,
            "grid_auto_rows": null,
            "grid_gap": null,
            "max_width": null,
            "order": null,
            "_view_module_version": "1.2.0",
            "grid_template_areas": null,
            "object_position": null,
            "object_fit": null,
            "grid_auto_columns": null,
            "margin": null,
            "display": null,
            "left": null
          }
        },
        "99b59e179dd44355b6a668e7e8682ed6": {
          "model_module": "@jupyter-widgets/controls",
          "model_name": "HBoxModel",
          "state": {
            "_view_name": "HBoxView",
            "_dom_classes": [],
            "_model_name": "HBoxModel",
            "_view_module": "@jupyter-widgets/controls",
            "_model_module_version": "1.5.0",
            "_view_count": null,
            "_view_module_version": "1.5.0",
            "box_style": "",
            "layout": "IPY_MODEL_5e29ad305b9246b7a9fb585b7ce44596",
            "_model_module": "@jupyter-widgets/controls",
            "children": [
              "IPY_MODEL_77344af610274422bc2ccaf24c8d8ccd",
              "IPY_MODEL_9aed30a5aba440c4a1f0021c7cdfc1e4"
            ]
          }
        },
        "5e29ad305b9246b7a9fb585b7ce44596": {
          "model_module": "@jupyter-widgets/base",
          "model_name": "LayoutModel",
          "state": {
            "_view_name": "LayoutView",
            "grid_template_rows": null,
            "right": null,
            "justify_content": null,
            "_view_module": "@jupyter-widgets/base",
            "overflow": null,
            "_model_module_version": "1.2.0",
            "_view_count": null,
            "flex_flow": null,
            "width": null,
            "min_width": null,
            "border": null,
            "align_items": null,
            "bottom": null,
            "_model_module": "@jupyter-widgets/base",
            "top": null,
            "grid_column": null,
            "overflow_y": null,
            "overflow_x": null,
            "grid_auto_flow": null,
            "grid_area": null,
            "grid_template_columns": null,
            "flex": null,
            "_model_name": "LayoutModel",
            "justify_items": null,
            "grid_row": null,
            "max_height": null,
            "align_content": null,
            "visibility": null,
            "align_self": null,
            "height": null,
            "min_height": null,
            "padding": null,
            "grid_auto_rows": null,
            "grid_gap": null,
            "max_width": null,
            "order": null,
            "_view_module_version": "1.2.0",
            "grid_template_areas": null,
            "object_position": null,
            "object_fit": null,
            "grid_auto_columns": null,
            "margin": null,
            "display": null,
            "left": null
          }
        },
        "77344af610274422bc2ccaf24c8d8ccd": {
          "model_module": "@jupyter-widgets/controls",
          "model_name": "FloatProgressModel",
          "state": {
            "_view_name": "ProgressView",
            "style": "IPY_MODEL_8efbd323207c4d83b7ac012c14351cc1",
            "_dom_classes": [],
            "description": "100%",
            "_model_name": "FloatProgressModel",
            "bar_style": "success",
            "max": 100000,
            "_view_module": "@jupyter-widgets/controls",
            "_model_module_version": "1.5.0",
            "value": 100000,
            "_view_count": null,
            "_view_module_version": "1.5.0",
            "orientation": "horizontal",
            "min": 0,
            "description_tooltip": null,
            "_model_module": "@jupyter-widgets/controls",
            "layout": "IPY_MODEL_caa3dd7a0b7c4133b88e6f3c3e993db7"
          }
        },
        "9aed30a5aba440c4a1f0021c7cdfc1e4": {
          "model_module": "@jupyter-widgets/controls",
          "model_name": "HTMLModel",
          "state": {
            "_view_name": "HTMLView",
            "style": "IPY_MODEL_d4425dae074d482aab83667c7c43547b",
            "_dom_classes": [],
            "description": "",
            "_model_name": "HTMLModel",
            "placeholder": "​",
            "_view_module": "@jupyter-widgets/controls",
            "_model_module_version": "1.5.0",
            "value": " 100000/100000 [01:16&lt;00:00, 1304.56ex/s]",
            "_view_count": null,
            "_view_module_version": "1.5.0",
            "description_tooltip": null,
            "_model_module": "@jupyter-widgets/controls",
            "layout": "IPY_MODEL_8f54b33ff74a4129979058c42c13ff51"
          }
        },
        "8efbd323207c4d83b7ac012c14351cc1": {
          "model_module": "@jupyter-widgets/controls",
          "model_name": "ProgressStyleModel",
          "state": {
            "_view_name": "StyleView",
            "_model_name": "ProgressStyleModel",
            "description_width": "initial",
            "_view_module": "@jupyter-widgets/base",
            "_model_module_version": "1.5.0",
            "_view_count": null,
            "_view_module_version": "1.2.0",
            "bar_color": null,
            "_model_module": "@jupyter-widgets/controls"
          }
        },
        "caa3dd7a0b7c4133b88e6f3c3e993db7": {
          "model_module": "@jupyter-widgets/base",
          "model_name": "LayoutModel",
          "state": {
            "_view_name": "LayoutView",
            "grid_template_rows": null,
            "right": null,
            "justify_content": null,
            "_view_module": "@jupyter-widgets/base",
            "overflow": null,
            "_model_module_version": "1.2.0",
            "_view_count": null,
            "flex_flow": null,
            "width": null,
            "min_width": null,
            "border": null,
            "align_items": null,
            "bottom": null,
            "_model_module": "@jupyter-widgets/base",
            "top": null,
            "grid_column": null,
            "overflow_y": null,
            "overflow_x": null,
            "grid_auto_flow": null,
            "grid_area": null,
            "grid_template_columns": null,
            "flex": null,
            "_model_name": "LayoutModel",
            "justify_items": null,
            "grid_row": null,
            "max_height": null,
            "align_content": null,
            "visibility": null,
            "align_self": null,
            "height": null,
            "min_height": null,
            "padding": null,
            "grid_auto_rows": null,
            "grid_gap": null,
            "max_width": null,
            "order": null,
            "_view_module_version": "1.2.0",
            "grid_template_areas": null,
            "object_position": null,
            "object_fit": null,
            "grid_auto_columns": null,
            "margin": null,
            "display": null,
            "left": null
          }
        },
        "d4425dae074d482aab83667c7c43547b": {
          "model_module": "@jupyter-widgets/controls",
          "model_name": "DescriptionStyleModel",
          "state": {
            "_view_name": "StyleView",
            "_model_name": "DescriptionStyleModel",
            "description_width": "",
            "_view_module": "@jupyter-widgets/base",
            "_model_module_version": "1.5.0",
            "_view_count": null,
            "_view_module_version": "1.2.0",
            "_model_module": "@jupyter-widgets/controls"
          }
        },
        "8f54b33ff74a4129979058c42c13ff51": {
          "model_module": "@jupyter-widgets/base",
          "model_name": "LayoutModel",
          "state": {
            "_view_name": "LayoutView",
            "grid_template_rows": null,
            "right": null,
            "justify_content": null,
            "_view_module": "@jupyter-widgets/base",
            "overflow": null,
            "_model_module_version": "1.2.0",
            "_view_count": null,
            "flex_flow": null,
            "width": null,
            "min_width": null,
            "border": null,
            "align_items": null,
            "bottom": null,
            "_model_module": "@jupyter-widgets/base",
            "top": null,
            "grid_column": null,
            "overflow_y": null,
            "overflow_x": null,
            "grid_auto_flow": null,
            "grid_area": null,
            "grid_template_columns": null,
            "flex": null,
            "_model_name": "LayoutModel",
            "justify_items": null,
            "grid_row": null,
            "max_height": null,
            "align_content": null,
            "visibility": null,
            "align_self": null,
            "height": null,
            "min_height": null,
            "padding": null,
            "grid_auto_rows": null,
            "grid_gap": null,
            "max_width": null,
            "order": null,
            "_view_module_version": "1.2.0",
            "grid_template_areas": null,
            "object_position": null,
            "object_fit": null,
            "grid_auto_columns": null,
            "margin": null,
            "display": null,
            "left": null
          }
        }
      }
    }
  },
  "cells": [
    {
      "cell_type": "markdown",
      "metadata": {
        "id": "view-in-github",
        "colab_type": "text"
      },
      "source": [
        "<a href=\"https://colab.research.google.com/github/Vmjkom/Deep-learning-nlp/blob/master/Ryhm%C3%A4_3_Textual_Data_Analysis_group_project.ipynb\" target=\"_parent\"><img src=\"https://colab.research.google.com/assets/colab-badge.svg\" alt=\"Open In Colab\"/></a>"
      ]
    },
    {
      "cell_type": "markdown",
      "metadata": {
        "id": "G41o-7RU6Xgx"
      },
      "source": [
        "Ryhmän jäsenet: Nimi, opnro\n",
        "\n",
        "Ville Komulainen, 519246 (Lead contributions on milestone 3 and parts of milestone 2, supporting role in the rest)\n",
        "\n",
        "Hanna Kitti, 523087 (Lead contributions on milestone 2, supporting role on other milestones)\n",
        "\n",
        "Kukka Vainio, 520261 (Supportive role on all the milestones, contributed thoughts in text form about the data and used methods)\n",
        "\n",
        "Saara Kaltiomaa, 519209 (Supportive role on all the milestones, contributed to the analysis of the test performance and the outputs.)\n",
        "\n"
      ]
    },
    {
      "cell_type": "markdown",
      "metadata": {
        "id": "Xdfpgeo4vSs3"
      },
      "source": [
        "# Instructions"
      ]
    },
    {
      "cell_type": "markdown",
      "metadata": {
        "id": "SCxSDcuRcp-P"
      },
      "source": [
        "In this notebook implement a machine learning-based information extraction system that identifies binary relations stated to hold between specific named entities mentioned in the same sentence (e.g. PERSON founded ORGANIZATION). \n",
        "\n",
        "The projects is divided into three milestones:\n",
        "\n",
        " * Milestone 1: Manual relation annotation using texts and tool \n",
        "provided by course organizers.\n",
        "\n",
        " * Milestone 2: Implementation of machine-learning based method for relation extraction. \n",
        "\n",
        " * Milestone 3: Large-scale application, assessment and and error analysis of method implemented in milestone 2.\n",
        "\n",
        "Each group is expected to prepare a report on their work. Reports can be in any broadly supported format (e.g. PDF or Python notebook) and should include both the code implementing the project (separate .py files are OK) as well as a textual description of the project and its results.\n",
        "\n",
        "The contribution of each member of the group should be varied across all the facets of the project, and the project report should include a statement on what the contribution of each member towards each milestone was.\n",
        "\n",
        "Additional guidance from Discord:\n",
        "\n",
        "\"For milestone 2, the minimum for \"completing\" will be outperforming the majority baseline, which will hopefully not be particularly challenging. For the additional point, going the extra mile in terms like considering multiple metrics, models, or **input representations** and/or doing hyperparameter optimization count. For milestone 3, the minimum for \"complete\" is successfully applying the model to a larger set of new data and **reporting some meaningful descriptive metrics about the result, and for the extra point e.g. error analysis or comparing different model variants will suffice**. Basically, if you've successfully completed all milestones, can show effort beyond the minimum at each, and have written up your work in a reasonable way, you can expect to receive full points\""
      ]
    },
    {
      "cell_type": "markdown",
      "metadata": {
        "id": "PKjG5UlObCZs"
      },
      "source": [
        "### Relation extraction system task formulation\n",
        "\n",
        "This description of ML task formulation is from UTU Textual Data analysis [course material](https://colab.research.google.com/github/TurkuNLP/Text_Mining_Course/blob/master/Relation%20extraction.ipynb#scrollTo=PKjG5UlObCZs)\n",
        "\n",
        "Given manually annotated examples where each consists of\n",
        "\n",
        "* Document text $d$\n",
        "* Two entity mentions in that document, $m_1$ and $m_2$\n",
        "* Relation type (e.g. `employee`) or `NONE` to signify no relation\n",
        "\n",
        "relation extraction can be formulated as a classification task by creating an representation of the mentions $m_1$ and $m_2$ in their context ($d$) as input and the relation type (or `NONE`) as output. (Note that this assumes at most one relation type holds per entity pair.)\n",
        "\n",
        "In previous state-of-the-art approaches, considerable effort was invested into creating representations of the mentions in context for ML methods, frequently involving e.g. carefully engineered representations of dependency paths.\n",
        "\n",
        "Fortunately for us, with recent Transformer-based approaches such as BERT, these representations can be simplified into marking the entities in the original text in some way, and providing the text with marked entities to the model as input.\n",
        "\n",
        "For example, given\n",
        "\n",
        "* Document text $d$ = `Bill Gates and Paul Allen founded Microsoft`\n",
        "* Mentions $m_1$ = `(0, 10, PERSON, Bill Gates)` and $m_2$ = `(34, 43, ORG, Microsoft)`\n",
        "* Relation type `founder`\n",
        "\n",
        "We could formulate the classification example e.g. as\n",
        "\n",
        "* input: `PERSON and Paul Allen founded ORGANIZATION`\n",
        "* output: `founder`\n",
        "\n",
        "Here using the literal type strings `PERSON` and `ORGANIZATION` to mark the two mentions under consideration. (Note that other mentions in context are not marked.)\n",
        "\n",
        "(**Project work** As the course project involves implementing a relation extraction system along the lines outlined above, we will not provide an implementation here. You may find the previously covered notebooks on text classification helpful as references for your implementation.)\n",
        "\n",
        "Machine learning means the \"rules\" for solving the given task are learned from examples, they are not explicitly written."
      ]
    },
    {
      "cell_type": "markdown",
      "metadata": {
        "id": "LozxZ3q-4GFT"
      },
      "source": [
        "##Milestone 1\n",
        "\n",
        "Initial thoughts during annotation phase:\n",
        "- A large number of samples that deal with sports topics (being a member of a team, transferring to a team, coaching etc.)  model might do well with sport-related data, but does it get too little practice with other topics?\n",
        "- Some quite bad and even unsuitable text samples, e.g. long lists of people’s names without any sentence structure or even samples in other languages like German  still not a significant amount and most discarded during the annotation progress\n",
        "- Relatively often we encountered samples where the named entities were tagged wrong\n",
        "- We also pondered how consistent the four of us were as annotators. If our annotations are not mutually consistent, the model is trained with contradictory data, which might lead to low quality performance.\n",
        "\n"
      ]
    },
    {
      "cell_type": "markdown",
      "metadata": {
        "id": "G-tnOQtcNKB_"
      },
      "source": [
        "# Imports "
      ]
    },
    {
      "cell_type": "code",
      "metadata": {
        "id": "0diw_aLGXAB4"
      },
      "source": [
        "!pip --quiet install datasets\n",
        "!pip --quiet install transformers"
      ],
      "execution_count": 1,
      "outputs": []
    },
    {
      "cell_type": "code",
      "metadata": {
        "id": "A8jjSxZszfnp"
      },
      "source": [
        "import matplotlib.pyplot as plt\n",
        "import numpy as np\n",
        "import pandas as pd\n",
        "import re\n",
        "import seaborn as sns\n",
        "import torch\n",
        "\n",
        "from datasets import Dataset, DatasetDict, ClassLabel, Value, Features, load_dataset\n",
        "from transformers import AutoModelForSequenceClassification, AutoTokenizer, EarlyStoppingCallback, TrainingArguments, Trainer\n",
        "from sklearn.metrics import confusion_matrix"
      ],
      "execution_count": 2,
      "outputs": []
    },
    {
      "cell_type": "markdown",
      "metadata": {
        "id": "kxxJebYYvIce"
      },
      "source": [
        "# MS 2: Implementation of machine-learning based method for relation extraction. "
      ]
    },
    {
      "cell_type": "code",
      "metadata": {
        "id": "498_bEVsdDOL"
      },
      "source": [
        "!wget -q -nc http://dl.turkunlp.org/TKO_8964_2021/PER-ORG-relations-combined-group-3.tsv\n"
      ],
      "execution_count": 3,
      "outputs": []
    },
    {
      "cell_type": "code",
      "metadata": {
        "id": "X3zJjNjpdrFU"
      },
      "source": [
        "\n",
        "def open_file(file):\n",
        "  df = pd.read_csv(file, sep='\\t', header=None)\n",
        "  df = df.rename(columns={0: 'id', 1: 'label', 2: 'document'})\n",
        "  df = df.drop('id', axis=1)\n",
        "  return df\n",
        "\n",
        "data = open_file('PER-ORG-relations-combined-group-3.tsv')\n"
      ],
      "execution_count": 4,
      "outputs": []
    },
    {
      "cell_type": "markdown",
      "metadata": {
        "id": "DL99JUU1e5TL"
      },
      "source": [
        "## Explore the data"
      ]
    },
    {
      "cell_type": "code",
      "metadata": {
        "colab": {
          "base_uri": "https://localhost:8080/",
          "height": 279
        },
        "id": "ZEULB8Twh-TH",
        "outputId": "c2e99794-84df-4e12-a183-40ede2fd44a2"
      },
      "source": [
        "sns.countplot(data=data, x='label');"
      ],
      "execution_count": 5,
      "outputs": [
        {
          "output_type": "display_data",
          "data": {
            "image/png": "[encoded data removed]",
            "text/plain": [
              "<Figure size 432x288 with 1 Axes>"
            ]
          },
          "metadata": {
            "tags": [],
            "needs_background": "light"
          }
        }
      ]
    },
    {
      "cell_type": "markdown",
      "metadata": {
        "id": "TEY5me93jecr"
      },
      "source": [
        "The data is rather balanced since the sizes of the two classes seem to be equal. This is a good starting point for training the model."
      ]
    },
    {
      "cell_type": "code",
      "metadata": {
        "colab": {
          "base_uri": "https://localhost:8080/"
        },
        "id": "Avbs3UKGe4-n",
        "outputId": "a7381042-50c4-4948-b37c-a4226021670b"
      },
      "source": [
        "# We have these classes in the data\n",
        "set(data['label'])"
      ],
      "execution_count": 6,
      "outputs": [
        {
          "output_type": "execute_result",
          "data": {
            "text/plain": [
              "{'accept', 'reject'}"
            ]
          },
          "metadata": {
            "tags": []
          },
          "execution_count": 6
        }
      ]
    },
    {
      "cell_type": "code",
      "metadata": {
        "colab": {
          "base_uri": "https://localhost:8080/"
        },
        "id": "Q16OKRd4fIXS",
        "outputId": "f21de12a-95eb-4862-dc3a-291ca605c110"
      },
      "source": [
        "# print a sample of the data\n",
        "\n",
        "for i in range(0,2000,300):\n",
        "  print(data['label'][i], '\\t', data['document'][i])\n",
        "  print()"
      ],
      "execution_count": 7,
      "outputs": [
        {
          "output_type": "stream",
          "text": [
            "accept \t Vuonna 2003 <PERSON>di Grassi</PERSON> ajoi Etelä - Amerikan F3 - sarjaa , jossa hän oli sarjan kakkonen ja samana vuonna hän ajoi myös Formula 3 Eurosarjaa , jossa hän oli loppupisteissä 21 . Vuonna 2004 di Grassi ajoi Britannian <ORG>F3</ORG> - sarjaa , jossa hän sijoittui loppupisteissä kahdeksanneksi .\n",
            "\n",
            "accept \t <ORG>HePoa</ORG> oli edustamassa varapuheenjohtaja <PERSON>Marjut Ollitervo</PERSON> .\n",
            "\n",
            "accept \t <ORG>Arkansasin hallinnon</ORG> työntekijä <PERSON>Paula Jones</PERSON> syytti vuonna 1994 Clintonia vuonna 1991 hotellihuoneessa tapahtuneesta ahdistelusta .\n",
            "\n",
            "accept \t Ihan mielenkiinnosta kysyn , että mikä on <PERSON>Keijo Säilynojan</PERSON> rooli <ORG>Jokerien</ORG> toimitusjohtajana ?\n",
            "\n",
            "reject \t <ORG>NHL : n</ORG> tähdistöottelussa <PERSON>Belfour</PERSON> pelasi viisi kertaa , vuosina 1992 , 1993 , 1996 , 1998 ja 1999 .\n",
            "\n",
            "accept \t Siirtyminen politiikkaan <PERSON>Johnson</PERSON> toimi opettajana <ORG>Houston High Schoolissa</ORG> .\n",
            "\n",
            "accept \t ( <ORG>TS : n</ORG> edustajina 100 - vuotisjuhlassa olivat Ari - Pekka Hyrkäs ja <PERSON>Heli Veivo</PERSON> . )\n",
            "\n"
          ],
          "name": "stdout"
        }
      ]
    },
    {
      "cell_type": "markdown",
      "metadata": {
        "id": "EIIHOjopgTSG"
      },
      "source": [
        "In the input data \"documents\" we can see the tags signaling named entities:\n",
        "\n",
        "\n",
        "*   `<ORG> ORGANIZATION </ORG>`\n",
        "*   `<PERSON> PERSON </PERSON>`\n",
        "\n",
        "These NER (Named Entity Recognition) tags are used in language modeling to recognize permanent entities and relations between them. "
      ]
    },
    {
      "cell_type": "markdown",
      "metadata": {
        "id": "k1UaZ4lx1cnI"
      },
      "source": [
        "##Preprocessing the data"
      ]
    },
    {
      "cell_type": "markdown",
      "metadata": {
        "id": "yxklF3hhdCoA"
      },
      "source": [
        "### Approach 1"
      ]
    },
    {
      "cell_type": "code",
      "metadata": {
        "colab": {
          "base_uri": "https://localhost:8080/"
        },
        "id": "RCr4mDZTeA1p",
        "outputId": "23de6a70-ad03-49d7-ac15-495fa7ddfa21"
      },
      "source": [
        "pattern_person = r\"<PERSON>.+</PERSON>\" # .+ Matches one or more any charachter\n",
        "docs = [re.sub(pattern_person, \"PERSON\", item) for item in data['document']]\n",
        "\n",
        "pattern_org = r\"<ORG>.+</ORG>\" # .+ Matches one or more any charachter\n",
        "docs = [re.sub(pattern_org, \"ORG\", item) for item in docs]\n",
        "\n",
        "# look at the data now. Is it ok?\n",
        "for i in range(0,2000,300):\n",
        "  print(\"Original:\", data['document'][i])\n",
        "  print(\"Modified:\", docs[i])\n",
        "  print()"
      ],
      "execution_count": 8,
      "outputs": [
        {
          "output_type": "stream",
          "text": [
            "Original: Vuonna 2003 <PERSON>di Grassi</PERSON> ajoi Etelä - Amerikan F3 - sarjaa , jossa hän oli sarjan kakkonen ja samana vuonna hän ajoi myös Formula 3 Eurosarjaa , jossa hän oli loppupisteissä 21 . Vuonna 2004 di Grassi ajoi Britannian <ORG>F3</ORG> - sarjaa , jossa hän sijoittui loppupisteissä kahdeksanneksi .\n",
            "Modified: Vuonna 2003 PERSON ajoi Etelä - Amerikan F3 - sarjaa , jossa hän oli sarjan kakkonen ja samana vuonna hän ajoi myös Formula 3 Eurosarjaa , jossa hän oli loppupisteissä 21 . Vuonna 2004 di Grassi ajoi Britannian ORG - sarjaa , jossa hän sijoittui loppupisteissä kahdeksanneksi .\n",
            "\n",
            "Original: <ORG>HePoa</ORG> oli edustamassa varapuheenjohtaja <PERSON>Marjut Ollitervo</PERSON> .\n",
            "Modified: ORG oli edustamassa varapuheenjohtaja PERSON .\n",
            "\n",
            "Original: <ORG>Arkansasin hallinnon</ORG> työntekijä <PERSON>Paula Jones</PERSON> syytti vuonna 1994 Clintonia vuonna 1991 hotellihuoneessa tapahtuneesta ahdistelusta .\n",
            "Modified: ORG työntekijä PERSON syytti vuonna 1994 Clintonia vuonna 1991 hotellihuoneessa tapahtuneesta ahdistelusta .\n",
            "\n",
            "Original: Ihan mielenkiinnosta kysyn , että mikä on <PERSON>Keijo Säilynojan</PERSON> rooli <ORG>Jokerien</ORG> toimitusjohtajana ?\n",
            "Modified: Ihan mielenkiinnosta kysyn , että mikä on PERSON rooli ORG toimitusjohtajana ?\n",
            "\n",
            "Original: <ORG>NHL : n</ORG> tähdistöottelussa <PERSON>Belfour</PERSON> pelasi viisi kertaa , vuosina 1992 , 1993 , 1996 , 1998 ja 1999 .\n",
            "Modified: ORG tähdistöottelussa PERSON pelasi viisi kertaa , vuosina 1992 , 1993 , 1996 , 1998 ja 1999 .\n",
            "\n",
            "Original: Siirtyminen politiikkaan <PERSON>Johnson</PERSON> toimi opettajana <ORG>Houston High Schoolissa</ORG> .\n",
            "Modified: Siirtyminen politiikkaan PERSON toimi opettajana ORG .\n",
            "\n",
            "Original: ( <ORG>TS : n</ORG> edustajina 100 - vuotisjuhlassa olivat Ari - Pekka Hyrkäs ja <PERSON>Heli Veivo</PERSON> . )\n",
            "Modified: ( ORG edustajina 100 - vuotisjuhlassa olivat Ari - Pekka Hyrkäs ja PERSON . )\n",
            "\n"
          ],
          "name": "stdout"
        }
      ]
    },
    {
      "cell_type": "markdown",
      "metadata": {
        "id": "Efq3y7zX99ur"
      },
      "source": [
        "### Approach 2"
      ]
    },
    {
      "cell_type": "markdown",
      "metadata": {
        "id": "wGEsiVwq-DF4"
      },
      "source": [
        "We also briefly inspected the option of tagging the entities with BIO-tags (begin, in, out). However we discarded this approach before the model training phase."
      ]
    },
    {
      "cell_type": "code",
      "metadata": {
        "colab": {
          "base_uri": "https://localhost:8080/"
        },
        "id": "68Ekl4nG-F6Y",
        "outputId": "c1a99db9-2f61-45c9-867b-77b6d98a8653"
      },
      "source": [
        "one = data['document'][4]\n",
        "print(one)"
      ],
      "execution_count": 9,
      "outputs": [
        {
          "output_type": "stream",
          "text": [
            "<PERSON>Masol</PERSON> vastusti <ORG>Ukrainan kommunistisen puolueen</ORG> 28 . kokouksen päätöstä Ukrainan suvereniteetista ja siirtymisestä säänneltyyn markkinatalouteen , sekä vaatimuksia Neuvostoliiton hajauttamisesta uudelleen liittosopimuksella .\n"
          ],
          "name": "stdout"
        }
      ]
    },
    {
      "cell_type": "code",
      "metadata": {
        "colab": {
          "base_uri": "https://localhost:8080/"
        },
        "id": "RUUMqg42-Nkz",
        "outputId": "82be1a02-2691-478b-a8ce-bc3b5284bbfd"
      },
      "source": [
        "org_start=0\n",
        "org_end=0\n",
        "\n",
        "per_start=0\n",
        "per_end=0\n",
        "\n",
        "tokens=one.split(\" \")\n",
        "tags = [\"O\"] * len(tokens) # initialize tags: all O at the start\n",
        "print(tokens)\n",
        "\n",
        "for i, t in enumerate(tokens):\n",
        "  if t.startswith(\"<ORG>\"):\n",
        "    org_start=i # starting index (B) of multitoken ORG tag\n",
        "    tags[i]=\"B_ORG\" # replace a tag \n",
        "    tokens[i]=re.sub(r\"<ORG>\", \"\", t) # remove tag from the tokens\n",
        "  if t.endswith(\"</ORG>\"):\n",
        "    org_end=i # ending index of multitoken ORG tag\n",
        "    tokens[i]=re.sub(r\"</ORG>\", \"\", t) # remove tag from the tokens\n",
        "  # all the same but for PER tags instead of ORG tags\n",
        "  if t.startswith(\"<PERSON>\"):\n",
        "    per_start=i\n",
        "    tags[i]=\"B_PER\"\n",
        "    tokens[i]=re.sub(r\"<PERSON>\", \"\", t)\n",
        "  if t.endswith(\"</PERSON>\"):\n",
        "    per_end=i\n",
        "    tokens[i]=re.sub(r\"</PERSON>\", \"\", t)\n",
        "\n",
        "# use the indices collected above to set the in (I) tags\n",
        "org_indexes=list(range(org_start+1, org_end+1))\n",
        "if not org_indexes: # if no indices (i.e. token to be tagged is single)\n",
        "  tokens[org_start]=re.sub(r\"<ORG>\", \"\", tokens[org_start]) # just fix the token\n",
        "else:\n",
        "  for index in org_indexes:\n",
        "    tags[index] = \"I_ORG\"\n",
        "\n",
        "# all the same but for PER tags instead of ORG tags\n",
        "per_indexes=list(range(per_start+1, per_end+1))\n",
        "if not per_indexes: \n",
        "  tokens[per_start]=re.sub(r\"<PERSON>\", \"\", tokens[per_start])\n",
        "for index in per_indexes:\n",
        "    tags[index] = \"I_PER\"\n",
        "\n",
        "for tag, token in zip(tags, tokens):\n",
        "  print(tag, \"\\t\",token)"
      ],
      "execution_count": 10,
      "outputs": [
        {
          "output_type": "stream",
          "text": [
            "['<PERSON>Masol</PERSON>', 'vastusti', '<ORG>Ukrainan', 'kommunistisen', 'puolueen</ORG>', '28', '.', 'kokouksen', 'päätöstä', 'Ukrainan', 'suvereniteetista', 'ja', 'siirtymisestä', 'säänneltyyn', 'markkinatalouteen', ',', 'sekä', 'vaatimuksia', 'Neuvostoliiton', 'hajauttamisesta', 'uudelleen', 'liittosopimuksella', '.']\n",
            "B_PER \t Masol\n",
            "O \t vastusti\n",
            "B_ORG \t Ukrainan\n",
            "I_ORG \t kommunistisen\n",
            "I_ORG \t puolueen\n",
            "O \t 28\n",
            "O \t .\n",
            "O \t kokouksen\n",
            "O \t päätöstä\n",
            "O \t Ukrainan\n",
            "O \t suvereniteetista\n",
            "O \t ja\n",
            "O \t siirtymisestä\n",
            "O \t säänneltyyn\n",
            "O \t markkinatalouteen\n",
            "O \t ,\n",
            "O \t sekä\n",
            "O \t vaatimuksia\n",
            "O \t Neuvostoliiton\n",
            "O \t hajauttamisesta\n",
            "O \t uudelleen\n",
            "O \t liittosopimuksella\n",
            "O \t .\n"
          ],
          "name": "stdout"
        }
      ]
    },
    {
      "cell_type": "markdown",
      "metadata": {
        "id": "s0vmDy-2i6ck"
      },
      "source": [
        "## Gather labels and text data"
      ]
    },
    {
      "cell_type": "markdown",
      "metadata": {
        "id": "BiyAQy929nmp"
      },
      "source": [
        "Now we will make a new dataframe from the preprocessed data and the labels. The labels still need to be worked with."
      ]
    },
    {
      "cell_type": "code",
      "metadata": {
        "colab": {
          "base_uri": "https://localhost:8080/"
        },
        "id": "68DCFMzIBLti",
        "outputId": "d4876c93-01aa-4d0a-f48b-dd28e272c881"
      },
      "source": [
        "labels = data['label']\n",
        "df = pd.DataFrame(list(zip(labels, docs)), columns =['label', 'text'])\n",
        "\n",
        "print(df.head())\n",
        "print()\n",
        "\n",
        "# Replace column values with values given in a dictionary. (Convert string to int.)\n",
        "# Conversion prepares the label data for being converted to ClassLabel...\n",
        "conversion_dict = dict(zip(['accept', 'reject'], [1, 0])) \n",
        "df=df.replace({'label': conversion_dict})\n",
        "print(df.head())"
      ],
      "execution_count": 11,
      "outputs": [
        {
          "output_type": "stream",
          "text": [
            "    label                                               text\n",
            "0  accept  Vuonna 2003 PERSON ajoi Etelä - Amerikan F3 - ...\n",
            "1  accept  ORG puheenjohtaja ja valtiovarainministeri PER...\n",
            "2  accept  PERSON luottamustehtäviin ovat lukeutuneet muu...\n",
            "3  accept  ORG , jonka puheenjohtaja on 2011 lähtien PERS...\n",
            "4  reject  PERSON vastusti ORG 28 . kokouksen päätöstä Uk...\n",
            "\n",
            "   label                                               text\n",
            "0      1  Vuonna 2003 PERSON ajoi Etelä - Amerikan F3 - ...\n",
            "1      1  ORG puheenjohtaja ja valtiovarainministeri PER...\n",
            "2      1  PERSON luottamustehtäviin ovat lukeutuneet muu...\n",
            "3      1  ORG , jonka puheenjohtaja on 2011 lähtien PERS...\n",
            "4      0  PERSON vastusti ORG 28 . kokouksen päätöstä Uk...\n"
          ],
          "name": "stdout"
        }
      ]
    },
    {
      "cell_type": "markdown",
      "metadata": {
        "id": "wf8mT6mXdRBX"
      },
      "source": [
        "## Data to DatasetDict and train-dev-test splits\n"
      ]
    },
    {
      "cell_type": "markdown",
      "metadata": {
        "id": "FqG2VcZBQqoQ"
      },
      "source": [
        "To be sure that the data is in a suitable format for the model we make it a HuggingFace DatasetDict. We used instructions to build a DatasetDict from the [API documentation](https://huggingface.co/docs/datasets/index.html).\n",
        "\n",
        "Additional help for building the dataset (especially the Features) was searched from the [Huggingface dataset repository](https://github.com/huggingface/datasets/tree/master/datasets) and [HuggingFace documentation](https://huggingface.co/docs/datasets/package_reference/main_classes.html#features)."
      ]
    },
    {
      "cell_type": "code",
      "metadata": {
        "colab": {
          "base_uri": "https://localhost:8080/"
        },
        "id": "GzuurhBQHhrg",
        "outputId": "b19e2da4-e50f-4014-d63f-21ee13c339f7"
      },
      "source": [
        "\n",
        "# make a Dataset container for the data\n",
        "dataset = Dataset.from_pandas(df, features=Features( # provide the feature classes to make sure you get what you need\n",
        "    {'text': Value('string'),\n",
        "     'label': ClassLabel(num_classes=2,names=['accept', 'reject']) # values 0 and 1, label names accept and reject\n",
        "     \n",
        "     }\n",
        "     )\n",
        ")\n",
        "\n",
        "for i in range(5):\n",
        "  print(dataset['label'][i], \"\\t\", dataset['text'][i])\n",
        "# Yep, looks good! The format has changed but the contents remain."
      ],
      "execution_count": 12,
      "outputs": [
        {
          "output_type": "stream",
          "text": [
            "1 \t Vuonna 2003 PERSON ajoi Etelä - Amerikan F3 - sarjaa , jossa hän oli sarjan kakkonen ja samana vuonna hän ajoi myös Formula 3 Eurosarjaa , jossa hän oli loppupisteissä 21 . Vuonna 2004 di Grassi ajoi Britannian ORG - sarjaa , jossa hän sijoittui loppupisteissä kahdeksanneksi .\n",
            "1 \t ORG puheenjohtaja ja valtiovarainministeri PERSON on toivonut laajempaa poliittista keskustelua yksinasuvien asemasta ennen seuraavan hallituksen ohjelman muodostamista .\n",
            "1 \t PERSON luottamustehtäviin ovat lukeutuneet muun muassa Coronaria Hoitoketjun , Lamor Groupin , SSH Communications Securityn ja ORG hallitusten puheenjohtajuudet .\n",
            "1 \t ORG , jonka puheenjohtaja on 2011 lähtien PERSON .\n",
            "0 \t PERSON vastusti ORG 28 . kokouksen päätöstä Ukrainan suvereniteetista ja siirtymisestä säänneltyyn markkinatalouteen , sekä vaatimuksia Neuvostoliiton hajauttamisesta uudelleen liittosopimuksella .\n"
          ],
          "name": "stdout"
        }
      ]
    },
    {
      "cell_type": "markdown",
      "metadata": {
        "id": "MSMnB-EzvfgD"
      },
      "source": [
        "Taking a closer look reveals the classes of the features. For classification we do need to have the ClassLabel class."
      ]
    },
    {
      "cell_type": "code",
      "metadata": {
        "colab": {
          "base_uri": "https://localhost:8080/"
        },
        "id": "DmGsE3lertE1",
        "outputId": "c13e3842-bc31-4d63-87a2-2cefb2f0bc69"
      },
      "source": [
        "dataset.features"
      ],
      "execution_count": 13,
      "outputs": [
        {
          "output_type": "execute_result",
          "data": {
            "text/plain": [
              "{'label': ClassLabel(num_classes=2, names=['accept', 'reject'], names_file=None, id=None),\n",
              " 'text': Value(dtype='string', id=None)}"
            ]
          },
          "metadata": {
            "tags": []
          },
          "execution_count": 13
        }
      ]
    },
    {
      "cell_type": "markdown",
      "metadata": {
        "id": "YMTILI12BsOZ"
      },
      "source": [
        "Now we can do the train-dev-test-split. Training data teaches the model, development data gives feedback on the go and test data is the final judgement."
      ]
    },
    {
      "cell_type": "code",
      "metadata": {
        "colab": {
          "base_uri": "https://localhost:8080/"
        },
        "id": "VphRDU7EAxQk",
        "outputId": "eef9bd3e-d34f-46bd-9195-b48a468f15a6"
      },
      "source": [
        "# Split the data first in two parts. Note that this method shuffles the data but it does not do stratification.\n",
        "# Returns a dictionary (datasets.DatsetDict) with two random train and test subsets (train and test Dataset splits).\n",
        "train_test = dataset.train_test_split(test_size=0.2) # 0.3\n",
        "# Split the test data again to gain two datasets: one for development and one for testing\n",
        "test_data = train_test['test'].train_test_split(test_size=0.5) # 0.2\n",
        "\n",
        "# Store the data in a DatasetDict (so we can use a map function later to tokenize the data)\n",
        "dataset = DatasetDict({\n",
        "    'train': train_test['train'],\n",
        "    'development': test_data['test'],\n",
        "    'test': test_data['train']})\n",
        "\n",
        "print(dataset) # check the splits"
      ],
      "execution_count": 14,
      "outputs": [
        {
          "output_type": "stream",
          "text": [
            "DatasetDict({\n",
            "    train: Dataset({\n",
            "        features: ['label', 'text'],\n",
            "        num_rows: 1574\n",
            "    })\n",
            "    development: Dataset({\n",
            "        features: ['label', 'text'],\n",
            "        num_rows: 197\n",
            "    })\n",
            "    test: Dataset({\n",
            "        features: ['label', 'text'],\n",
            "        num_rows: 197\n",
            "    })\n",
            "})\n"
          ],
          "name": "stdout"
        }
      ]
    },
    {
      "cell_type": "code",
      "metadata": {
        "colab": {
          "base_uri": "https://localhost:8080/",
          "height": 336
        },
        "id": "r-_Tle7F3uVj",
        "outputId": "b453d0f4-6964-4972-a53f-7a3a2ed7a1b9"
      },
      "source": [
        "fig, axes  = plt.subplots(1,3, figsize=(10, 5), sharey=True)\n",
        "fig.suptitle(\"\")\n",
        "sns.histplot(ax=axes[0], data=dataset['train']['label'], discrete=True)\n",
        "sns.histplot(ax=axes[1], data=dataset['development']['label'], discrete=True)\n",
        "sns.histplot(ax=axes[2], data=dataset['test']['label'], discrete=True)\n",
        "\n",
        "axes[0].set_title(\"Train\")\n",
        "axes[1].set_title(\"Development\")\n",
        "axes[2].set_title(\"Test\");"
      ],
      "execution_count": 15,
      "outputs": [
        {
          "output_type": "display_data",
          "data": {
            "image/png": "[encoded data removed]",
            "text/plain": [
              "<Figure size 720x360 with 3 Axes>"
            ]
          },
          "metadata": {
            "tags": [],
            "needs_background": "light"
          }
        }
      ]
    },
    {
      "cell_type": "markdown",
      "metadata": {
        "id": "byPs2mWDjjAQ"
      },
      "source": [
        "Label distribution in the splits seems to be in balance."
      ]
    },
    {
      "cell_type": "markdown",
      "metadata": {
        "id": "dzvbrVXY9WpZ"
      },
      "source": [
        "## Import pretrained model and tokenizer"
      ]
    },
    {
      "cell_type": "markdown",
      "metadata": {
        "id": "GT_IXPG7r4-R"
      },
      "source": [
        "We will first use the [cased multilingual BERT model] from google (https://huggingface.co/bert-base-multilingual-cased) from the Hugging Face model repository.  \n",
        "\n",
        "Cased model is case sensitive, which means that words starting with capital letters are not the same as words with lower case. For example  \"House\" is not the same as \"house\". \n"
      ]
    },
    {
      "cell_type": "markdown",
      "metadata": {
        "id": "qgJtn0QuoYzp"
      },
      "source": [
        "## Set the hyperparameters"
      ]
    },
    {
      "cell_type": "code",
      "metadata": {
        "id": "lt3hRKGUrGUN"
      },
      "source": [
        "MODEL_NAME = 'bert-base-multilingual-cased' \n",
        "\n",
        "# Some things to test:\n",
        "# Learning rate{5e-5, 3e-5, 2e-5}and epochs{2, 3, 4}.Batch size 32 was not used due to memory limitations.\n",
        "\n",
        "TRAIN_EPOCHS = 5 # at 4 validation loss starts to increase\n",
        "# How many epochs we train?\n",
        "# Epoch = the whole data is passed through the model once. Do not train anymore if \n",
        "# validation loss is not decreasing or starts increasing. This indicates the model is over fitting.\n",
        "\n",
        "BATCH_SIZE = 10 # 16 and 32 cause out of memory (OOM) and crash the session\n",
        "# During an epoch the data is passed through the model in batches (not one by one or all at the \n",
        "# same time). The model parameters (weights and bias terms are updated after each batch. This updating is learning.\n",
        "\n",
        "LEARNING_RATE = 2e-5 # Super important! Try this: 1e-5\n",
        "# How big or small updates we make to the model after each batch of data\n",
        "\n",
        "\n",
        "\n",
        "\n",
        "train_args = TrainingArguments(\n",
        "    'output_dir',\n",
        "    save_strategy='no',\n",
        "    evaluation_strategy='epoch', # look at the performence measures (accuracy, precision, recall, F1-score, what ever defined) after each epoch\n",
        "    logging_strategy='epoch',\n",
        "    learning_rate=LEARNING_RATE, \n",
        "    per_device_train_batch_size=BATCH_SIZE, \n",
        "    num_train_epochs=TRAIN_EPOCHS, \n",
        "    metric_for_best_model='F1-score', # use with Early Stopping callback\n",
        "    load_best_model_at_end=True,      # restore the best model when training finishes\n",
        "    weight_decay=0.01                # strength of weight decay\n",
        ")"
      ],
      "execution_count": 16,
      "outputs": []
    },
    {
      "cell_type": "markdown",
      "metadata": {
        "id": "Yf_R3aYC38bM"
      },
      "source": [
        "## Load tokenizer and tokenize the data\n",
        "\n",
        "Tokenizer takes care of preprocessing the data to proper format for the BERT model. The input will be chopped to WordPieces and indices of these tokens form the model input together with the positional encodings. For more information read [HuggingFace documentation](https://huggingface.co/transformers/main_classes/tokenizer.html).\n"
      ]
    },
    {
      "cell_type": "code",
      "metadata": {
        "id": "OD0w7-DOrm05"
      },
      "source": [
        "tokenizer = AutoTokenizer.from_pretrained(MODEL_NAME) \n"
      ],
      "execution_count": 17,
      "outputs": []
    },
    {
      "cell_type": "markdown",
      "metadata": {
        "id": "kXqWQdjrrnwF"
      },
      "source": [
        "Let's explore the tokenizer and the input briefly. Code for exploring was adapted from [stackoverflow](https://stackoverflow.com/questions/63280435/huggingface-transformers-truncation-strategy-in-encode-plus) and UTU Course Deep Learning in Human Language Technology."
      ]
    },
    {
      "cell_type": "code",
      "metadata": {
        "colab": {
          "base_uri": "https://localhost:8080/"
        },
        "id": "wbQmSn1nd_PW",
        "outputId": "9de7c7e1-1c7e-416c-9d98-21b08354bfc4"
      },
      "source": [
        "toy_seq = \"Heippa! Testaan tokenizeria kun mietin, miten paljon tekstiä voikaan laittaa tähän?\"\n",
        "\n",
        "# The length of the input must match the size of the input layer of BERT we are about to use. In our case it is 512.\n",
        "print(f\"Maximum input size of{MODEL_NAME} model: {tokenizer.max_model_input_sizes[MODEL_NAME]}\")\n",
        "\n",
        "# If we do not hit the limit of the model input size when truncation is on, max_length sets the length of the tokenized input. \n",
        "max_tokens = 9\n",
        "\n",
        "tokenized = tokenizer.tokenize(toy_seq, truncation= True, padding = True, max_length = max_tokens) \n",
        "input=tokenizer(toy_seq, truncation= True, padding = True, max_length = max_tokens)\n",
        "print(f\"Plain toy input: {toy_seq}\")\n",
        "print(f\"Truncated (first {max_tokens}) tokens: {tokenized}\")\n",
        "print(f\"Human readable input: {tokenizer.decode(tokenizer(toy_seq, truncation= True, padding = True, max_length = max_tokens)['input_ids'])}\") \n",
        "# decode the input indices back to text. Compulsory [CLS] and [SEP] tokens are part of the input. They have fixed ids.\n",
        "print(\"Model input:\")\n",
        "for key, value in input.items():\n",
        "  print(key, value)"
      ],
      "execution_count": 18,
      "outputs": [
        {
          "output_type": "stream",
          "text": [
            "Maximum input size ofbert-base-multilingual-cased model: 512\n",
            "Plain toy input: Heippa! Testaan tokenizeria kun mietin, miten paljon tekstiä voikaan laittaa tähän?\n",
            "Truncated (first 9) tokens: ['He', '##ip', '##pa', '!', 'Test', '##aan', 'tok', '##eni', '##zer']\n",
            "Human readable input: [CLS] Heippa! Testaan tok [SEP]\n",
            "Model input:\n",
            "input_ids [101, 10357, 17437, 11359, 106, 22495, 12521, 18436, 102]\n",
            "token_type_ids [0, 0, 0, 0, 0, 0, 0, 0, 0]\n",
            "attention_mask [1, 1, 1, 1, 1, 1, 1, 1, 1]\n"
          ],
          "name": "stdout"
        }
      ]
    },
    {
      "cell_type": "markdown",
      "metadata": {
        "id": "ZVuhqb_J3sCx"
      },
      "source": [
        "token_type_ids and attention_mask are irrelevant features for our classification task. Since the text sequences are not paired the token_type_ids are all 0 and since we do not pad the input for this task, all of the input is informative and attention mask value is 1 for all of the tokens. See more from [here](https://huggingface.co/transformers/glossary.html#attention-mask) and [here](https://https://huggingface.co/transformers/glossary.html#token-type-ids) in HuggingFace documentation."
      ]
    },
    {
      "cell_type": "markdown",
      "metadata": {
        "id": "xjzBmPlRhnPw"
      },
      "source": [
        "Now we will tokenize the real data. By setting truncation = True in the tokenizer parameters we make sure that the tokenizer limits the input size to 512 tokens."
      ]
    },
    {
      "cell_type": "code",
      "metadata": {
        "colab": {
          "base_uri": "https://localhost:8080/",
          "height": 167,
          "referenced_widgets": [
            "02576315e15e45a194a702416d97605c",
            "1bd25afe243144d4904038f9a900513f",
            "00d9460594394451996add3419494b8c",
            "b46815c1d42f44f0a6d6d5d8e0d1b890",
            "498a89500b634012bda9faec1288e13c",
            "802eaeba08a54629a2754b6134f2356a",
            "c085d886e2324f2682acda19c77a79b5",
            "1e4935891d344c38b78ef0c3454ab8ab",
            "9c4cc2f5b6f740c0b3d7c4bb0aa8152b",
            "73383c4476704b3c89e33602f090b061",
            "82113ac1944344328b5a263c662b9b44",
            "bfae882fe49b4b5a834be8f99060d4ab",
            "caeddec4a9684942a1e260cda9c6cf0f",
            "5f3eefa85d544e82adef118022903843",
            "7af5cedf9f62467ba95e334d7332e36c",
            "66c376c61c314ac9a4a74bf1de44e809",
            "4c94b61f3cc4466484cd6e7f3cf10b93",
            "9cb7e355d53c441db7f2d113911ba6f9",
            "825a8bc6bf5d4641972c224bf27c5cc7",
            "1fa9d7607c2a45db9fdc1297de36c756",
            "f5b7665e22da4fea9492b9e6fa1fa694",
            "cb409fc636c44125ac33bd535edc497b",
            "e861538768054143ab67600c912dd85d",
            "7ebcd37fd70f4ea7beebbca7a166319c"
          ]
        },
        "id": "IUFrEj5f8ca3",
        "outputId": "9c01cda8-b1a8-4b82-b6cb-9a62408b74c4"
      },
      "source": [
        "def encode_dataset(d):\n",
        "  return tokenizer(d['text'], truncation=True) \n",
        "\n",
        "encoded_dataset = dataset.map(encode_dataset) #tokenize all of the data with map-method"
      ],
      "execution_count": 19,
      "outputs": [
        {
          "output_type": "display_data",
          "data": {
            "application/vnd.jupyter.widget-view+json": {
              "model_id": "02576315e15e45a194a702416d97605c",
              "version_minor": 0,
              "version_major": 2
            },
            "text/plain": [
              "HBox(children=(FloatProgress(value=0.0, max=1574.0), HTML(value='')))"
            ]
          },
          "metadata": {
            "tags": []
          }
        },
        {
          "output_type": "stream",
          "text": [
            "\n"
          ],
          "name": "stdout"
        },
        {
          "output_type": "display_data",
          "data": {
            "application/vnd.jupyter.widget-view+json": {
              "model_id": "9c4cc2f5b6f740c0b3d7c4bb0aa8152b",
              "version_minor": 0,
              "version_major": 2
            },
            "text/plain": [
              "HBox(children=(FloatProgress(value=0.0, max=197.0), HTML(value='')))"
            ]
          },
          "metadata": {
            "tags": []
          }
        },
        {
          "output_type": "stream",
          "text": [
            "\n"
          ],
          "name": "stdout"
        },
        {
          "output_type": "display_data",
          "data": {
            "application/vnd.jupyter.widget-view+json": {
              "model_id": "4c94b61f3cc4466484cd6e7f3cf10b93",
              "version_minor": 0,
              "version_major": 2
            },
            "text/plain": [
              "HBox(children=(FloatProgress(value=0.0, max=197.0), HTML(value='')))"
            ]
          },
          "metadata": {
            "tags": []
          }
        },
        {
          "output_type": "stream",
          "text": [
            "\n"
          ],
          "name": "stdout"
        }
      ]
    },
    {
      "cell_type": "code",
      "metadata": {
        "colab": {
          "base_uri": "https://localhost:8080/"
        },
        "id": "gwsPe5WhjyYZ",
        "outputId": "3e457696-e4dc-4f5e-d157-eec8c98d1299"
      },
      "source": [
        "lens = [len(input) for input in encoded_dataset['train']['input_ids']]\n",
        "lens.sort(reverse=True)\n",
        "print(lens[:10]) # longest inputs have length of 512"
      ],
      "execution_count": 20,
      "outputs": [
        {
          "output_type": "stream",
          "text": [
            "[512, 512, 512, 512, 480, 451, 447, 412, 405, 389]\n"
          ],
          "name": "stdout"
        }
      ]
    },
    {
      "cell_type": "markdown",
      "metadata": {
        "id": "Cu94LjUzYO1J"
      },
      "source": [
        "## Prepare metrics"
      ]
    },
    {
      "cell_type": "markdown",
      "metadata": {
        "id": "Qw6sb0zzYRnJ"
      },
      "source": [
        "Metrics are used to evaluate both the training of the model and the performance of the best model (the combination of the best hyperparameters for the model). \n",
        "\n",
        "A plain training process without any metrics will give the training and validation. Training loss typically decreases as the model learns the data better. Validation loss should decrease also. If the validation loss starts to increase we have a clear signal the model is over fitting and the training should be stopped. This is controlled by the number of the epochs. \n",
        "\n",
        "Since the loss is usually harder to interpret than any informative metrics, such as accuracy, (share of the successfull predictions of all the predictions) we prefer to use the metrics. \n",
        "\n",
        "Beside the accuracy we can use more informative precision (share of the relevant items returned from all of the returned items) and recall (how many of the relevant items were returned) and F1, a balanced score of the two previous one."
      ]
    },
    {
      "cell_type": "code",
      "metadata": {
        "id": "22exk5jUkgpC"
      },
      "source": [
        "# Partly adapted from UTU Textual Data Analysis course material:\n",
        "\n",
        "def compute_metrics(pred):\n",
        "    y_pred = pred.predictions.argmax(axis=1) \n",
        "    # we get the probability distribution out and the highest is selected with argmax\n",
        "    y_true = pred.label_ids\n",
        "    TP = len([a and b for a, b in zip(y_pred, y_true) if a == 1 and b == 1])\n",
        "    TN = len([a and b for a, b in zip(y_pred, y_true) if a == 0 and b == 0])\n",
        "    FN = len([a and b for a, b in zip(y_pred, y_true) if a == 0 and b == 1])\n",
        "    FP = len([a and b for a, b in zip(y_pred, y_true) if a == 1 and b == 0])\n",
        "\n",
        "    ACC = (TP+TN)/(TP+FP+FN+TN) # Overall accuracy\n",
        "    PRE = TP/(TP+FP) # Precision: share of relevant items\n",
        "    REC = TP/(TP+FN) # Recall: proportion of relevant items found\n",
        "    F1 = (2*((PRE*REC)/(PRE+REC))) # Balance between precision and recall\n",
        "    return {'accuracy': ACC,\n",
        "            'precision': PRE, \n",
        "            'recall': REC,\n",
        "            'F1-score':F1\n",
        "            }"
      ],
      "execution_count": 21,
      "outputs": []
    },
    {
      "cell_type": "markdown",
      "metadata": {
        "id": "aN2CBQnp5pEF"
      },
      "source": [
        "## Load the pre-trained model\n",
        "\n",
        "Next, we'll load the pre-trained model. The size of the output layer must equal the amount of unique labels in our data set. "
      ]
    },
    {
      "cell_type": "code",
      "metadata": {
        "colab": {
          "base_uri": "https://localhost:8080/"
        },
        "id": "pkX9tyB8Mtgb",
        "outputId": "a794a4e5-b84f-4717-9e51-36d5286396eb"
      },
      "source": [
        "model = AutoModelForSequenceClassification.from_pretrained(MODEL_NAME, num_labels=len(set(data['label'])))\n",
        "\n",
        "early_stopping=EarlyStoppingCallback(early_stopping_patience = 2)\n",
        "\n",
        "trainer = Trainer(\n",
        "    model,\n",
        "    train_args,\n",
        "    train_dataset = encoded_dataset['train'],\n",
        "    eval_dataset = encoded_dataset['development'],\n",
        "    tokenizer = tokenizer,\n",
        "    compute_metrics = compute_metrics,\n",
        "    callbacks=[early_stopping]\n",
        ")"
      ],
      "execution_count": 22,
      "outputs": [
        {
          "output_type": "stream",
          "text": [
            "Some weights of the model checkpoint at bert-base-multilingual-cased were not used when initializing BertForSequenceClassification: ['cls.seq_relationship.weight', 'cls.predictions.transform.dense.bias', 'cls.predictions.transform.LayerNorm.weight', 'cls.predictions.transform.dense.weight', 'cls.predictions.bias', 'cls.seq_relationship.bias', 'cls.predictions.transform.LayerNorm.bias', 'cls.predictions.decoder.weight']\n",
            "- This IS expected if you are initializing BertForSequenceClassification from the checkpoint of a model trained on another task or with another architecture (e.g. initializing a BertForSequenceClassification model from a BertForPreTraining model).\n",
            "- This IS NOT expected if you are initializing BertForSequenceClassification from the checkpoint of a model that you expect to be exactly identical (initializing a BertForSequenceClassification model from a BertForSequenceClassification model).\n",
            "Some weights of BertForSequenceClassification were not initialized from the model checkpoint at bert-base-multilingual-cased and are newly initialized: ['classifier.weight', 'classifier.bias']\n",
            "You should probably TRAIN this model on a down-stream task to be able to use it for predictions and inference.\n"
          ],
          "name": "stderr"
        }
      ]
    },
    {
      "cell_type": "markdown",
      "metadata": {
        "id": "4mVRs7Pauj2p"
      },
      "source": [
        "To limit the number of epochs to optimal (i.e. to stop the training when a selected metric is not improving anymore) we use Early Stopping Callback. Early Stopping has patience, which tells how many epochs to wait for the selected metric to improve before the training is interrupted. In our case we follow F1-score (defined in the TrainingArguments) and chose patience to be 2 epochs."
      ]
    },
    {
      "cell_type": "markdown",
      "metadata": {
        "id": "rNCa6P4EEuiU"
      },
      "source": [
        "## Train (fine tune) the model"
      ]
    },
    {
      "cell_type": "code",
      "metadata": {
        "id": "6G1juMfGsn-g"
      },
      "source": [
        "torch.cuda.empty_cache()"
      ],
      "execution_count": 23,
      "outputs": []
    },
    {
      "cell_type": "code",
      "metadata": {
        "colab": {
          "base_uri": "https://localhost:8080/",
          "height": 252
        },
        "id": "kN_wRE5mkrax",
        "outputId": "7647a116-02cf-413c-c1ad-889caf7560c8"
      },
      "source": [
        "trainer.train() \n",
        "ml_metrics = trainer.evaluate() # check, that the best model was reloaded\n",
        "print(ml_metrics)"
      ],
      "execution_count": 24,
      "outputs": [
        {
          "output_type": "display_data",
          "data": {
            "text/html": [
              "\n",
              "    <div>\n",
              "      \n",
              "      <progress value='632' max='790' style='width:300px; height:20px; vertical-align: middle;'></progress>\n",
              "      [632/790 05:35 < 01:24, 1.88 it/s, Epoch 4/5]\n",
              "    </div>\n",
              "    <table border=\"1\" class=\"dataframe\">\n",
              "  <thead>\n",
              "    <tr style=\"text-align: left;\">\n",
              "      <th>Epoch</th>\n",
              "      <th>Training Loss</th>\n",
              "      <th>Validation Loss</th>\n",
              "      <th>Accuracy</th>\n",
              "      <th>Precision</th>\n",
              "      <th>Recall</th>\n",
              "      <th>F1-score</th>\n",
              "    </tr>\n",
              "  </thead>\n",
              "  <tbody>\n",
              "    <tr>\n",
              "      <td>1</td>\n",
              "      <td>0.575800</td>\n",
              "      <td>0.570858</td>\n",
              "      <td>0.690355</td>\n",
              "      <td>0.677419</td>\n",
              "      <td>0.800000</td>\n",
              "      <td>0.733624</td>\n",
              "    </tr>\n",
              "    <tr>\n",
              "      <td>2</td>\n",
              "      <td>0.422100</td>\n",
              "      <td>0.649610</td>\n",
              "      <td>0.766497</td>\n",
              "      <td>0.728682</td>\n",
              "      <td>0.895238</td>\n",
              "      <td>0.803419</td>\n",
              "    </tr>\n",
              "    <tr>\n",
              "      <td>3</td>\n",
              "      <td>0.279600</td>\n",
              "      <td>0.654171</td>\n",
              "      <td>0.766497</td>\n",
              "      <td>0.761062</td>\n",
              "      <td>0.819048</td>\n",
              "      <td>0.788991</td>\n",
              "    </tr>\n",
              "    <tr>\n",
              "      <td>4</td>\n",
              "      <td>0.140500</td>\n",
              "      <td>1.012986</td>\n",
              "      <td>0.776650</td>\n",
              "      <td>0.769912</td>\n",
              "      <td>0.828571</td>\n",
              "      <td>0.798165</td>\n",
              "    </tr>\n",
              "  </tbody>\n",
              "</table><p>"
            ],
            "text/plain": [
              "<IPython.core.display.HTML object>"
            ]
          },
          "metadata": {
            "tags": []
          }
        },
        {
          "output_type": "display_data",
          "data": {
            "text/html": [
              "\n",
              "    <div>\n",
              "      \n",
              "      <progress value='25' max='25' style='width:300px; height:20px; vertical-align: middle;'></progress>\n",
              "      [25/25 00:01]\n",
              "    </div>\n",
              "    "
            ],
            "text/plain": [
              "<IPython.core.display.HTML object>"
            ]
          },
          "metadata": {
            "tags": []
          }
        },
        {
          "output_type": "stream",
          "text": [
            "{'eval_loss': 0.6496104001998901, 'eval_accuracy': 0.766497461928934, 'eval_precision': 0.7286821705426356, 'eval_recall': 0.8952380952380953, 'eval_F1-score': 0.8034188034188035, 'eval_runtime': 2.1174, 'eval_samples_per_second': 93.037, 'epoch': 4.0, 'eval_mem_cpu_alloc_delta': 0, 'eval_mem_gpu_alloc_delta': 0, 'eval_mem_cpu_peaked_delta': 0, 'eval_mem_gpu_peaked_delta': 289525760}\n"
          ],
          "name": "stdout"
        }
      ]
    },
    {
      "cell_type": "markdown",
      "metadata": {
        "id": "g3ZMjr8oqm96"
      },
      "source": [
        "## Finnish BERT model (from TurkuNLP) and a systematic hyperparameter search"
      ]
    },
    {
      "cell_type": "markdown",
      "metadata": {
        "id": "4D_TDpfAn3fT"
      },
      "source": [
        "To compare the performance of the multilingual model we also train a BERT that was trained on solely on finnish text. To find good parameters we use HuggingFace's hyper_parameter_search.\n",
        "Huggingface supports 2 libraries for hyperparameter search, optuna and raytune. We opted for optuna for no particular reason as the 2 seemed very similar. "
      ]
    },
    {
      "cell_type": "code",
      "metadata": {
        "colab": {
          "base_uri": "https://localhost:8080/",
          "height": 167,
          "referenced_widgets": [
            "90392de9a1a443b8817d4c19c897121e",
            "f7c502b2640f4bdbad99cbe9638cd4dd",
            "4ba9afd7a1b84b7986f37ea4565beabc",
            "6273eab299b24edca5765cccce592785",
            "17d1481a17d54ec6aafb3ba068513ee5",
            "dc9463f15bb54b11a20935345e4d95bf",
            "d372bff4d6724720b6af2f8b4e85e2b0",
            "7e1353b68e7448d3a14663911b874fc7",
            "3a5f7288286e4aafb04b7a1816190d54",
            "4dbb3de338d546d09655b391b743297a",
            "d5321a336ddc4b55ab20e3baba1e4310",
            "0ded205c2314448ebd0975bc8c657b97",
            "bc807b8187a84bc783f1768711809914",
            "b1e76adb2b5f4a4d9e59d27ec3fe8220",
            "8d47551e642742e7b0b1ee08838e51e4",
            "dc6167e2e8f541fd8ebf4bf1e5972ec9",
            "39a07d54bc3e4ce0803032f7b3c0abc4",
            "d588022154ea424ab334e0f1a4492ae5",
            "58f85924c23e4ff0b9f3bc874355dceb",
            "bdea5f2840334d94960a7221530e99b8",
            "a9ba10400db74c35849de72323d46e99",
            "3ba6a6bba16947549d34fd669fe46083",
            "a6ef2e96f8de4b8bb36e3cff35a0458c",
            "fe076ba76c28409da832967229a3cfbb"
          ]
        },
        "id": "m8PRLFzlnVIk",
        "outputId": "2022c733-2de6-4d17-e403-3e0b058d54ea"
      },
      "source": [
        "MODEL_NAME = 'TurkuNLP/bert-base-finnish-cased-v1' \n",
        "tokenizer_fin = AutoTokenizer.from_pretrained(MODEL_NAME) \n",
        "\n",
        "def encode_dataset_finBert(d):\n",
        "  return tokenizer_fin(d['text'], truncation=True) \n",
        "\n",
        "encoded_dataset_fin = dataset.map(encode_dataset_finBert) #tokenize all of the data with map-method"
      ],
      "execution_count": 25,
      "outputs": [
        {
          "output_type": "display_data",
          "data": {
            "application/vnd.jupyter.widget-view+json": {
              "model_id": "90392de9a1a443b8817d4c19c897121e",
              "version_minor": 0,
              "version_major": 2
            },
            "text/plain": [
              "HBox(children=(FloatProgress(value=0.0, max=1574.0), HTML(value='')))"
            ]
          },
          "metadata": {
            "tags": []
          }
        },
        {
          "output_type": "stream",
          "text": [
            "\n"
          ],
          "name": "stdout"
        },
        {
          "output_type": "display_data",
          "data": {
            "application/vnd.jupyter.widget-view+json": {
              "model_id": "3a5f7288286e4aafb04b7a1816190d54",
              "version_minor": 0,
              "version_major": 2
            },
            "text/plain": [
              "HBox(children=(FloatProgress(value=0.0, max=197.0), HTML(value='')))"
            ]
          },
          "metadata": {
            "tags": []
          }
        },
        {
          "output_type": "stream",
          "text": [
            "\n"
          ],
          "name": "stdout"
        },
        {
          "output_type": "display_data",
          "data": {
            "application/vnd.jupyter.widget-view+json": {
              "model_id": "39a07d54bc3e4ce0803032f7b3c0abc4",
              "version_minor": 0,
              "version_major": 2
            },
            "text/plain": [
              "HBox(children=(FloatProgress(value=0.0, max=197.0), HTML(value='')))"
            ]
          },
          "metadata": {
            "tags": []
          }
        },
        {
          "output_type": "stream",
          "text": [
            "\n"
          ],
          "name": "stdout"
        }
      ]
    },
    {
      "cell_type": "code",
      "metadata": {
        "id": "zuW2gNi57N1f",
        "colab": {
          "base_uri": "https://localhost:8080/"
        },
        "outputId": "64c2ae25-1ad7-485e-97e1-e0d97151c1bc"
      },
      "source": [
        "# recursively force remove the contents of the files made during training the multilingual bert\n",
        "%%bash\n",
        "rm -rf output_dir\n",
        "rm -rf runs\n",
        "\n",
        "#Make room in the gpu memory for the next model\n",
        "torch.cuda.empty_cache()"
      ],
      "execution_count": 26,
      "outputs": [
        {
          "output_type": "stream",
          "text": [
            "bash: line 6: syntax error: unexpected end of file\n"
          ],
          "name": "stderr"
        }
      ]
    },
    {
      "cell_type": "code",
      "metadata": {
        "id": "gOG7qSHnyzn5"
      },
      "source": [
        "!pip --quiet install optuna"
      ],
      "execution_count": 27,
      "outputs": []
    },
    {
      "cell_type": "code",
      "metadata": {
        "id": "naxEwPBDy5tG"
      },
      "source": [
        "from transformers import TrainerCallback\n",
        "import gc\n",
        "\n",
        "args = TrainingArguments(\n",
        "    \"output_dir\",\n",
        "    evaluation_strategy = \"epoch\",\n",
        "    learning_rate=2e-5,\n",
        "    per_device_train_batch_size=10,\n",
        "    save_strategy = 'no',\n",
        "    num_train_epochs=5,\n",
        "    weight_decay=0.01,\n",
        "    load_best_model_at_end=True,\n",
        "    metric_for_best_model='F1-score'\n",
        ")\n",
        "\n",
        "#Needed customised callback for the hyperparameter search\n",
        "class my_callback(TrainerCallback):\n",
        "  def on_train_end(self, args, state, control,**kwargs):\n",
        "    \"\"\"Carbage collect and remove model checkpoint folders after every train loop to save disk space\"\"\"\n",
        "    gc.collect()\n",
        "    \n",
        "    !rm -rf output_dir\n",
        "\n",
        "\"\"\"Search space for the hyperparameter search. These values are small enough so the search doesnt run into oom problems on the gpu\"\"\"\n",
        "def my_hp_space(trial):\n",
        "  \n",
        "    return {\n",
        "        \"learning_rate\": trial.suggest_float(\"learning_rate\", 1e-5, 5e-5, log=True),\n",
        "        \"num_train_epochs\": trial.suggest_int(\"num_train_epochs\",1, 5),\n",
        "        \"seed\": trial.suggest_int(\"seed\", 1, 40),\n",
        "        \"per_device_train_batch_size\": trial.suggest_categorical(\"per_device_train_batch_size\", [4, 8, 10]),\n",
        "    }\n",
        "\n",
        "\n",
        "def my_objective(metrics):\n",
        "    \"\"\"Metric to be maximized during the hyperparamete search\"\"\"\n",
        "    \n",
        "    return metrics['eval_accuracy']\n",
        "\n",
        "def model_init():\n",
        "  \"\"\"Hyperparameter search needs the model to be inputted trough a function\"\"\"\n",
        "  return AutoModelForSequenceClassification.from_pretrained(MODEL_NAME,num_labels=2)\n"
      ],
      "execution_count": 28,
      "outputs": []
    },
    {
      "cell_type": "code",
      "metadata": {
        "colab": {
          "base_uri": "https://localhost:8080/"
        },
        "id": "uDR95hAKy7cg",
        "outputId": "ffb79192-5780-4b06-fa94-6a04e3fcce60"
      },
      "source": [
        "trainer_fin = Trainer(\n",
        "    model_init=model_init,\n",
        "    args=args,\n",
        "    train_dataset=encoded_dataset_fin[\"train\"],\n",
        "    eval_dataset=encoded_dataset_fin['development'],\n",
        "    tokenizer=tokenizer_fin,\n",
        "    compute_metrics=compute_metrics,\n",
        "    callbacks=[my_callback]\n",
        ")"
      ],
      "execution_count": 29,
      "outputs": [
        {
          "output_type": "stream",
          "text": [
            "Some weights of the model checkpoint at TurkuNLP/bert-base-finnish-cased-v1 were not used when initializing BertForSequenceClassification: ['cls.seq_relationship.weight', 'cls.predictions.transform.dense.bias', 'cls.predictions.transform.LayerNorm.weight', 'cls.predictions.transform.dense.weight', 'cls.predictions.bias', 'cls.seq_relationship.bias', 'cls.predictions.transform.LayerNorm.bias', 'cls.predictions.decoder.weight']\n",
            "- This IS expected if you are initializing BertForSequenceClassification from the checkpoint of a model trained on another task or with another architecture (e.g. initializing a BertForSequenceClassification model from a BertForPreTraining model).\n",
            "- This IS NOT expected if you are initializing BertForSequenceClassification from the checkpoint of a model that you expect to be exactly identical (initializing a BertForSequenceClassification model from a BertForSequenceClassification model).\n",
            "Some weights of BertForSequenceClassification were not initialized from the model checkpoint at TurkuNLP/bert-base-finnish-cased-v1 and are newly initialized: ['classifier.weight', 'classifier.bias']\n",
            "You should probably TRAIN this model on a down-stream task to be able to use it for predictions and inference.\n"
          ],
          "name": "stderr"
        }
      ]
    },
    {
      "cell_type": "code",
      "metadata": {
        "colab": {
          "base_uri": "https://localhost:8080/",
          "height": 1000
        },
        "id": "E0BLEGFTzCGK",
        "outputId": "55ddfd88-a33b-4098-af15-a62f484ed408"
      },
      "source": [
        "best_run = trainer_fin.hyperparameter_search(hp_space=my_hp_space,n_trials=10,direction='maximize',compute_objective=my_objective)"
      ],
      "execution_count": 30,
      "outputs": [
        {
          "output_type": "stream",
          "text": [
            "\u001b[32m[I 2021-06-17 16:17:22,867]\u001b[0m A new study created in memory with name: no-name-e37a7440-3079-453d-b572-c2731f266b72\u001b[0m\n",
            "Some weights of the model checkpoint at TurkuNLP/bert-base-finnish-cased-v1 were not used when initializing BertForSequenceClassification: ['cls.seq_relationship.weight', 'cls.predictions.transform.dense.bias', 'cls.predictions.transform.LayerNorm.weight', 'cls.predictions.transform.dense.weight', 'cls.predictions.bias', 'cls.seq_relationship.bias', 'cls.predictions.transform.LayerNorm.bias', 'cls.predictions.decoder.weight']\n",
            "- This IS expected if you are initializing BertForSequenceClassification from the checkpoint of a model trained on another task or with another architecture (e.g. initializing a BertForSequenceClassification model from a BertForPreTraining model).\n",
            "- This IS NOT expected if you are initializing BertForSequenceClassification from the checkpoint of a model that you expect to be exactly identical (initializing a BertForSequenceClassification model from a BertForSequenceClassification model).\n",
            "Some weights of BertForSequenceClassification were not initialized from the model checkpoint at TurkuNLP/bert-base-finnish-cased-v1 and are newly initialized: ['classifier.weight', 'classifier.bias']\n",
            "You should probably TRAIN this model on a down-stream task to be able to use it for predictions and inference.\n"
          ],
          "name": "stderr"
        },
        {
          "output_type": "display_data",
          "data": {
            "text/html": [
              "\n",
              "    <div>\n",
              "      \n",
              "      <progress value='1576' max='1576' style='width:300px; height:20px; vertical-align: middle;'></progress>\n",
              "      [1576/1576 05:16, Epoch 4/4]\n",
              "    </div>\n",
              "    <table border=\"1\" class=\"dataframe\">\n",
              "  <thead>\n",
              "    <tr style=\"text-align: left;\">\n",
              "      <th>Epoch</th>\n",
              "      <th>Training Loss</th>\n",
              "      <th>Validation Loss</th>\n",
              "      <th>Accuracy</th>\n",
              "      <th>Precision</th>\n",
              "      <th>Recall</th>\n",
              "      <th>F1-score</th>\n",
              "    </tr>\n",
              "  </thead>\n",
              "  <tbody>\n",
              "    <tr>\n",
              "      <td>1</td>\n",
              "      <td>No log</td>\n",
              "      <td>0.474840</td>\n",
              "      <td>0.766497</td>\n",
              "      <td>0.810526</td>\n",
              "      <td>0.733333</td>\n",
              "      <td>0.770000</td>\n",
              "    </tr>\n",
              "    <tr>\n",
              "      <td>2</td>\n",
              "      <td>0.546200</td>\n",
              "      <td>0.647802</td>\n",
              "      <td>0.812183</td>\n",
              "      <td>0.826923</td>\n",
              "      <td>0.819048</td>\n",
              "      <td>0.822967</td>\n",
              "    </tr>\n",
              "    <tr>\n",
              "      <td>3</td>\n",
              "      <td>0.412000</td>\n",
              "      <td>0.890972</td>\n",
              "      <td>0.807107</td>\n",
              "      <td>0.868132</td>\n",
              "      <td>0.752381</td>\n",
              "      <td>0.806122</td>\n",
              "    </tr>\n",
              "    <tr>\n",
              "      <td>4</td>\n",
              "      <td>0.189800</td>\n",
              "      <td>0.875861</td>\n",
              "      <td>0.822335</td>\n",
              "      <td>0.864583</td>\n",
              "      <td>0.790476</td>\n",
              "      <td>0.825871</td>\n",
              "    </tr>\n",
              "  </tbody>\n",
              "</table><p>"
            ],
            "text/plain": [
              "<IPython.core.display.HTML object>"
            ]
          },
          "metadata": {
            "tags": []
          }
        },
        {
          "output_type": "stream",
          "text": [
            "\u001b[32m[I 2021-06-17 16:22:43,611]\u001b[0m Trial 0 finished with value: 0.8223350253807107 and parameters: {'learning_rate': 1.4867683690774652e-05, 'num_train_epochs': 4, 'seed': 15, 'per_device_train_batch_size': 4}. Best is trial 0 with value: 0.8223350253807107.\u001b[0m\n",
            "Some weights of the model checkpoint at TurkuNLP/bert-base-finnish-cased-v1 were not used when initializing BertForSequenceClassification: ['cls.seq_relationship.weight', 'cls.predictions.transform.dense.bias', 'cls.predictions.transform.LayerNorm.weight', 'cls.predictions.transform.dense.weight', 'cls.predictions.bias', 'cls.seq_relationship.bias', 'cls.predictions.transform.LayerNorm.bias', 'cls.predictions.decoder.weight']\n",
            "- This IS expected if you are initializing BertForSequenceClassification from the checkpoint of a model trained on another task or with another architecture (e.g. initializing a BertForSequenceClassification model from a BertForPreTraining model).\n",
            "- This IS NOT expected if you are initializing BertForSequenceClassification from the checkpoint of a model that you expect to be exactly identical (initializing a BertForSequenceClassification model from a BertForSequenceClassification model).\n",
            "Some weights of BertForSequenceClassification were not initialized from the model checkpoint at TurkuNLP/bert-base-finnish-cased-v1 and are newly initialized: ['classifier.weight', 'classifier.bias']\n",
            "You should probably TRAIN this model on a down-stream task to be able to use it for predictions and inference.\n"
          ],
          "name": "stderr"
        },
        {
          "output_type": "display_data",
          "data": {
            "text/html": [
              "\n",
              "    <div>\n",
              "      \n",
              "      <progress value='474' max='474' style='width:300px; height:20px; vertical-align: middle;'></progress>\n",
              "      [474/474 02:57, Epoch 3/3]\n",
              "    </div>\n",
              "    <table border=\"1\" class=\"dataframe\">\n",
              "  <thead>\n",
              "    <tr style=\"text-align: left;\">\n",
              "      <th>Epoch</th>\n",
              "      <th>Training Loss</th>\n",
              "      <th>Validation Loss</th>\n",
              "      <th>Accuracy</th>\n",
              "      <th>Precision</th>\n",
              "      <th>Recall</th>\n",
              "      <th>F1-score</th>\n",
              "    </tr>\n",
              "  </thead>\n",
              "  <tbody>\n",
              "    <tr>\n",
              "      <td>1</td>\n",
              "      <td>No log</td>\n",
              "      <td>0.431496</td>\n",
              "      <td>0.796954</td>\n",
              "      <td>0.873563</td>\n",
              "      <td>0.723810</td>\n",
              "      <td>0.791667</td>\n",
              "    </tr>\n",
              "    <tr>\n",
              "      <td>2</td>\n",
              "      <td>No log</td>\n",
              "      <td>0.501811</td>\n",
              "      <td>0.781726</td>\n",
              "      <td>0.869048</td>\n",
              "      <td>0.695238</td>\n",
              "      <td>0.772487</td>\n",
              "    </tr>\n",
              "    <tr>\n",
              "      <td>3</td>\n",
              "      <td>No log</td>\n",
              "      <td>0.617374</td>\n",
              "      <td>0.812183</td>\n",
              "      <td>0.854167</td>\n",
              "      <td>0.780952</td>\n",
              "      <td>0.815920</td>\n",
              "    </tr>\n",
              "  </tbody>\n",
              "</table><p>"
            ],
            "text/plain": [
              "<IPython.core.display.HTML object>"
            ]
          },
          "metadata": {
            "tags": []
          }
        },
        {
          "output_type": "stream",
          "text": [
            "\u001b[32m[I 2021-06-17 16:25:45,005]\u001b[0m Trial 1 finished with value: 0.8121827411167513 and parameters: {'learning_rate': 3.793239165203593e-05, 'num_train_epochs': 3, 'seed': 37, 'per_device_train_batch_size': 10}. Best is trial 0 with value: 0.8223350253807107.\u001b[0m\n",
            "Some weights of the model checkpoint at TurkuNLP/bert-base-finnish-cased-v1 were not used when initializing BertForSequenceClassification: ['cls.seq_relationship.weight', 'cls.predictions.transform.dense.bias', 'cls.predictions.transform.LayerNorm.weight', 'cls.predictions.transform.dense.weight', 'cls.predictions.bias', 'cls.seq_relationship.bias', 'cls.predictions.transform.LayerNorm.bias', 'cls.predictions.decoder.weight']\n",
            "- This IS expected if you are initializing BertForSequenceClassification from the checkpoint of a model trained on another task or with another architecture (e.g. initializing a BertForSequenceClassification model from a BertForPreTraining model).\n",
            "- This IS NOT expected if you are initializing BertForSequenceClassification from the checkpoint of a model that you expect to be exactly identical (initializing a BertForSequenceClassification model from a BertForSequenceClassification model).\n",
            "Some weights of BertForSequenceClassification were not initialized from the model checkpoint at TurkuNLP/bert-base-finnish-cased-v1 and are newly initialized: ['classifier.weight', 'classifier.bias']\n",
            "You should probably TRAIN this model on a down-stream task to be able to use it for predictions and inference.\n"
          ],
          "name": "stderr"
        },
        {
          "output_type": "display_data",
          "data": {
            "text/html": [
              "\n",
              "    <div>\n",
              "      \n",
              "      <progress value='1182' max='1182' style='width:300px; height:20px; vertical-align: middle;'></progress>\n",
              "      [1182/1182 03:57, Epoch 3/3]\n",
              "    </div>\n",
              "    <table border=\"1\" class=\"dataframe\">\n",
              "  <thead>\n",
              "    <tr style=\"text-align: left;\">\n",
              "      <th>Epoch</th>\n",
              "      <th>Training Loss</th>\n",
              "      <th>Validation Loss</th>\n",
              "      <th>Accuracy</th>\n",
              "      <th>Precision</th>\n",
              "      <th>Recall</th>\n",
              "      <th>F1-score</th>\n",
              "    </tr>\n",
              "  </thead>\n",
              "  <tbody>\n",
              "    <tr>\n",
              "      <td>1</td>\n",
              "      <td>No log</td>\n",
              "      <td>0.487853</td>\n",
              "      <td>0.791878</td>\n",
              "      <td>0.813725</td>\n",
              "      <td>0.790476</td>\n",
              "      <td>0.801932</td>\n",
              "    </tr>\n",
              "    <tr>\n",
              "      <td>2</td>\n",
              "      <td>0.524000</td>\n",
              "      <td>0.653531</td>\n",
              "      <td>0.807107</td>\n",
              "      <td>0.860215</td>\n",
              "      <td>0.761905</td>\n",
              "      <td>0.808081</td>\n",
              "    </tr>\n",
              "    <tr>\n",
              "      <td>3</td>\n",
              "      <td>0.364500</td>\n",
              "      <td>0.809003</td>\n",
              "      <td>0.802030</td>\n",
              "      <td>0.836735</td>\n",
              "      <td>0.780952</td>\n",
              "      <td>0.807882</td>\n",
              "    </tr>\n",
              "  </tbody>\n",
              "</table><p>"
            ],
            "text/plain": [
              "<IPython.core.display.HTML object>"
            ]
          },
          "metadata": {
            "tags": []
          }
        },
        {
          "output_type": "stream",
          "text": [
            "\u001b[32m[I 2021-06-17 16:29:46,572]\u001b[0m Trial 2 finished with value: 0.8020304568527918 and parameters: {'learning_rate': 2.2405785421677576e-05, 'num_train_epochs': 3, 'seed': 16, 'per_device_train_batch_size': 4}. Best is trial 0 with value: 0.8223350253807107.\u001b[0m\n",
            "Some weights of the model checkpoint at TurkuNLP/bert-base-finnish-cased-v1 were not used when initializing BertForSequenceClassification: ['cls.seq_relationship.weight', 'cls.predictions.transform.dense.bias', 'cls.predictions.transform.LayerNorm.weight', 'cls.predictions.transform.dense.weight', 'cls.predictions.bias', 'cls.seq_relationship.bias', 'cls.predictions.transform.LayerNorm.bias', 'cls.predictions.decoder.weight']\n",
            "- This IS expected if you are initializing BertForSequenceClassification from the checkpoint of a model trained on another task or with another architecture (e.g. initializing a BertForSequenceClassification model from a BertForPreTraining model).\n",
            "- This IS NOT expected if you are initializing BertForSequenceClassification from the checkpoint of a model that you expect to be exactly identical (initializing a BertForSequenceClassification model from a BertForSequenceClassification model).\n",
            "Some weights of BertForSequenceClassification were not initialized from the model checkpoint at TurkuNLP/bert-base-finnish-cased-v1 and are newly initialized: ['classifier.weight', 'classifier.bias']\n",
            "You should probably TRAIN this model on a down-stream task to be able to use it for predictions and inference.\n"
          ],
          "name": "stderr"
        },
        {
          "output_type": "display_data",
          "data": {
            "text/html": [
              "\n",
              "    <div>\n",
              "      \n",
              "      <progress value='197' max='197' style='width:300px; height:20px; vertical-align: middle;'></progress>\n",
              "      [197/197 01:03, Epoch 1/1]\n",
              "    </div>\n",
              "    <table border=\"1\" class=\"dataframe\">\n",
              "  <thead>\n",
              "    <tr style=\"text-align: left;\">\n",
              "      <th>Epoch</th>\n",
              "      <th>Training Loss</th>\n",
              "      <th>Validation Loss</th>\n",
              "      <th>Accuracy</th>\n",
              "      <th>Precision</th>\n",
              "      <th>Recall</th>\n",
              "      <th>F1-score</th>\n",
              "    </tr>\n",
              "  </thead>\n",
              "  <tbody>\n",
              "    <tr>\n",
              "      <td>1</td>\n",
              "      <td>No log</td>\n",
              "      <td>0.500314</td>\n",
              "      <td>0.730964</td>\n",
              "      <td>0.817073</td>\n",
              "      <td>0.638095</td>\n",
              "      <td>0.716578</td>\n",
              "    </tr>\n",
              "  </tbody>\n",
              "</table><p>"
            ],
            "text/plain": [
              "<IPython.core.display.HTML object>"
            ]
          },
          "metadata": {
            "tags": []
          }
        },
        {
          "output_type": "stream",
          "text": [
            "\u001b[32m[I 2021-06-17 16:30:54,777]\u001b[0m Trial 3 finished with value: 0.7309644670050761 and parameters: {'learning_rate': 2.765531999747192e-05, 'num_train_epochs': 1, 'seed': 28, 'per_device_train_batch_size': 8}. Best is trial 0 with value: 0.8223350253807107.\u001b[0m\n",
            "Some weights of the model checkpoint at TurkuNLP/bert-base-finnish-cased-v1 were not used when initializing BertForSequenceClassification: ['cls.seq_relationship.weight', 'cls.predictions.transform.dense.bias', 'cls.predictions.transform.LayerNorm.weight', 'cls.predictions.transform.dense.weight', 'cls.predictions.bias', 'cls.seq_relationship.bias', 'cls.predictions.transform.LayerNorm.bias', 'cls.predictions.decoder.weight']\n",
            "- This IS expected if you are initializing BertForSequenceClassification from the checkpoint of a model trained on another task or with another architecture (e.g. initializing a BertForSequenceClassification model from a BertForPreTraining model).\n",
            "- This IS NOT expected if you are initializing BertForSequenceClassification from the checkpoint of a model that you expect to be exactly identical (initializing a BertForSequenceClassification model from a BertForSequenceClassification model).\n",
            "Some weights of BertForSequenceClassification were not initialized from the model checkpoint at TurkuNLP/bert-base-finnish-cased-v1 and are newly initialized: ['classifier.weight', 'classifier.bias']\n",
            "You should probably TRAIN this model on a down-stream task to be able to use it for predictions and inference.\n"
          ],
          "name": "stderr"
        },
        {
          "output_type": "display_data",
          "data": {
            "text/html": [
              "\n",
              "    <div>\n",
              "      \n",
              "      <progress value='790' max='790' style='width:300px; height:20px; vertical-align: middle;'></progress>\n",
              "      [790/790 04:51, Epoch 5/5]\n",
              "    </div>\n",
              "    <table border=\"1\" class=\"dataframe\">\n",
              "  <thead>\n",
              "    <tr style=\"text-align: left;\">\n",
              "      <th>Epoch</th>\n",
              "      <th>Training Loss</th>\n",
              "      <th>Validation Loss</th>\n",
              "      <th>Accuracy</th>\n",
              "      <th>Precision</th>\n",
              "      <th>Recall</th>\n",
              "      <th>F1-score</th>\n",
              "    </tr>\n",
              "  </thead>\n",
              "  <tbody>\n",
              "    <tr>\n",
              "      <td>1</td>\n",
              "      <td>No log</td>\n",
              "      <td>0.464848</td>\n",
              "      <td>0.771574</td>\n",
              "      <td>0.812500</td>\n",
              "      <td>0.742857</td>\n",
              "      <td>0.776119</td>\n",
              "    </tr>\n",
              "    <tr>\n",
              "      <td>2</td>\n",
              "      <td>No log</td>\n",
              "      <td>0.469967</td>\n",
              "      <td>0.761421</td>\n",
              "      <td>0.795918</td>\n",
              "      <td>0.742857</td>\n",
              "      <td>0.768473</td>\n",
              "    </tr>\n",
              "    <tr>\n",
              "      <td>3</td>\n",
              "      <td>No log</td>\n",
              "      <td>0.627942</td>\n",
              "      <td>0.781726</td>\n",
              "      <td>0.767241</td>\n",
              "      <td>0.847619</td>\n",
              "      <td>0.805430</td>\n",
              "    </tr>\n",
              "    <tr>\n",
              "      <td>4</td>\n",
              "      <td>0.359000</td>\n",
              "      <td>0.853820</td>\n",
              "      <td>0.791878</td>\n",
              "      <td>0.796296</td>\n",
              "      <td>0.819048</td>\n",
              "      <td>0.807512</td>\n",
              "    </tr>\n",
              "    <tr>\n",
              "      <td>5</td>\n",
              "      <td>0.359000</td>\n",
              "      <td>0.914444</td>\n",
              "      <td>0.791878</td>\n",
              "      <td>0.796296</td>\n",
              "      <td>0.819048</td>\n",
              "      <td>0.807512</td>\n",
              "    </tr>\n",
              "  </tbody>\n",
              "</table><p>"
            ],
            "text/plain": [
              "<IPython.core.display.HTML object>"
            ]
          },
          "metadata": {
            "tags": []
          }
        },
        {
          "output_type": "stream",
          "text": [
            "\u001b[32m[I 2021-06-17 16:35:51,193]\u001b[0m Trial 4 finished with value: 0.7918781725888325 and parameters: {'learning_rate': 1.7700063854674356e-05, 'num_train_epochs': 5, 'seed': 16, 'per_device_train_batch_size': 10}. Best is trial 0 with value: 0.8223350253807107.\u001b[0m\n",
            "Some weights of the model checkpoint at TurkuNLP/bert-base-finnish-cased-v1 were not used when initializing BertForSequenceClassification: ['cls.seq_relationship.weight', 'cls.predictions.transform.dense.bias', 'cls.predictions.transform.LayerNorm.weight', 'cls.predictions.transform.dense.weight', 'cls.predictions.bias', 'cls.seq_relationship.bias', 'cls.predictions.transform.LayerNorm.bias', 'cls.predictions.decoder.weight']\n",
            "- This IS expected if you are initializing BertForSequenceClassification from the checkpoint of a model trained on another task or with another architecture (e.g. initializing a BertForSequenceClassification model from a BertForPreTraining model).\n",
            "- This IS NOT expected if you are initializing BertForSequenceClassification from the checkpoint of a model that you expect to be exactly identical (initializing a BertForSequenceClassification model from a BertForSequenceClassification model).\n",
            "Some weights of BertForSequenceClassification were not initialized from the model checkpoint at TurkuNLP/bert-base-finnish-cased-v1 and are newly initialized: ['classifier.weight', 'classifier.bias']\n",
            "You should probably TRAIN this model on a down-stream task to be able to use it for predictions and inference.\n"
          ],
          "name": "stderr"
        },
        {
          "output_type": "display_data",
          "data": {
            "text/html": [
              "\n",
              "    <div>\n",
              "      \n",
              "      <progress value='985' max='985' style='width:300px; height:20px; vertical-align: middle;'></progress>\n",
              "      [985/985 04:57, Epoch 5/5]\n",
              "    </div>\n",
              "    <table border=\"1\" class=\"dataframe\">\n",
              "  <thead>\n",
              "    <tr style=\"text-align: left;\">\n",
              "      <th>Epoch</th>\n",
              "      <th>Training Loss</th>\n",
              "      <th>Validation Loss</th>\n",
              "      <th>Accuracy</th>\n",
              "      <th>Precision</th>\n",
              "      <th>Recall</th>\n",
              "      <th>F1-score</th>\n",
              "    </tr>\n",
              "  </thead>\n",
              "  <tbody>\n",
              "    <tr>\n",
              "      <td>1</td>\n",
              "      <td>No log</td>\n",
              "      <td>0.459727</td>\n",
              "      <td>0.781726</td>\n",
              "      <td>0.798077</td>\n",
              "      <td>0.790476</td>\n",
              "      <td>0.794258</td>\n",
              "    </tr>\n",
              "    <tr>\n",
              "      <td>2</td>\n",
              "      <td>No log</td>\n",
              "      <td>0.450965</td>\n",
              "      <td>0.817259</td>\n",
              "      <td>0.822430</td>\n",
              "      <td>0.838095</td>\n",
              "      <td>0.830189</td>\n",
              "    </tr>\n",
              "    <tr>\n",
              "      <td>3</td>\n",
              "      <td>0.417900</td>\n",
              "      <td>0.526884</td>\n",
              "      <td>0.822335</td>\n",
              "      <td>0.888889</td>\n",
              "      <td>0.761905</td>\n",
              "      <td>0.820513</td>\n",
              "    </tr>\n",
              "    <tr>\n",
              "      <td>4</td>\n",
              "      <td>0.417900</td>\n",
              "      <td>0.662353</td>\n",
              "      <td>0.832487</td>\n",
              "      <td>0.846154</td>\n",
              "      <td>0.838095</td>\n",
              "      <td>0.842105</td>\n",
              "    </tr>\n",
              "    <tr>\n",
              "      <td>5</td>\n",
              "      <td>0.417900</td>\n",
              "      <td>0.735346</td>\n",
              "      <td>0.817259</td>\n",
              "      <td>0.841584</td>\n",
              "      <td>0.809524</td>\n",
              "      <td>0.825243</td>\n",
              "    </tr>\n",
              "  </tbody>\n",
              "</table><p>"
            ],
            "text/plain": [
              "<IPython.core.display.HTML object>"
            ]
          },
          "metadata": {
            "tags": []
          }
        },
        {
          "output_type": "stream",
          "text": [
            "\u001b[32m[I 2021-06-17 16:40:53,291]\u001b[0m Trial 5 finished with value: 0.817258883248731 and parameters: {'learning_rate': 1.3076642238392174e-05, 'num_train_epochs': 5, 'seed': 33, 'per_device_train_batch_size': 8}. Best is trial 0 with value: 0.8223350253807107.\u001b[0m\n",
            "Some weights of the model checkpoint at TurkuNLP/bert-base-finnish-cased-v1 were not used when initializing BertForSequenceClassification: ['cls.seq_relationship.weight', 'cls.predictions.transform.dense.bias', 'cls.predictions.transform.LayerNorm.weight', 'cls.predictions.transform.dense.weight', 'cls.predictions.bias', 'cls.seq_relationship.bias', 'cls.predictions.transform.LayerNorm.bias', 'cls.predictions.decoder.weight']\n",
            "- This IS expected if you are initializing BertForSequenceClassification from the checkpoint of a model trained on another task or with another architecture (e.g. initializing a BertForSequenceClassification model from a BertForPreTraining model).\n",
            "- This IS NOT expected if you are initializing BertForSequenceClassification from the checkpoint of a model that you expect to be exactly identical (initializing a BertForSequenceClassification model from a BertForSequenceClassification model).\n",
            "Some weights of BertForSequenceClassification were not initialized from the model checkpoint at TurkuNLP/bert-base-finnish-cased-v1 and are newly initialized: ['classifier.weight', 'classifier.bias']\n",
            "You should probably TRAIN this model on a down-stream task to be able to use it for predictions and inference.\n"
          ],
          "name": "stderr"
        },
        {
          "output_type": "display_data",
          "data": {
            "text/html": [
              "\n",
              "    <div>\n",
              "      \n",
              "      <progress value='395' max='1182' style='width:300px; height:20px; vertical-align: middle;'></progress>\n",
              "      [ 395/1182 01:11 < 02:23, 5.47 it/s, Epoch 1/3]\n",
              "    </div>\n",
              "    <table border=\"1\" class=\"dataframe\">\n",
              "  <thead>\n",
              "    <tr style=\"text-align: left;\">\n",
              "      <th>Epoch</th>\n",
              "      <th>Training Loss</th>\n",
              "      <th>Validation Loss</th>\n",
              "      <th>Accuracy</th>\n",
              "      <th>Precision</th>\n",
              "      <th>Recall</th>\n",
              "      <th>F1-score</th>\n",
              "    </tr>\n",
              "  </thead>\n",
              "  <tbody>\n",
              "    <tr>\n",
              "      <td>1</td>\n",
              "      <td>No log</td>\n",
              "      <td>0.560952</td>\n",
              "      <td>0.741117</td>\n",
              "      <td>0.897059</td>\n",
              "      <td>0.580952</td>\n",
              "      <td>0.705202</td>\n",
              "    </tr>\n",
              "  </tbody>\n",
              "</table><p>"
            ],
            "text/plain": [
              "<IPython.core.display.HTML object>"
            ]
          },
          "metadata": {
            "tags": []
          }
        },
        {
          "output_type": "stream",
          "text": [
            "\u001b[32m[I 2021-06-17 16:42:11,148]\u001b[0m Trial 6 pruned. \u001b[0m\n",
            "Some weights of the model checkpoint at TurkuNLP/bert-base-finnish-cased-v1 were not used when initializing BertForSequenceClassification: ['cls.seq_relationship.weight', 'cls.predictions.transform.dense.bias', 'cls.predictions.transform.LayerNorm.weight', 'cls.predictions.transform.dense.weight', 'cls.predictions.bias', 'cls.seq_relationship.bias', 'cls.predictions.transform.LayerNorm.bias', 'cls.predictions.decoder.weight']\n",
            "- This IS expected if you are initializing BertForSequenceClassification from the checkpoint of a model trained on another task or with another architecture (e.g. initializing a BertForSequenceClassification model from a BertForPreTraining model).\n",
            "- This IS NOT expected if you are initializing BertForSequenceClassification from the checkpoint of a model that you expect to be exactly identical (initializing a BertForSequenceClassification model from a BertForSequenceClassification model).\n",
            "Some weights of BertForSequenceClassification were not initialized from the model checkpoint at TurkuNLP/bert-base-finnish-cased-v1 and are newly initialized: ['classifier.weight', 'classifier.bias']\n",
            "You should probably TRAIN this model on a down-stream task to be able to use it for predictions and inference.\n"
          ],
          "name": "stderr"
        },
        {
          "output_type": "display_data",
          "data": {
            "text/html": [
              "\n",
              "    <div>\n",
              "      \n",
              "      <progress value='789' max='1576' style='width:300px; height:20px; vertical-align: middle;'></progress>\n",
              "      [ 789/1576 03:27 < 03:27, 3.80 it/s, Epoch 2/4]\n",
              "    </div>\n",
              "    <table border=\"1\" class=\"dataframe\">\n",
              "  <thead>\n",
              "    <tr style=\"text-align: left;\">\n",
              "      <th>Epoch</th>\n",
              "      <th>Training Loss</th>\n",
              "      <th>Validation Loss</th>\n",
              "      <th>Accuracy</th>\n",
              "      <th>Precision</th>\n",
              "      <th>Recall</th>\n",
              "      <th>F1-score</th>\n",
              "    </tr>\n",
              "  </thead>\n",
              "  <tbody>\n",
              "    <tr>\n",
              "      <td>1</td>\n",
              "      <td>No log</td>\n",
              "      <td>0.483076</td>\n",
              "      <td>0.791878</td>\n",
              "      <td>0.801887</td>\n",
              "      <td>0.809524</td>\n",
              "      <td>0.805687</td>\n",
              "    </tr>\n",
              "    <tr>\n",
              "      <td>2</td>\n",
              "      <td>0.589100</td>\n",
              "      <td>0.672066</td>\n",
              "      <td>0.802030</td>\n",
              "      <td>0.823529</td>\n",
              "      <td>0.800000</td>\n",
              "      <td>0.811594</td>\n",
              "    </tr>\n",
              "  </tbody>\n",
              "</table><p>"
            ],
            "text/plain": [
              "<IPython.core.display.HTML object>"
            ]
          },
          "metadata": {
            "tags": []
          }
        },
        {
          "output_type": "stream",
          "text": [
            "\u001b[32m[I 2021-06-17 16:45:44,641]\u001b[0m Trial 7 pruned. \u001b[0m\n",
            "Some weights of the model checkpoint at TurkuNLP/bert-base-finnish-cased-v1 were not used when initializing BertForSequenceClassification: ['cls.seq_relationship.weight', 'cls.predictions.transform.dense.bias', 'cls.predictions.transform.LayerNorm.weight', 'cls.predictions.transform.dense.weight', 'cls.predictions.bias', 'cls.seq_relationship.bias', 'cls.predictions.transform.LayerNorm.bias', 'cls.predictions.decoder.weight']\n",
            "- This IS expected if you are initializing BertForSequenceClassification from the checkpoint of a model trained on another task or with another architecture (e.g. initializing a BertForSequenceClassification model from a BertForPreTraining model).\n",
            "- This IS NOT expected if you are initializing BertForSequenceClassification from the checkpoint of a model that you expect to be exactly identical (initializing a BertForSequenceClassification model from a BertForSequenceClassification model).\n",
            "Some weights of BertForSequenceClassification were not initialized from the model checkpoint at TurkuNLP/bert-base-finnish-cased-v1 and are newly initialized: ['classifier.weight', 'classifier.bias']\n",
            "You should probably TRAIN this model on a down-stream task to be able to use it for predictions and inference.\n"
          ],
          "name": "stderr"
        },
        {
          "output_type": "display_data",
          "data": {
            "text/html": [
              "\n",
              "    <div>\n",
              "      \n",
              "      <progress value='198' max='591' style='width:300px; height:20px; vertical-align: middle;'></progress>\n",
              "      [198/591 01:19 < 02:39, 2.47 it/s, Epoch 1/3]\n",
              "    </div>\n",
              "    <table border=\"1\" class=\"dataframe\">\n",
              "  <thead>\n",
              "    <tr style=\"text-align: left;\">\n",
              "      <th>Epoch</th>\n",
              "      <th>Training Loss</th>\n",
              "      <th>Validation Loss</th>\n",
              "      <th>Accuracy</th>\n",
              "      <th>Precision</th>\n",
              "      <th>Recall</th>\n",
              "      <th>F1-score</th>\n",
              "    </tr>\n",
              "  </thead>\n",
              "  <tbody>\n",
              "    <tr>\n",
              "      <td>1</td>\n",
              "      <td>No log</td>\n",
              "      <td>0.602480</td>\n",
              "      <td>0.700508</td>\n",
              "      <td>0.653333</td>\n",
              "      <td>0.933333</td>\n",
              "      <td>0.768627</td>\n",
              "    </tr>\n",
              "  </tbody>\n",
              "</table><p>"
            ],
            "text/plain": [
              "<IPython.core.display.HTML object>"
            ]
          },
          "metadata": {
            "tags": []
          }
        },
        {
          "output_type": "stream",
          "text": [
            "\u001b[32m[I 2021-06-17 16:47:10,537]\u001b[0m Trial 8 pruned. \u001b[0m\n",
            "Some weights of the model checkpoint at TurkuNLP/bert-base-finnish-cased-v1 were not used when initializing BertForSequenceClassification: ['cls.seq_relationship.weight', 'cls.predictions.transform.dense.bias', 'cls.predictions.transform.LayerNorm.weight', 'cls.predictions.transform.dense.weight', 'cls.predictions.bias', 'cls.seq_relationship.bias', 'cls.predictions.transform.LayerNorm.bias', 'cls.predictions.decoder.weight']\n",
            "- This IS expected if you are initializing BertForSequenceClassification from the checkpoint of a model trained on another task or with another architecture (e.g. initializing a BertForSequenceClassification model from a BertForPreTraining model).\n",
            "- This IS NOT expected if you are initializing BertForSequenceClassification from the checkpoint of a model that you expect to be exactly identical (initializing a BertForSequenceClassification model from a BertForSequenceClassification model).\n",
            "Some weights of BertForSequenceClassification were not initialized from the model checkpoint at TurkuNLP/bert-base-finnish-cased-v1 and are newly initialized: ['classifier.weight', 'classifier.bias']\n",
            "You should probably TRAIN this model on a down-stream task to be able to use it for predictions and inference.\n"
          ],
          "name": "stderr"
        },
        {
          "output_type": "display_data",
          "data": {
            "text/html": [
              "\n",
              "    <div>\n",
              "      \n",
              "      <progress value='395' max='1182' style='width:300px; height:20px; vertical-align: middle;'></progress>\n",
              "      [ 395/1182 02:35 < 05:12, 2.52 it/s, Epoch 1/3]\n",
              "    </div>\n",
              "    <table border=\"1\" class=\"dataframe\">\n",
              "  <thead>\n",
              "    <tr style=\"text-align: left;\">\n",
              "      <th>Epoch</th>\n",
              "      <th>Training Loss</th>\n",
              "      <th>Validation Loss</th>\n",
              "      <th>Accuracy</th>\n",
              "      <th>Precision</th>\n",
              "      <th>Recall</th>\n",
              "      <th>F1-score</th>\n",
              "    </tr>\n",
              "  </thead>\n",
              "  <tbody>\n",
              "    <tr>\n",
              "      <td>1</td>\n",
              "      <td>No log</td>\n",
              "      <td>0.578393</td>\n",
              "      <td>0.751269</td>\n",
              "      <td>0.850000</td>\n",
              "      <td>0.647619</td>\n",
              "      <td>0.735135</td>\n",
              "    </tr>\n",
              "  </tbody>\n",
              "</table><p>"
            ],
            "text/plain": [
              "<IPython.core.display.HTML object>"
            ]
          },
          "metadata": {
            "tags": []
          }
        },
        {
          "output_type": "stream",
          "text": [
            "\u001b[32m[I 2021-06-17 16:49:53,510]\u001b[0m Trial 9 pruned. \u001b[0m\n"
          ],
          "name": "stderr"
        }
      ]
    },
    {
      "cell_type": "code",
      "metadata": {
        "colab": {
          "base_uri": "https://localhost:8080/"
        },
        "id": "GO5IvHh6Chhy",
        "outputId": "f8a4271b-3319-4472-f429-496bfd20ea7e"
      },
      "source": [
        "\"\"\"The parameter search returns a best run object trough which the best hyperparameters can be called\"\"\"\n",
        "best_run.hyperparameters "
      ],
      "execution_count": 31,
      "outputs": [
        {
          "output_type": "execute_result",
          "data": {
            "text/plain": [
              "{'learning_rate': 1.4867683690774652e-05,\n",
              " 'num_train_epochs': 4,\n",
              " 'per_device_train_batch_size': 4,\n",
              " 'seed': 15}"
            ]
          },
          "metadata": {
            "tags": []
          },
          "execution_count": 31
        }
      ]
    },
    {
      "cell_type": "code",
      "metadata": {
        "colab": {
          "base_uri": "https://localhost:8080/",
          "height": 323
        },
        "id": "c7Tb0ogmzEGm",
        "outputId": "c695fd85-b28c-4469-df06-d7b660e2c1c4"
      },
      "source": [
        "\"\"\"Setting the parameters to the trainer object\"\"\"\n",
        "for n, v in best_run.hyperparameters.items():\n",
        "    setattr(trainer_fin.args, n, v)\n",
        "\n",
        "trainer_fin.train()"
      ],
      "execution_count": 32,
      "outputs": [
        {
          "output_type": "stream",
          "text": [
            "Some weights of the model checkpoint at TurkuNLP/bert-base-finnish-cased-v1 were not used when initializing BertForSequenceClassification: ['cls.seq_relationship.weight', 'cls.predictions.transform.dense.bias', 'cls.predictions.transform.LayerNorm.weight', 'cls.predictions.transform.dense.weight', 'cls.predictions.bias', 'cls.seq_relationship.bias', 'cls.predictions.transform.LayerNorm.bias', 'cls.predictions.decoder.weight']\n",
            "- This IS expected if you are initializing BertForSequenceClassification from the checkpoint of a model trained on another task or with another architecture (e.g. initializing a BertForSequenceClassification model from a BertForPreTraining model).\n",
            "- This IS NOT expected if you are initializing BertForSequenceClassification from the checkpoint of a model that you expect to be exactly identical (initializing a BertForSequenceClassification model from a BertForSequenceClassification model).\n",
            "Some weights of BertForSequenceClassification were not initialized from the model checkpoint at TurkuNLP/bert-base-finnish-cased-v1 and are newly initialized: ['classifier.weight', 'classifier.bias']\n",
            "You should probably TRAIN this model on a down-stream task to be able to use it for predictions and inference.\n"
          ],
          "name": "stderr"
        },
        {
          "output_type": "display_data",
          "data": {
            "text/html": [
              "\n",
              "    <div>\n",
              "      \n",
              "      <progress value='1576' max='1576' style='width:300px; height:20px; vertical-align: middle;'></progress>\n",
              "      [1576/1576 11:26, Epoch 4/4]\n",
              "    </div>\n",
              "    <table border=\"1\" class=\"dataframe\">\n",
              "  <thead>\n",
              "    <tr style=\"text-align: left;\">\n",
              "      <th>Epoch</th>\n",
              "      <th>Training Loss</th>\n",
              "      <th>Validation Loss</th>\n",
              "      <th>Accuracy</th>\n",
              "      <th>Precision</th>\n",
              "      <th>Recall</th>\n",
              "      <th>F1-score</th>\n",
              "    </tr>\n",
              "  </thead>\n",
              "  <tbody>\n",
              "    <tr>\n",
              "      <td>1</td>\n",
              "      <td>No log</td>\n",
              "      <td>0.474840</td>\n",
              "      <td>0.766497</td>\n",
              "      <td>0.810526</td>\n",
              "      <td>0.733333</td>\n",
              "      <td>0.770000</td>\n",
              "    </tr>\n",
              "    <tr>\n",
              "      <td>2</td>\n",
              "      <td>0.546200</td>\n",
              "      <td>0.647802</td>\n",
              "      <td>0.812183</td>\n",
              "      <td>0.826923</td>\n",
              "      <td>0.819048</td>\n",
              "      <td>0.822967</td>\n",
              "    </tr>\n",
              "    <tr>\n",
              "      <td>3</td>\n",
              "      <td>0.412000</td>\n",
              "      <td>0.890972</td>\n",
              "      <td>0.807107</td>\n",
              "      <td>0.868132</td>\n",
              "      <td>0.752381</td>\n",
              "      <td>0.806122</td>\n",
              "    </tr>\n",
              "    <tr>\n",
              "      <td>4</td>\n",
              "      <td>0.189800</td>\n",
              "      <td>0.875861</td>\n",
              "      <td>0.822335</td>\n",
              "      <td>0.864583</td>\n",
              "      <td>0.790476</td>\n",
              "      <td>0.825871</td>\n",
              "    </tr>\n",
              "  </tbody>\n",
              "</table><p>"
            ],
            "text/plain": [
              "<IPython.core.display.HTML object>"
            ]
          },
          "metadata": {
            "tags": []
          }
        },
        {
          "output_type": "execute_result",
          "data": {
            "text/plain": [
              "TrainOutput(global_step=1576, training_loss=0.3736891988570315, metrics={'train_runtime': 685.9433, 'train_samples_per_second': 2.298, 'total_flos': 0, 'epoch': 4.0, 'train_mem_cpu_alloc_delta': -537931776, 'train_mem_gpu_alloc_delta': -130048, 'train_mem_cpu_peaked_delta': 538017792, 'train_mem_gpu_peaked_delta': 3268723712})"
            ]
          },
          "metadata": {
            "tags": []
          },
          "execution_count": 32
        }
      ]
    },
    {
      "cell_type": "code",
      "metadata": {
        "colab": {
          "base_uri": "https://localhost:8080/",
          "height": 238
        },
        "id": "wrtpDnNGqjaI",
        "outputId": "b43c6141-577c-4284-ae0e-f9b4f14c372c"
      },
      "source": [
        "finBert_metrics = trainer_fin.evaluate()\n",
        "for v,k in finBert_metrics.items():\n",
        "  print(v,k)"
      ],
      "execution_count": 33,
      "outputs": [
        {
          "output_type": "display_data",
          "data": {
            "text/html": [
              "\n",
              "    <div>\n",
              "      \n",
              "      <progress value='25' max='25' style='width:300px; height:20px; vertical-align: middle;'></progress>\n",
              "      [25/25 00:01]\n",
              "    </div>\n",
              "    "
            ],
            "text/plain": [
              "<IPython.core.display.HTML object>"
            ]
          },
          "metadata": {
            "tags": []
          }
        },
        {
          "output_type": "stream",
          "text": [
            "eval_loss 0.8758606910705566\n",
            "eval_accuracy 0.8223350253807107\n",
            "eval_precision 0.8645833333333334\n",
            "eval_recall 0.7904761904761904\n",
            "eval_F1-score 0.8258706467661692\n",
            "eval_runtime 1.9463\n",
            "eval_samples_per_second 101.216\n",
            "epoch 4.0\n",
            "eval_mem_cpu_alloc_delta 0\n",
            "eval_mem_gpu_alloc_delta 0\n",
            "eval_mem_cpu_peaked_delta 0\n",
            "eval_mem_gpu_peaked_delta 289525760\n"
          ],
          "name": "stdout"
        }
      ]
    },
    {
      "cell_type": "markdown",
      "metadata": {
        "id": "hUesGElhwL2S"
      },
      "source": [
        "## Test performance on both of the models and comparison"
      ]
    },
    {
      "cell_type": "code",
      "metadata": {
        "colab": {
          "base_uri": "https://localhost:8080/",
          "height": 57
        },
        "id": "hH3N_mUy_4M_",
        "outputId": "efb19204-a43b-4b3b-cc6c-76b1ef28140e"
      },
      "source": [
        "# predict:\n",
        "test_results_ml = trainer.predict(test_dataset=encoded_dataset['test'])\n",
        "test_results_fin = trainer_fin.predict(test_dataset=encoded_dataset_fin['test'])"
      ],
      "execution_count": 34,
      "outputs": [
        {
          "output_type": "display_data",
          "data": {
            "text/html": [
              "\n",
              "    <div>\n",
              "      \n",
              "      <progress value='50' max='25' style='width:300px; height:20px; vertical-align: middle;'></progress>\n",
              "      [25/25 44:34]\n",
              "    </div>\n",
              "    "
            ],
            "text/plain": [
              "<IPython.core.display.HTML object>"
            ]
          },
          "metadata": {
            "tags": []
          }
        },
        {
          "output_type": "display_data",
          "data": {
            "text/html": [
              "\n",
              "    <div>\n",
              "      \n",
              "      <progress value='50' max='25' style='width:300px; height:20px; vertical-align: middle;'></progress>\n",
              "      [25/25 00:05]\n",
              "    </div>\n",
              "    "
            ],
            "text/plain": [
              "<IPython.core.display.HTML object>"
            ]
          },
          "metadata": {
            "tags": []
          }
        }
      ]
    },
    {
      "cell_type": "markdown",
      "metadata": {
        "id": "V_396L9uxLDj"
      },
      "source": [
        "\n",
        "The method predict returns a NamedTuple with the following keys:\n",
        "\n",
        "        predictions (np.ndarray): The predictions on test_dataset.\n",
        "        label_ids (np.ndarray, optional): The labels (if the dataset contained some).\n",
        "        metrics (Dict[str, float], optional): The potential dictionary of metrics (if the dataset contained labels).\n",
        "\n"
      ]
    },
    {
      "cell_type": "markdown",
      "metadata": {
        "id": "RG73zml3hst2"
      },
      "source": [
        "With the two arrays containing the predicted labels and the true labels we can use a simlple sklearn method to plot the confusion matrix and visualize the model performance."
      ]
    },
    {
      "cell_type": "code",
      "metadata": {
        "id": "Gb85Ga2rOnPG"
      },
      "source": [
        "def test_visualize(results,dataset):\n",
        "  y_pred = np.argmax(results.predictions, axis=1) # array of predicted labels\n",
        "  y_true = dataset['test']['label'] # array of true labels\n",
        "\n",
        "  matrix=confusion_matrix(y_true, y_pred)\n",
        "  normalized = matrix/np.sum(matrix) # percentages\n",
        "  return matrix,normalized"
      ],
      "execution_count": 35,
      "outputs": []
    },
    {
      "cell_type": "code",
      "metadata": {
        "id": "pqhsXtKhRLTX"
      },
      "source": [
        "fin_matrix,fin_norm = test_visualize(test_results_fin,encoded_dataset_fin)\n",
        "matrix_ml, norm_ml = test_visualize(test_results_ml,encoded_dataset)"
      ],
      "execution_count": 36,
      "outputs": []
    },
    {
      "cell_type": "code",
      "metadata": {
        "id": "epFsap88RhWD"
      },
      "source": [
        "def confusion_of_the_highest_orda(matrix,normalized,model_name):\n",
        "  fig, axes  = plt.subplots(1,2, figsize=(10, 5))\n",
        "  fig.suptitle(f\"Confusion matrices with the test data for {model_name}\")\n",
        "  sns.heatmap(ax=axes[0], data=matrix, annot=True, cmap='Greens', fmt='d', cbar=False)\n",
        "  sns.heatmap(ax=axes[1], data=normalized, annot=True, cmap='Blues', fmt='.1%', cbar=False)\n",
        "  axes[0].set_title(\"Non normalized\")\n",
        "  axes[0].set_ylabel(\"True\")\n",
        "  axes[0].set_xlabel(\"Predicted\")\n",
        "  axes[1].set_title(\"Normalized\")\n",
        "  axes[1].set_ylabel(\"True\")\n",
        "  axes[1].set_xlabel(\"Predicted\");"
      ],
      "execution_count": 37,
      "outputs": []
    },
    {
      "cell_type": "code",
      "metadata": {
        "colab": {
          "base_uri": "https://localhost:8080/",
          "height": 723
        },
        "id": "EshpCo5KTAz3",
        "outputId": "9bf01554-0988-41ee-b303-4cbc7bb9f82f"
      },
      "source": [
        "confusion_of_the_highest_orda(fin_matrix,fin_norm,\"finbert\")\n",
        "confusion_of_the_highest_orda(matrix_ml,norm_ml,\"ml_bert\")"
      ],
      "execution_count": 38,
      "outputs": [
        {
          "output_type": "display_data",
          "data": {
            "image/png": "[encoded data removed]",
            "text/plain": [
              "<Figure size 720x360 with 2 Axes>"
            ]
          },
          "metadata": {
            "tags": [],
            "needs_background": "light"
          }
        },
        {
          "output_type": "display_data",
          "data": {
            "image/png": "[encoded data removed]",
            "text/plain": [
              "<Figure size 720x360 with 2 Axes>"
            ]
          },
          "metadata": {
            "tags": [],
            "needs_background": "light"
          }
        }
      ]
    },
    {
      "cell_type": "markdown",
      "metadata": {
        "id": "Jrrynn3B88MR"
      },
      "source": [
        "The confusion matrices show that the multilingual bert model predicts more false positives than finbert, but in all other ways finbert comes ahead."
      ]
    },
    {
      "cell_type": "code",
      "metadata": {
        "id": "M8AQ204kVLg9"
      },
      "source": [
        "def test_dfs(results,d):\n",
        "  y_pred = np.argmax(results.predictions, axis=1) # array of predicted labels\n",
        "  y_true = d['test']['label'] \n",
        "  test_results_df = pd.DataFrame(data=list(zip(d['test']['text'], y_pred.tolist(), y_true)), \n",
        "                            columns=['text', 'prediction', 'true'])\n",
        "\n",
        "  # successfully predicted entity relations in the test data:\n",
        "  TP = test_results_df[(test_results_df['true']==1) & (test_results_df['prediction']==1)]\n",
        "  # successfully predicted NO relations in the test data:\n",
        "  TN = test_results_df[(test_results_df['true']==0) & (test_results_df['prediction']==0)]\n",
        "  # False positives: The model thinks there is an entity relation when there truly is not!\n",
        "  FP = test_results_df[(test_results_df['true']==0) & (test_results_df['prediction']==1)]\n",
        "  # False negatives: The model thinks there is no entity relation when there truly is!\n",
        "  FN = test_results_df[(test_results_df['true']==1) & (test_results_df['prediction']==0)]\n",
        "  return [TP,TN,FP,FN]"
      ],
      "execution_count": 39,
      "outputs": []
    },
    {
      "cell_type": "code",
      "metadata": {
        "id": "WaYwiR-Rmppr"
      },
      "source": [
        "def comparison_df(df1,df2):\n",
        "  \"\"\"Merge 2 dataframes for comparison\"\"\"\n",
        "  comparison_df = df1.merge(\n",
        "        df2,\n",
        "        indicator=True,\n",
        "        how='outer'\n",
        "    )\n",
        "  \n",
        "  for i in range(len(comparison_df)):\n",
        "    if comparison_df.loc[i,'_merge'] == 'left_only':\n",
        "      print(\"Predicted by finbert only\",comparison_df.loc[i,'text'])\n",
        "    if comparison_df.loc[i,'_merge'] == 'right_only':\n",
        "      print(\"Pedicted by multilingual bert only\",comparison_df.loc[i,'text'])"
      ],
      "execution_count": 47,
      "outputs": []
    },
    {
      "cell_type": "code",
      "metadata": {
        "colab": {
          "base_uri": "https://localhost:8080/"
        },
        "id": "QGGc_xSPocZ3",
        "outputId": "a350eea3-79af-4101-c4b3-60f5836c39f7"
      },
      "source": [
        "count = 0\n",
        "for df1, df2 in zip(test_dfs(test_results_fin,encoded_dataset_fin),test_dfs(test_results_ml,encoded_dataset)):\n",
        "  if count == 0:\n",
        "    print(\"successfully predicted entity relations\",'\\n')\n",
        "    print(comparison_df(df1,df2),'\\n')\n",
        "    count += 1\n",
        "  if count == 1:\n",
        "    print(\"successfully predicted NO relations\",'\\n')\n",
        "    print(comparison_df(df1,df2),'\\n')\n",
        "    count += 1\n",
        "  if count == 2:\n",
        "    print(\"False positives\",'\\n')\n",
        "    print(comparison_df(df1,df2),'\\n')\n",
        "    count += 1\n",
        "  if count == 3:\n",
        "    print(\"False negatives\",'\\n')\n",
        "    print(comparison_df(df1,df2),'\\n')\n",
        "    count += 1"
      ],
      "execution_count": 48,
      "outputs": [
        {
          "output_type": "stream",
          "text": [
            "successfully predicted entity relations \n",
            "\n",
            "Predicted by finbert only Parisen tuhatta kirjaa 25 liikkeeseen vuodessa lähettävän ORG yrittäjä PERSON kertoo , että Pohjois - Suomessa tehdään kuvakirjoja vähemmän kuin etelässä .\n",
            "Predicted by finbert only Paikalla Interlagosissa oli myös entinen F1 - kuljettaja Gerhard Berger , yksi PERSON läheisimmistä ystävistä ja monivuotinen tallikaveri ORG - ajoilta 1990 - luvun taitteesta .\n",
            "Predicted by finbert only ORG suorittamien tutkimusten jälkeen useita salaliittoon sekaantuneita korkea - arvoisia upseereja pidätettiin ja tuomittiin kansantuomioistuimessa vallankaappausyrityksestä ja salaliitosta PERSON vastaan .\n",
            "Predicted by finbert only Turkkusex - 06 : Sami Hernesaho Pokeritieto : PERSON siirtyy ORG Grand Casino Helsinki : Finnish Poker Awards 2010\n",
            "Predicted by finbert only Kun ORG jäi muutama vuosi sitten tuumaustauolle , PERSON iski tietynlainen henkinen krapula , vaikka telakalle jääminen tapahtui sulassa yhteisymmärryksessä .\n",
            "Pedicted by multilingual bert only Kuukauden Skyttä PERSON oli näyttävästi mukana ORG 1 . 6 . 2012 .\n",
            "Pedicted by multilingual bert only PERSON ORG koulunjohtaja Jyrinää ja mustaa savua\n",
            "Pedicted by multilingual bert only Latvala valmistui filosofian maisteriksi vuonna 2008 ORG pääaineenaan kotimainen kirjallisuus . Vuonna 2007 ilmestyi PERSON novellikokoelman ja romaanin välillä liikkuva esikoisteos Arvostelukappale , jolle myönnettiin Kalevi Jäntin palkinto .\n",
            "Pedicted by multilingual bert only Toivottavasti ORG löytää PERSON hyvät kaverit 1 . kenttään .\n",
            "Pedicted by multilingual bert only ORG - yhtyeessä aloittanut Olli Lindholm ja sanoittaja PERSON saivat myös seuraavana vuonna albumistaan timanttilevyt uudella Yö - yhtyeellään .\n",
            "Pedicted by multilingual bert only Sittemmin PERSON omaksui näpäytykset ORG - lehteensä .\n",
            "Pedicted by multilingual bert only AHNEIDEN AIKA ORG oli hajotettu aamulehdissä olisi kuvia joissa huoli kuvastuu presidentti PERSON kasvoilta ja\n",
            "Pedicted by multilingual bert only PERSON palaa kotiinsa ORG .\n",
            "Pedicted by multilingual bert only PERSON ja Arthur Niemi , jotka johtivat korpelalaisuuden hurmahenkiseksi lahkoksi ( \" ORG \" ) , jossa mm harjoitettiin rukoushuoneella orgioita ja alaikäisiäkin tuli raskaaksi .\n",
            "Pedicted by multilingual bert only PERSON jouduttua eroamaan Irak - vuodon vuoksi Vanhanen valittiin pääministeriksi kesäkuussa ja ORG puheenjohtajaksi ylimääräisessä puoluekokouksessa lokakuussa 2003 .\n",
            "Pedicted by multilingual bert only PERSON ohitti Jonesin ja hankki näin ORG uudelle turbomallille ensimmäisen osakilpailuvoiton .\n",
            "None \n",
            "\n",
            "successfully predicted NO relations \n",
            "\n",
            "Predicted by finbert only Parisen tuhatta kirjaa 25 liikkeeseen vuodessa lähettävän ORG yrittäjä PERSON kertoo , että Pohjois - Suomessa tehdään kuvakirjoja vähemmän kuin etelässä .\n",
            "Predicted by finbert only Paikalla Interlagosissa oli myös entinen F1 - kuljettaja Gerhard Berger , yksi PERSON läheisimmistä ystävistä ja monivuotinen tallikaveri ORG - ajoilta 1990 - luvun taitteesta .\n",
            "Predicted by finbert only ORG suorittamien tutkimusten jälkeen useita salaliittoon sekaantuneita korkea - arvoisia upseereja pidätettiin ja tuomittiin kansantuomioistuimessa vallankaappausyrityksestä ja salaliitosta PERSON vastaan .\n",
            "Predicted by finbert only Turkkusex - 06 : Sami Hernesaho Pokeritieto : PERSON siirtyy ORG Grand Casino Helsinki : Finnish Poker Awards 2010\n",
            "Predicted by finbert only Kun ORG jäi muutama vuosi sitten tuumaustauolle , PERSON iski tietynlainen henkinen krapula , vaikka telakalle jääminen tapahtui sulassa yhteisymmärryksessä .\n",
            "Pedicted by multilingual bert only Kuukauden Skyttä PERSON oli näyttävästi mukana ORG 1 . 6 . 2012 .\n",
            "Pedicted by multilingual bert only PERSON ORG koulunjohtaja Jyrinää ja mustaa savua\n",
            "Pedicted by multilingual bert only Latvala valmistui filosofian maisteriksi vuonna 2008 ORG pääaineenaan kotimainen kirjallisuus . Vuonna 2007 ilmestyi PERSON novellikokoelman ja romaanin välillä liikkuva esikoisteos Arvostelukappale , jolle myönnettiin Kalevi Jäntin palkinto .\n",
            "Pedicted by multilingual bert only Toivottavasti ORG löytää PERSON hyvät kaverit 1 . kenttään .\n",
            "Pedicted by multilingual bert only ORG - yhtyeessä aloittanut Olli Lindholm ja sanoittaja PERSON saivat myös seuraavana vuonna albumistaan timanttilevyt uudella Yö - yhtyeellään .\n",
            "Pedicted by multilingual bert only Sittemmin PERSON omaksui näpäytykset ORG - lehteensä .\n",
            "Pedicted by multilingual bert only AHNEIDEN AIKA ORG oli hajotettu aamulehdissä olisi kuvia joissa huoli kuvastuu presidentti PERSON kasvoilta ja\n",
            "Pedicted by multilingual bert only PERSON palaa kotiinsa ORG .\n",
            "Pedicted by multilingual bert only PERSON ja Arthur Niemi , jotka johtivat korpelalaisuuden hurmahenkiseksi lahkoksi ( \" ORG \" ) , jossa mm harjoitettiin rukoushuoneella orgioita ja alaikäisiäkin tuli raskaaksi .\n",
            "Pedicted by multilingual bert only PERSON jouduttua eroamaan Irak - vuodon vuoksi Vanhanen valittiin pääministeriksi kesäkuussa ja ORG puheenjohtajaksi ylimääräisessä puoluekokouksessa lokakuussa 2003 .\n",
            "Pedicted by multilingual bert only PERSON ohitti Jonesin ja hankki näin ORG uudelle turbomallille ensimmäisen osakilpailuvoiton .\n",
            "None \n",
            "\n",
            "False positives \n",
            "\n",
            "Predicted by finbert only Parisen tuhatta kirjaa 25 liikkeeseen vuodessa lähettävän ORG yrittäjä PERSON kertoo , että Pohjois - Suomessa tehdään kuvakirjoja vähemmän kuin etelässä .\n",
            "Predicted by finbert only Paikalla Interlagosissa oli myös entinen F1 - kuljettaja Gerhard Berger , yksi PERSON läheisimmistä ystävistä ja monivuotinen tallikaveri ORG - ajoilta 1990 - luvun taitteesta .\n",
            "Predicted by finbert only ORG suorittamien tutkimusten jälkeen useita salaliittoon sekaantuneita korkea - arvoisia upseereja pidätettiin ja tuomittiin kansantuomioistuimessa vallankaappausyrityksestä ja salaliitosta PERSON vastaan .\n",
            "Predicted by finbert only Turkkusex - 06 : Sami Hernesaho Pokeritieto : PERSON siirtyy ORG Grand Casino Helsinki : Finnish Poker Awards 2010\n",
            "Predicted by finbert only Kun ORG jäi muutama vuosi sitten tuumaustauolle , PERSON iski tietynlainen henkinen krapula , vaikka telakalle jääminen tapahtui sulassa yhteisymmärryksessä .\n",
            "Pedicted by multilingual bert only Kuukauden Skyttä PERSON oli näyttävästi mukana ORG 1 . 6 . 2012 .\n",
            "Pedicted by multilingual bert only PERSON ORG koulunjohtaja Jyrinää ja mustaa savua\n",
            "Pedicted by multilingual bert only Latvala valmistui filosofian maisteriksi vuonna 2008 ORG pääaineenaan kotimainen kirjallisuus . Vuonna 2007 ilmestyi PERSON novellikokoelman ja romaanin välillä liikkuva esikoisteos Arvostelukappale , jolle myönnettiin Kalevi Jäntin palkinto .\n",
            "Pedicted by multilingual bert only Toivottavasti ORG löytää PERSON hyvät kaverit 1 . kenttään .\n",
            "Pedicted by multilingual bert only ORG - yhtyeessä aloittanut Olli Lindholm ja sanoittaja PERSON saivat myös seuraavana vuonna albumistaan timanttilevyt uudella Yö - yhtyeellään .\n",
            "Pedicted by multilingual bert only Sittemmin PERSON omaksui näpäytykset ORG - lehteensä .\n",
            "Pedicted by multilingual bert only AHNEIDEN AIKA ORG oli hajotettu aamulehdissä olisi kuvia joissa huoli kuvastuu presidentti PERSON kasvoilta ja\n",
            "Pedicted by multilingual bert only PERSON palaa kotiinsa ORG .\n",
            "Pedicted by multilingual bert only PERSON ja Arthur Niemi , jotka johtivat korpelalaisuuden hurmahenkiseksi lahkoksi ( \" ORG \" ) , jossa mm harjoitettiin rukoushuoneella orgioita ja alaikäisiäkin tuli raskaaksi .\n",
            "Pedicted by multilingual bert only PERSON jouduttua eroamaan Irak - vuodon vuoksi Vanhanen valittiin pääministeriksi kesäkuussa ja ORG puheenjohtajaksi ylimääräisessä puoluekokouksessa lokakuussa 2003 .\n",
            "Pedicted by multilingual bert only PERSON ohitti Jonesin ja hankki näin ORG uudelle turbomallille ensimmäisen osakilpailuvoiton .\n",
            "None \n",
            "\n",
            "False negatives \n",
            "\n",
            "Predicted by finbert only Parisen tuhatta kirjaa 25 liikkeeseen vuodessa lähettävän ORG yrittäjä PERSON kertoo , että Pohjois - Suomessa tehdään kuvakirjoja vähemmän kuin etelässä .\n",
            "Predicted by finbert only Paikalla Interlagosissa oli myös entinen F1 - kuljettaja Gerhard Berger , yksi PERSON läheisimmistä ystävistä ja monivuotinen tallikaveri ORG - ajoilta 1990 - luvun taitteesta .\n",
            "Predicted by finbert only ORG suorittamien tutkimusten jälkeen useita salaliittoon sekaantuneita korkea - arvoisia upseereja pidätettiin ja tuomittiin kansantuomioistuimessa vallankaappausyrityksestä ja salaliitosta PERSON vastaan .\n",
            "Predicted by finbert only Turkkusex - 06 : Sami Hernesaho Pokeritieto : PERSON siirtyy ORG Grand Casino Helsinki : Finnish Poker Awards 2010\n",
            "Predicted by finbert only Kun ORG jäi muutama vuosi sitten tuumaustauolle , PERSON iski tietynlainen henkinen krapula , vaikka telakalle jääminen tapahtui sulassa yhteisymmärryksessä .\n",
            "Pedicted by multilingual bert only Kuukauden Skyttä PERSON oli näyttävästi mukana ORG 1 . 6 . 2012 .\n",
            "Pedicted by multilingual bert only PERSON ORG koulunjohtaja Jyrinää ja mustaa savua\n",
            "Pedicted by multilingual bert only Latvala valmistui filosofian maisteriksi vuonna 2008 ORG pääaineenaan kotimainen kirjallisuus . Vuonna 2007 ilmestyi PERSON novellikokoelman ja romaanin välillä liikkuva esikoisteos Arvostelukappale , jolle myönnettiin Kalevi Jäntin palkinto .\n",
            "Pedicted by multilingual bert only Toivottavasti ORG löytää PERSON hyvät kaverit 1 . kenttään .\n",
            "Pedicted by multilingual bert only ORG - yhtyeessä aloittanut Olli Lindholm ja sanoittaja PERSON saivat myös seuraavana vuonna albumistaan timanttilevyt uudella Yö - yhtyeellään .\n",
            "Pedicted by multilingual bert only Sittemmin PERSON omaksui näpäytykset ORG - lehteensä .\n",
            "Pedicted by multilingual bert only AHNEIDEN AIKA ORG oli hajotettu aamulehdissä olisi kuvia joissa huoli kuvastuu presidentti PERSON kasvoilta ja\n",
            "Pedicted by multilingual bert only PERSON palaa kotiinsa ORG .\n",
            "Pedicted by multilingual bert only PERSON ja Arthur Niemi , jotka johtivat korpelalaisuuden hurmahenkiseksi lahkoksi ( \" ORG \" ) , jossa mm harjoitettiin rukoushuoneella orgioita ja alaikäisiäkin tuli raskaaksi .\n",
            "Pedicted by multilingual bert only PERSON jouduttua eroamaan Irak - vuodon vuoksi Vanhanen valittiin pääministeriksi kesäkuussa ja ORG puheenjohtajaksi ylimääräisessä puoluekokouksessa lokakuussa 2003 .\n",
            "Pedicted by multilingual bert only PERSON ohitti Jonesin ja hankki näin ORG uudelle turbomallille ensimmäisen osakilpailuvoiton .\n",
            "None \n",
            "\n"
          ],
          "name": "stdout"
        }
      ]
    },
    {
      "cell_type": "markdown",
      "metadata": {
        "id": "TH1Nc4JISdZ2"
      },
      "source": [
        "##Comparing the two models' metrics on the test data\n",
        "\n"
      ]
    },
    {
      "cell_type": "code",
      "metadata": {
        "colab": {
          "base_uri": "https://localhost:8080/"
        },
        "id": "3PHIEoTYGuDs",
        "outputId": "6d3c7902-45a6-467e-a8bf-990a21cfb399"
      },
      "source": [
        "for i,x in enumerate(zip(ml_metrics.items(),finBert_metrics.items())):\n",
        "  #print(i,x[0][0],x[1][0])\n",
        "  if i < 5:\n",
        "    print(f\"Multilingual bert's {x[0][0]} {x[0][1]}\",\"\\t\",f\"Finbert's {x[1][0]} {x[1][1]}\")"
      ],
      "execution_count": 42,
      "outputs": [
        {
          "output_type": "stream",
          "text": [
            "Multilingual bert's eval_loss 0.6496104001998901 \t Finbert's eval_loss 0.8758606910705566\n",
            "Multilingual bert's eval_accuracy 0.766497461928934 \t Finbert's eval_accuracy 0.8223350253807107\n",
            "Multilingual bert's eval_precision 0.7286821705426356 \t Finbert's eval_precision 0.8645833333333334\n",
            "Multilingual bert's eval_recall 0.8952380952380953 \t Finbert's eval_recall 0.7904761904761904\n",
            "Multilingual bert's eval_F1-score 0.8034188034188035 \t Finbert's eval_F1-score 0.8258706467661692\n"
          ],
          "name": "stdout"
        }
      ]
    },
    {
      "cell_type": "markdown",
      "metadata": {
        "id": "H8EryunqxYpk"
      },
      "source": [
        "The performance metrics with the test data can be accessed with the key \"metrics\" and the relevant key for each metric."
      ]
    },
    {
      "cell_type": "code",
      "metadata": {
        "colab": {
          "base_uri": "https://localhost:8080/"
        },
        "id": "pZ5lNh4eazse",
        "outputId": "61793e76-6132-4172-ba3a-eb93088c35ce"
      },
      "source": [
        "print(\"Metrics for the test data with finBert\")\n",
        "print(f\"F1-score\\t {test_results_fin.metrics['test_F1-score']*100:.3}\\nPrecision\\t {test_results_fin.metrics['test_precision']*100:.3}\\nRecall\\t\\t {test_results_fin.metrics['test_recall']*100:.3}\\nAccuracy\\t {test_results_fin.metrics['test_accuracy']*100:.3}\")"
      ],
      "execution_count": 43,
      "outputs": [
        {
          "output_type": "stream",
          "text": [
            "Metrics for the test data with finBert\n",
            "F1-score\t 82.0\n",
            "Precision\t 82.4\n",
            "Recall\t\t 81.7\n",
            "Accuracy\t 80.2\n"
          ],
          "name": "stdout"
        }
      ]
    },
    {
      "cell_type": "code",
      "metadata": {
        "colab": {
          "base_uri": "https://localhost:8080/"
        },
        "id": "t-eckac5cgw2",
        "outputId": "c4bb5cf0-8197-4360-bd18-8319c7bcc863"
      },
      "source": [
        "print(\"Metrics for the test data with multilingual bert\")\n",
        "print(f\"F1-score\\t {test_results_ml.metrics['test_F1-score']*100:.3}\\nPrecision\\t {test_results_ml.metrics['test_precision']*100:.3}\\nRecall\\t\\t {test_results_ml.metrics['test_recall']*100:.3}\\nAccuracy\\t {test_results_ml.metrics['test_accuracy']*100:.3}\")"
      ],
      "execution_count": 44,
      "outputs": [
        {
          "output_type": "stream",
          "text": [
            "Metrics for the test data with multilingual bert\n",
            "F1-score\t 78.2\n",
            "Precision\t 70.9\n",
            "Recall\t\t 87.2\n",
            "Accuracy\t 73.1\n"
          ],
          "name": "stdout"
        }
      ]
    },
    {
      "cell_type": "markdown",
      "metadata": {
        "id": "blADRrbizvf0"
      },
      "source": [
        "As we see above, the finnish bert edges out in performance on all the metrics except recall. This the result of a single iteration on a fairly small set of data. "
      ]
    },
    {
      "cell_type": "markdown",
      "metadata": {
        "id": "v1G_VqkHwG-L"
      },
      "source": [
        "# Milestone 3: A large scale application\n"
      ]
    },
    {
      "cell_type": "markdown",
      "metadata": {
        "id": "kGLNK8BW6N3S"
      },
      "source": [
        "- It was somewhat unclear what had to be done in this milestone overall, but we decided that we need to: look through a list of samples that were predicted to have a relation between entities, return the entities (ORG/PER) from the sample and then see which entities appear together most often\n",
        "- During this milestone we began to notice various problems arising from the data being in Finnish when compared to English. To find the most common entity pairs and to be able to compare and count them, they needed to be normalized  we decided that at least true casing and lemmatization was necessary (before this the mentions also had to be changed back from the ORG/PER forms to their original forms and tokenized). \n",
        "- With Finnish having a huge amount of inflected forms, the normalization process was more complicated than it would have been with English (in which one would probably just have to remove structures like possessive and plural forms from nouns). \n",
        "- The parser was very slow in Colab, initially running through multiple for-loops, splitting the tokens and putting them back together, and occasionally crashing in the middle  entire process significantly improved once it was ran locally at one point, speed greatly increased  however, finally it didn’t work in the end after all\n"
      ]
    },
    {
      "cell_type": "markdown",
      "metadata": {
        "id": "rWxEAGsxjrjg"
      },
      "source": [
        "## Prepare the new data"
      ]
    },
    {
      "cell_type": "code",
      "metadata": {
        "id": "67nNTetGPPke"
      },
      "source": [
        "!wget -nc -q http://dl.turkunlp.org/TKO_8964_2021/PER-ORG-pairs-fi.tsv"
      ],
      "execution_count": null,
      "outputs": []
    },
    {
      "cell_type": "code",
      "metadata": {
        "colab": {
          "base_uri": "https://localhost:8080/"
        },
        "id": "IbQSu03LQewX",
        "outputId": "c32d3e6e-2406-497d-9fe2-a1da52da3397"
      },
      "source": [
        "# some of the charachter encodings do not work in the original data, note the � symbol (rather trivial in big scale?)\n",
        "%%bash\n",
        "cat PER-ORG-pairs-fi.tsv | head -15 | less"
      ],
      "execution_count": null,
      "outputs": [
        {
          "output_type": "stream",
          "text": [
            "5ffb399f-8756-3127-9469-15d4c0cf2ff0\tunknown\tSiitoin tietää myös , että jo kuollut isäni joutui lähtemään juuri tuohon samaan aikaan <ORG>YLE : stä</ORG> , kun <PERSON>Hannu Lemisen</PERSON> johtajakausi päättyi ja isäni savustettiin samaan aikaan ulos TV2 : sta .\n",
            "4b78d157-5a7e-3167-8ea6-8b623bb4fcc1\tunknown\t<PERSON>Teemu Selänne</PERSON> syötti kaksi ja Sami Vatanen yhden <ORG>Anaheimin</ORG> maaleista , joista kolme syntyi yli - ja yksi alivoimalla .\n",
            "3ee089f8-c7fc-37b2-896f-4edd4989ffb0\tunknown\t<ORG>Ecotools</ORG> lanseerasi uusia siveltimiä ja pääsin niitä ihmettelemään muiden bloggaajien kanssa ihanan ystäväni <PERSON>Heidin</PERSON> hoitolaan , Kauneushoitola Kuiskaukseen .\n",
            "4050f97f-8b3f-3b84-b189-2526ffae5a6d\tunknown\tEi viihdettä eikä urheilua Helsingissä massiivinen vesivahinkoTänään 06 : 32 Pohjois - Korea laukaisi raketinTänään 05 : 08 2 minPäivän sääEilen 22 : 13 TV : Nyt ja seuraavaksi <ORG>Yle</ORG> TV104 : 00 Uutisikkuna08 : 00 Yle UutisetYle TV207 : 49 Hyrräpäät08 : 02 Niksi - NellaMTV307 : 05 Ostoskanava Tvins . com08 : 05 <PERSON>Elias</PERSON> ja pelastusryhmän seikkailutNelonen07 : 00 Onnenarpa08 : 30 Jaksa paremminSub06 : 00 Voittostudio08 : 00 Ostoskanava Tvins . comYle Teema04 : 00 Teematieto10 : 00 Elävä arkisto :\n",
            "96bdfaa1-2a3c-3d7a-b876-32c5adb5d5a6\tunknown\t<ORG>Unibet</ORG> Kirjoittaja <PERSON>Pete83</PERSON> » 23 Syys 2013 , 21 : 29 eipä oo tonnekkaan tullu talletusta tehtyä , uutiset kolikkopelit mtv3 .\n",
            "89d6c2c4-d1b7-3dde-826a-6a722bba5e3f\tunknown\tHuippulupauksen osuma jatkoajalla toi päävalmentajaksi alkuviikosta nousseen <PERSON>Jarno Pikkaraisen</PERSON> ensimmäisen voiton <ORG>TPS</ORG> - ruorissa .\n",
            "68e594c8-6a7a-357c-b4ef-4d24fcf4f93e\tunknown\tPyrintö sijoittui kaudella 1959 SM - sarjassa viidenneksi ja kaudella 1960 kuudenneksi . <PERSON>Martti Peippo</PERSON> – <ORG>Suomen Koripalloliitto</ORG>\n",
            "7d1dec74-e4bc-3e2c-a837-6aeff6fe8525\tunknown\tSlegrin paluuta Vancouveriin tukee se , että <PERSON>Murray Baronin</PERSON> kanssa ei näytetä päästävän millään sopimukseen ja <ORG>Canucks</ORG> tarvitsee yhden kokeneen puolustajan lisää .\n",
            "a9d04e31-d3f9-31f7-a059-6b13cdd57689\tunknown\t2 TIIVISTELMÄ <ORG>Tampereen yliopisto Johtamiskorkeakoulu</ORG> ; yrityksen taloustiede , laskentatoimi Tekijä : RYTILAHTI , <PERSON>JUTTA</PERSON>\n",
            "e5da7f92-6a7f-3402-a3ad-6fe21f979330\tunknown\tAvauserän päätteeksi <PERSON>Lasse Heiskanen</PERSON> ja Paavo Haimila tekivät toiset maalinsa mieheen ja <ORG>Voima</ORG> meni erätauolle riemukkaasti 1 - 6 johdossa .\n",
            "72fea36d-baec-3296-af41-b01d4f2f3453\tunknown\tPuolustaja Jere Sneckin , 20 , lainapesti kattaa <PERSON>Mäkisten</PERSON> tavoin koko kauden 2014 – 2015 , kun taas maalivahti Jani Kautto , 24 , on <ORG>Kiekko - Vantaan</ORG> mukana aina Jokerien ollessa Suomessa ja liittyy KHL - joukkueen rinkiin vierasmatkoilla .\n",
            "ddc04d33-b05c-339b-a0e1-a32a9d07e922\tunknown\t<ORG>Linjoihin</ORG> ei ole tullut kunnon vahvistuksia ( ja ei <PERSON>Kami</PERSON> ei ole vahvistus ) .\n",
            "38ae8704-9ce9-3c6b-ade6-9ee3f12ef553\tunknown\tSaan tehd� ty�t� ymp�rist�ss� ja yhteis�ss� , jonka koen t�rke�ksi ja arvokkaaksi , toteaa <PERSON>Tarja T�rtt�</PERSON> , joka on tammikuusta l�htien ollut Jamilahden kansanopiston toiminnanjohtaja ja rehtori . TARJA AUTIO , 29 . hein�kuuta 2015KPL haastaa Kiteen Vallikent�ll�Miesten superpesis esitt�ytyy Haminan Vallikent�ll� ensi lauantaina , kun klo 16 . 30 alkavassa ottelussa ottavat yhteen <ORG>Kouvolan Pallonly�j�t</ORG> ja Kiteen Pallo .\n",
            "5830d6ab-c06f-3a62-afd2-aaf77777092f\tunknown\tToki asia erikseen jos sopimuksessa on eriävä pykälä joka ilmoittaa <PERSON>Jeren</PERSON> pelaajaoikeuksien omistuksen <ORG>Bluesiin</ORG> jos suomessa tulee pelaamaan , mutta tiedä nyt näitä . .\n",
            "ee227a98-3590-3e0a-a21b-882df6492614\tunknown\tEdellä olevista nimistä mielenkiintoisena pidän ainoastaan <ORG>TPS : sta</ORG> fudut saanutta <PERSON>Hannusta</PERSON> , jolle voisin kuvitella löytyvän roolia myös Sportista .\n"
          ],
          "name": "stdout"
        }
      ]
    },
    {
      "cell_type": "code",
      "metadata": {
        "colab": {
          "base_uri": "https://localhost:8080/"
        },
        "id": "9eI2dDjW4nw4",
        "outputId": "e1c87459-e622-4901-b815-f36090798cfc"
      },
      "source": [
        "ms3=open_file('PER-ORG-pairs-fi.tsv')\n",
        "print(f\"We have {len(ms3)} new documents to analyze.\")"
      ],
      "execution_count": null,
      "outputs": [
        {
          "output_type": "stream",
          "text": [
            "We have 100000 new documents to analyze.\n"
          ],
          "name": "stdout"
        }
      ]
    },
    {
      "cell_type": "code",
      "metadata": {
        "id": "Ht-8TeUtf1Rv",
        "colab": {
          "base_uri": "https://localhost:8080/",
          "height": 67,
          "referenced_widgets": [
            "99b59e179dd44355b6a668e7e8682ed6",
            "5e29ad305b9246b7a9fb585b7ce44596",
            "77344af610274422bc2ccaf24c8d8ccd",
            "9aed30a5aba440c4a1f0021c7cdfc1e4",
            "8efbd323207c4d83b7ac012c14351cc1",
            "caa3dd7a0b7c4133b88e6f3c3e993db7",
            "d4425dae074d482aab83667c7c43547b",
            "8f54b33ff74a4129979058c42c13ff51"
          ]
        },
        "outputId": "50f51197-c023-4433-cf92-b3d27cae75a8"
      },
      "source": [
        "text = [re.sub(pattern_person, \"PERSON\", item) for item in ms3['document']]\n",
        "text = [re.sub(pattern_org, \"ORG\", item) for item in text]\n",
        "\n",
        "df = pd.DataFrame(text, columns =['text'])\n",
        "new_dataset = Dataset.from_pandas(df, features=Features( # provide the feature classes to make sure you get what you need\n",
        "    {'text': Value('string')}\n",
        "     )\n",
        ")\n",
        "\n",
        "new_dataset = DatasetDict({\n",
        "    'new': new_dataset})\n",
        "\n",
        "# tokenize the data\n",
        "encoded_new = new_dataset.map(encode_dataset_finBert)"
      ],
      "execution_count": null,
      "outputs": [
        {
          "output_type": "display_data",
          "data": {
            "application/vnd.jupyter.widget-view+json": {
              "model_id": "99b59e179dd44355b6a668e7e8682ed6",
              "version_minor": 0,
              "version_major": 2
            },
            "text/plain": [
              "HBox(children=(FloatProgress(value=0.0, max=100000.0), HTML(value='')))"
            ]
          },
          "metadata": {
            "tags": []
          }
        },
        {
          "output_type": "stream",
          "text": [
            "\n"
          ],
          "name": "stdout"
        }
      ]
    },
    {
      "cell_type": "markdown",
      "metadata": {
        "id": "F3_77tNejwJm"
      },
      "source": [
        "## Predict with the model"
      ]
    },
    {
      "cell_type": "code",
      "metadata": {
        "id": "fjfaaDB393zF"
      },
      "source": [
        "results = trainer_fin.predict(test_dataset=encoded_new['new'])"
      ],
      "execution_count": null,
      "outputs": []
    },
    {
      "cell_type": "code",
      "metadata": {
        "id": "dg8idQaJXlvZ"
      },
      "source": [
        "y_pred_fin = np.argmax(results.predictions, axis=1) # array of predicted labels\n",
        "# join texts and labels\n",
        "fin_predicted = pd.DataFrame(list(zip(y_pred_fin, ms3['document'])), columns =['predicted label', 'text'])"
      ],
      "execution_count": null,
      "outputs": []
    },
    {
      "cell_type": "code",
      "metadata": {
        "colab": {
          "base_uri": "https://localhost:8080/",
          "height": 198
        },
        "id": "pvx_XxnvJHkC",
        "outputId": "b3c215f2-5699-438f-ba48-190f163654ef"
      },
      "source": [
        "fin_predicted.head()"
      ],
      "execution_count": null,
      "outputs": [
        {
          "output_type": "execute_result",
          "data": {
            "text/html": [
              "<div>\n",
              "<style scoped>\n",
              "    .dataframe tbody tr th:only-of-type {\n",
              "        vertical-align: middle;\n",
              "    }\n",
              "\n",
              "    .dataframe tbody tr th {\n",
              "        vertical-align: top;\n",
              "    }\n",
              "\n",
              "    .dataframe thead th {\n",
              "        text-align: right;\n",
              "    }\n",
              "</style>\n",
              "<table border=\"1\" class=\"dataframe\">\n",
              "  <thead>\n",
              "    <tr style=\"text-align: right;\">\n",
              "      <th></th>\n",
              "      <th>predicted label</th>\n",
              "      <th>text</th>\n",
              "    </tr>\n",
              "  </thead>\n",
              "  <tbody>\n",
              "    <tr>\n",
              "      <th>0</th>\n",
              "      <td>0</td>\n",
              "      <td>Siitoin tietää myös , että jo kuollut isäni jo...</td>\n",
              "    </tr>\n",
              "    <tr>\n",
              "      <th>1</th>\n",
              "      <td>0</td>\n",
              "      <td>&lt;PERSON&gt;Teemu Selänne&lt;/PERSON&gt; syötti kaksi ja...</td>\n",
              "    </tr>\n",
              "    <tr>\n",
              "      <th>2</th>\n",
              "      <td>0</td>\n",
              "      <td>&lt;ORG&gt;Ecotools&lt;/ORG&gt; lanseerasi uusia siveltimi...</td>\n",
              "    </tr>\n",
              "    <tr>\n",
              "      <th>3</th>\n",
              "      <td>0</td>\n",
              "      <td>Ei viihdettä eikä urheilua Helsingissä massiiv...</td>\n",
              "    </tr>\n",
              "    <tr>\n",
              "      <th>4</th>\n",
              "      <td>1</td>\n",
              "      <td>&lt;ORG&gt;Unibet&lt;/ORG&gt; Kirjoittaja &lt;PERSON&gt;Pete83&lt;/...</td>\n",
              "    </tr>\n",
              "  </tbody>\n",
              "</table>\n",
              "</div>"
            ],
            "text/plain": [
              "   predicted label                                               text\n",
              "0                0  Siitoin tietää myös , että jo kuollut isäni jo...\n",
              "1                0  <PERSON>Teemu Selänne</PERSON> syötti kaksi ja...\n",
              "2                0  <ORG>Ecotools</ORG> lanseerasi uusia siveltimi...\n",
              "3                0  Ei viihdettä eikä urheilua Helsingissä massiiv...\n",
              "4                1  <ORG>Unibet</ORG> Kirjoittaja <PERSON>Pete83</..."
            ]
          },
          "metadata": {
            "tags": []
          },
          "execution_count": 81
        }
      ]
    },
    {
      "cell_type": "code",
      "metadata": {
        "colab": {
          "base_uri": "https://localhost:8080/"
        },
        "id": "ijceJXhqTYTB",
        "outputId": "1418576d-1138-4e2e-9025-2e07710c0aee"
      },
      "source": [
        "from google.colab import drive\n",
        "drive.mount('/content/drive')"
      ],
      "execution_count": 49,
      "outputs": [
        {
          "output_type": "stream",
          "text": [
            "Mounted at /content/drive\n"
          ],
          "name": "stdout"
        }
      ]
    },
    {
      "cell_type": "code",
      "metadata": {
        "id": "FxqPlsNdF2nF"
      },
      "source": [
        "file_path = \"/content/gdrive/My Drive/Textual_Data_Analysis\"\n",
        "\n",
        "\n",
        "#!mkdir '{predictions_file_path}' # if you haven't created the folder before (note: you only need to do this once!)\n",
        "predictions_file_path = file_path+\"/content/drive/My Drive/Textual_Data_Analysis/predictions/model_predictions.csv\""
      ],
      "execution_count": null,
      "outputs": []
    },
    {
      "cell_type": "code",
      "metadata": {
        "id": "sh6LgXzIIB9N"
      },
      "source": [
        "# save the predictions\n",
        "fin_predicted.to_csv(\"/content/drive/My Drive/Textual_Data_Analysis/model_predictions.csv\", index=False)"
      ],
      "execution_count": null,
      "outputs": []
    },
    {
      "cell_type": "code",
      "metadata": {
        "id": "ztg1c2QiH2hN",
        "colab": {
          "base_uri": "https://localhost:8080/",
          "height": 402
        },
        "outputId": "24d762cf-ee98-4cd3-9a4c-8a112dcd9e2a"
      },
      "source": [
        "# or load the predictions\n",
        "\n",
        "fin_predicted = pd.read_csv(\"/content/drive/My Drive/Textual_Data_Analysis/model_predictions.csv\", sep=',')\n",
        "fin_predicted"
      ],
      "execution_count": 50,
      "outputs": [
        {
          "output_type": "execute_result",
          "data": {
            "text/html": [
              "<div>\n",
              "<style scoped>\n",
              "    .dataframe tbody tr th:only-of-type {\n",
              "        vertical-align: middle;\n",
              "    }\n",
              "\n",
              "    .dataframe tbody tr th {\n",
              "        vertical-align: top;\n",
              "    }\n",
              "\n",
              "    .dataframe thead th {\n",
              "        text-align: right;\n",
              "    }\n",
              "</style>\n",
              "<table border=\"1\" class=\"dataframe\">\n",
              "  <thead>\n",
              "    <tr style=\"text-align: right;\">\n",
              "      <th></th>\n",
              "      <th>predicted label</th>\n",
              "      <th>text</th>\n",
              "    </tr>\n",
              "  </thead>\n",
              "  <tbody>\n",
              "    <tr>\n",
              "      <th>0</th>\n",
              "      <td>0</td>\n",
              "      <td>Siitoin tietää myös , että jo kuollut isäni jo...</td>\n",
              "    </tr>\n",
              "    <tr>\n",
              "      <th>1</th>\n",
              "      <td>1</td>\n",
              "      <td>&lt;PERSON&gt;Teemu Selänne&lt;/PERSON&gt; syötti kaksi ja...</td>\n",
              "    </tr>\n",
              "    <tr>\n",
              "      <th>2</th>\n",
              "      <td>0</td>\n",
              "      <td>&lt;ORG&gt;Ecotools&lt;/ORG&gt; lanseerasi uusia siveltimi...</td>\n",
              "    </tr>\n",
              "    <tr>\n",
              "      <th>3</th>\n",
              "      <td>0</td>\n",
              "      <td>Ei viihdettä eikä urheilua Helsingissä massiiv...</td>\n",
              "    </tr>\n",
              "    <tr>\n",
              "      <th>4</th>\n",
              "      <td>0</td>\n",
              "      <td>&lt;ORG&gt;Unibet&lt;/ORG&gt; Kirjoittaja &lt;PERSON&gt;Pete83&lt;/...</td>\n",
              "    </tr>\n",
              "    <tr>\n",
              "      <th>...</th>\n",
              "      <td>...</td>\n",
              "      <td>...</td>\n",
              "    </tr>\n",
              "    <tr>\n",
              "      <th>99995</th>\n",
              "      <td>1</td>\n",
              "      <td>Latvalan etuautoa ajoi kokenut &lt;ORG&gt;Monte&lt;/ORG...</td>\n",
              "    </tr>\n",
              "    <tr>\n",
              "      <th>99996</th>\n",
              "      <td>0</td>\n",
              "      <td>Tällä viikolla olisi vielä tarkoitus lopultaki...</td>\n",
              "    </tr>\n",
              "    <tr>\n",
              "      <th>99997</th>\n",
              "      <td>0</td>\n",
              "      <td>Olen ihastunut &lt;PERSON&gt;Magnus Silfvenius Öhman...</td>\n",
              "    </tr>\n",
              "    <tr>\n",
              "      <th>99998</th>\n",
              "      <td>1</td>\n",
              "      <td>Rikoskomisario &lt;PERSON&gt;Timo Pirinen&lt;/PERSON&gt; o...</td>\n",
              "    </tr>\n",
              "    <tr>\n",
              "      <th>99999</th>\n",
              "      <td>1</td>\n",
              "      <td>Jo pelkästään pääkaupunkiseudulla on 17 Rengas...</td>\n",
              "    </tr>\n",
              "  </tbody>\n",
              "</table>\n",
              "<p>100000 rows × 2 columns</p>\n",
              "</div>"
            ],
            "text/plain": [
              "       predicted label                                               text\n",
              "0                    0  Siitoin tietää myös , että jo kuollut isäni jo...\n",
              "1                    1  <PERSON>Teemu Selänne</PERSON> syötti kaksi ja...\n",
              "2                    0  <ORG>Ecotools</ORG> lanseerasi uusia siveltimi...\n",
              "3                    0  Ei viihdettä eikä urheilua Helsingissä massiiv...\n",
              "4                    0  <ORG>Unibet</ORG> Kirjoittaja <PERSON>Pete83</...\n",
              "...                ...                                                ...\n",
              "99995                1  Latvalan etuautoa ajoi kokenut <ORG>Monte</ORG...\n",
              "99996                0  Tällä viikolla olisi vielä tarkoitus lopultaki...\n",
              "99997                0  Olen ihastunut <PERSON>Magnus Silfvenius Öhman...\n",
              "99998                1  Rikoskomisario <PERSON>Timo Pirinen</PERSON> o...\n",
              "99999                1  Jo pelkästään pääkaupunkiseudulla on 17 Rengas...\n",
              "\n",
              "[100000 rows x 2 columns]"
            ]
          },
          "metadata": {
            "tags": []
          },
          "execution_count": 50
        }
      ]
    },
    {
      "cell_type": "markdown",
      "metadata": {
        "id": "E1JqAuUvkB1y"
      },
      "source": [
        "## Performance evaluation"
      ]
    },
    {
      "cell_type": "code",
      "metadata": {
        "id": "d_s8Hf0YifKv",
        "colab": {
          "base_uri": "https://localhost:8080/",
          "height": 295
        },
        "outputId": "ba875f39-a833-433d-852e-1912c52d6bfc"
      },
      "source": [
        "sns.countplot(data=fin_predicted, x='predicted label').set_title('Model predictions');"
      ],
      "execution_count": 51,
      "outputs": [
        {
          "output_type": "display_data",
          "data": {
            "image/png": "[encoded data removed]",
            "text/plain": [
              "<Figure size 432x288 with 1 Axes>"
            ]
          },
          "metadata": {
            "tags": [],
            "needs_background": "light"
          }
        }
      ]
    },
    {
      "cell_type": "code",
      "metadata": {
        "id": "FLjS1B_QkIrJ"
      },
      "source": [
        "relations = fin_predicted.loc[fin_predicted['predicted label']==1]"
      ],
      "execution_count": 52,
      "outputs": []
    },
    {
      "cell_type": "markdown",
      "metadata": {
        "id": "eZnrIqRNXVVd"
      },
      "source": [
        "Note here that `re.search` finds the first or only occurence and returns a match object. `re.findall` finds all of the occurences and returns a list. Since we do not feel like handling the match objects, we just unravel the nested list we receive after using `re.findall`."
      ]
    },
    {
      "cell_type": "code",
      "metadata": {
        "id": "jMhgu-MmVrKI"
      },
      "source": [
        "per = [re.findall(r'<PERSON>(.+)</PERSON>', item) for item in relations['text']]\n",
        "org = [re.findall(r'<ORG>(.+)</ORG>', item) for item in relations['text']]\n",
        "\n",
        "per = [item for sublist in per for item in sublist] # flatten a nested list: https://stackoverflow.com/a/952952\n",
        "org = [item for sublist in org for item in sublist] "
      ],
      "execution_count": 53,
      "outputs": []
    },
    {
      "cell_type": "code",
      "metadata": {
        "id": "Sv2GbjgHGO7S",
        "colab": {
          "base_uri": "https://localhost:8080/"
        },
        "outputId": "364142c1-cf8c-40c7-a43a-c77f199d631e"
      },
      "source": [
        "for i in range(5):\n",
        "  print(i, \"person:\", per[i], \"\\n  organization:\", org[i])"
      ],
      "execution_count": 54,
      "outputs": [
        {
          "output_type": "stream",
          "text": [
            "0 person: Teemu Selänne \n",
            "  organization: Anaheimin\n",
            "1 person: Jarno Pikkaraisen \n",
            "  organization: TPS\n",
            "2 person: Martti Peippo \n",
            "  organization: Suomen Koripalloliitto\n",
            "3 person: Murray Baronin \n",
            "  organization: Canucks\n",
            "4 person: JUTTA \n",
            "  organization: Tampereen yliopisto Johtamiskorkeakoulu\n"
          ],
          "name": "stdout"
        }
      ]
    },
    {
      "cell_type": "markdown",
      "metadata": {
        "id": "vBm2VkJsh3I2"
      },
      "source": [
        "##Looking at counts of entities and their frequencies to appear in a relation"
      ]
    },
    {
      "cell_type": "code",
      "metadata": {
        "id": "UuTjCqKB_Mu5"
      },
      "source": [
        "org = [re.sub('\\s:\\s', ':',t) for t in org] # colon issue: TTVO : lla --> TTVO:lla\n",
        "org = [re.sub('(\\s\\S)$', '',t) for t in org] # whitespace issue: EAME a --> EAME"
      ],
      "execution_count": 55,
      "outputs": []
    },
    {
      "cell_type": "code",
      "metadata": {
        "id": "0XkJlKKnr9M4"
      },
      "source": [
        "#Lowercase the entities to get more duplicates\n",
        "org = [s.lower() for s in org]\n",
        "per = [s.lower() for s in per]"
      ],
      "execution_count": 56,
      "outputs": []
    },
    {
      "cell_type": "code",
      "metadata": {
        "id": "MjBFVFo-so4g"
      },
      "source": [
        "def count_duplicates(list):\n",
        "  \"\"\"Pick up duplicates and their counts into a dictionairy\"\"\"\n",
        "  duplicates = {}\n",
        "  for i in list:\n",
        "    duplicates[i] = list.count(i)\n",
        "  lista = sorted(duplicates.items(), key=lambda x: x[1], reverse=True)\n",
        "  return lista"
      ],
      "execution_count": 57,
      "outputs": []
    },
    {
      "cell_type": "code",
      "metadata": {
        "id": "VozPPMPprbk4"
      },
      "source": [
        "sorted_orgs = count_duplicates(org)\n",
        "sorted_persons = count_duplicates(per)"
      ],
      "execution_count": 58,
      "outputs": []
    },
    {
      "cell_type": "code",
      "metadata": {
        "id": "2_DMZ5bzjJ5J"
      },
      "source": [
        "entities = list(zip(org,per))"
      ],
      "execution_count": 59,
      "outputs": []
    },
    {
      "cell_type": "code",
      "metadata": {
        "id": "aN6bQ96ssu9h",
        "colab": {
          "base_uri": "https://localhost:8080/"
        },
        "outputId": "dbc6b19d-39e1-4260-e908-df1e31ec51cb"
      },
      "source": [
        "print(\"20 most common organizations:\")\n",
        "for i in sorted_orgs[:20]:\n",
        "  print(i[0], i[1])\n",
        "print()\n",
        "print(\"20 most common persons:\")\n",
        "for i in sorted_persons[:20]:\n",
        "  print(i[0], i[1])"
      ],
      "execution_count": 60,
      "outputs": [
        {
          "output_type": "stream",
          "text": [
            "20 most common organizations:\n",
            "yle 423\n",
            "nhl 326\n",
            "kok 252\n",
            "catholic - hierarchy . org 212\n",
            "helsingin yliopiston 195\n",
            "kesk 180\n",
            "ilveksen 163\n",
            "tapparan 157\n",
            "nhl:ssä 155\n",
            "kokoomuksen 154\n",
            "sd 144\n",
            "tps:n 143\n",
            "sdp:n 139\n",
            "ässien 135\n",
            "hifk:n 134\n",
            "keskustan 133\n",
            "saipan 126\n",
            "perussuomalaisten 125\n",
            "lukon 120\n",
            "kalpan 118\n",
            "\n",
            "20 most common persons:\n",
            "markus jänttiä 55\n",
            "korhonen 49\n",
            "juha sipilä 48\n",
            "alexander stubb 42\n",
            "timo soini 40\n",
            "ilmari rostila 40\n",
            "niemi 38\n",
            "markus jäntti 37\n",
            "antti rinne 35\n",
            "tanja nieminen 35\n",
            "sture fjäder 34\n",
            "nieminen 34\n",
            "jyrki katainen 31\n",
            "miettinen 28\n",
            "erkki liikanen 28\n",
            "edgar paulin 28\n",
            "virtanen 28\n",
            "rajeev suri 27\n",
            "kapanen 27\n",
            "antti 27\n"
          ],
          "name": "stdout"
        }
      ]
    },
    {
      "cell_type": "code",
      "metadata": {
        "id": "8WbK3UKN1QOc"
      },
      "source": [
        "import collections\n",
        "\n",
        "related_entities = collections.Counter(entities)"
      ],
      "execution_count": 61,
      "outputs": []
    },
    {
      "cell_type": "code",
      "metadata": {
        "id": "UdXYYm0s1cof",
        "colab": {
          "base_uri": "https://localhost:8080/"
        },
        "outputId": "4e15877e-d89b-4ec1-d52e-28890100eeda"
      },
      "source": [
        "print(\"Most often related entities\")\n",
        "related_entities.most_common(10)"
      ],
      "execution_count": 64,
      "outputs": [
        {
          "output_type": "stream",
          "text": [
            "Most often related entities\n"
          ],
          "name": "stdout"
        },
        {
          "output_type": "execute_result",
          "data": {
            "text/plain": [
              "[(('suomen perusta', 'ilmari rostila'), 40),\n",
              " (('helsingin yliopiston', 'markus jäntti'), 36),\n",
              " (('tts', 'tanja nieminen'), 33),\n",
              " (('kesk', 'juha sipilä'), 29),\n",
              " (('helsingin yliopiston', 'markus jänttiä'), 28),\n",
              " (('eif', 'edgar paulin'), 28),\n",
              " (('akavan', 'sture fjäder'), 27),\n",
              " (('palkansaajien tutkimuslaitos', 'markus jänttiä'), 27),\n",
              " (('kok', 'alexander stubb'), 26),\n",
              " (('suomen pankin', 'erkki liikanen'), 25)]"
            ]
          },
          "metadata": {
            "tags": []
          },
          "execution_count": 64
        }
      ]
    },
    {
      "cell_type": "markdown",
      "metadata": {
        "id": "ON-BGxxI2z6l"
      },
      "source": [
        "As we see above the most common entitities that are related to each other consern political parties, institutions and their represantives."
      ]
    },
    {
      "cell_type": "markdown",
      "metadata": {
        "id": "aoHWK3CXC765"
      },
      "source": [
        "## Lemmatization with the TurkuNLP parser"
      ]
    },
    {
      "cell_type": "markdown",
      "metadata": {
        "id": "lfJE58ZAAStt"
      },
      "source": [
        "After spending hours on trying to lemmatize with the TurkuNLP parser we discarded this approach as the parser would not work with the amount of data given and would crash the colab."
      ]
    },
    {
      "cell_type": "markdown",
      "metadata": {
        "id": "3ER1Q7bYOzUU"
      },
      "source": [
        "https://github.com/TurkuNLP/Turku-neural-parser-pipeline/blob/modularize/turku_neural_parser_colab.ipynb"
      ]
    },
    {
      "cell_type": "code",
      "metadata": {
        "id": "FzE3xhnsW7gx"
      },
      "source": [
        "# the parser\n",
        "!wget -q http://dl.turkunlp.org/turku-parser-models/turku_neural_parser-0.3-py3-none-any.whl\n",
        "!pip3 --quiet install turku_neural_parser-0.3-py3-none-any.whl\n",
        "\n",
        "# installations (versions) required for the parser to work on colab\n",
        "!pip --quiet install torch==1.7.0 torchtext==0.4.0 overrides==3.1.0"
      ],
      "execution_count": null,
      "outputs": []
    },
    {
      "cell_type": "code",
      "metadata": {
        "id": "oiXhDZiUC-ZC"
      },
      "source": [
        "#Tällä saadaan parser toimimaan gpu:lla\n",
        "import types\n",
        "extra_args=types.SimpleNamespace()\n",
        "extra_args.__dict__[\"udify_mod.device\"]=\"0\" #simulates someone giving a --device 0 parameter to Udify\n",
        "extra_args.__dict__[\"lemmatizer_mod.device\"]=\"0\"\n",
        "\n",
        "# Download and unpack the model\n",
        "!wget -nc http://dl.turkunlp.org/turku-parser-models/models_fi_tdt_v2.7.tar.gz\n",
        "!tar zxvf models_fi_tdt_v2.7.tar.gz\n",
        "\n",
        "#Importataan turku neural parser \n",
        "from tnparser.pipeline import read_pipelines, Pipeline\n",
        "available_pipelines=read_pipelines(\"models_fi_tdt_v2.7/pipelines.yaml\") # insert your model name here (model-name/pipelines.yaml)\n",
        "\n",
        "#Eri tavat parsettaa teksti\n",
        "print(list(available_pipelines.keys()))"
      ],
      "execution_count": null,
      "outputs": []
    },
    {
      "cell_type": "code",
      "metadata": {
        "id": "RQkHZcQ6PP46"
      },
      "source": [
        "p=Pipeline(available_pipelines[\"parse_plaintext\"],extra_args)\n",
        "print(p.parse(\"Minulla on ruskea koira! Se haukkuu ja juoksee. Voi että!\"))"
      ],
      "execution_count": null,
      "outputs": []
    },
    {
      "cell_type": "markdown",
      "metadata": {
        "id": "G4q3humBDPfI"
      },
      "source": [
        "The format of the data causes problems for the parser:\n",
        "\n",
        "For example \"AC - Sanaforin\" is parsed correctly to \"AC - Sanafor\" but \"TTVO : lla\" remains  \"TTVO : lla\" apparently because of the \" : \". This needs to be replaced with \":\" before the parsing!\n",
        "\n",
        "Also \"EAME a\" is \"EAME a\" even after the parsing. How to fix it?"
      ]
    },
    {
      "cell_type": "code",
      "metadata": {
        "id": "f-XeauBYU_qy"
      },
      "source": [
        "def parse(list):\n",
        "  lista = [p.parse(i) for i in list]\n",
        "  token_list = []\n",
        "  for i in lista:\n",
        "    pars = conllu.parse(i)\n",
        "    for j in pars:\n",
        "      \n",
        "      lemmat = []\n",
        "      for x in j:\n",
        "        \n",
        "        lemmat.append((\"\".join(x['lemma'])))\n",
        "      tokens_of_one_entity=' '.join(lemmat)\n",
        "      token_list.append(tokens_of_one_entity)  \n",
        "  return token_list"
      ],
      "execution_count": null,
      "outputs": []
    },
    {
      "cell_type": "code",
      "metadata": {
        "id": "p07duIlCYcAH"
      },
      "source": [
        "print(len(per))\n",
        "print(len(org))"
      ],
      "execution_count": null,
      "outputs": []
    },
    {
      "cell_type": "code",
      "metadata": {
        "id": "Zt87fUFWHaxM"
      },
      "source": [
        "import time \n",
        "\n",
        "t0 = time.time()\n",
        "per_lemmas = [parse(i) for i in per]\n",
        "org_lemmas = [[parse(i) for i in org]]\n",
        "\n",
        "t1 = time.time()\n",
        "\n",
        "print(f\"To parse {len(per)+len(org)} entities {(t1-t0)/60:.3} minutes elapsed\")"
      ],
      "execution_count": null,
      "outputs": []
    },
    {
      "cell_type": "code",
      "metadata": {
        "id": "4iMEIEs0jOzj"
      },
      "source": [
        "len(per_lemmas)"
      ],
      "execution_count": null,
      "outputs": []
    },
    {
      "cell_type": "code",
      "metadata": {
        "id": "rfr8bzqCbmVT"
      },
      "source": [
        "!mkdir /content/drive/MyDrive/Textual_Data_Analysis/lemmattisoidut"
      ],
      "execution_count": null,
      "outputs": []
    },
    {
      "cell_type": "code",
      "metadata": {
        "id": "OF1NNwJAb9qp"
      },
      "source": [
        "df = pd.DataFrame(list(zip(per_lemmas,org_lemmas)),columns=['per_lemma','org_lemma'])"
      ],
      "execution_count": null,
      "outputs": []
    },
    {
      "cell_type": "code",
      "metadata": {
        "id": "OhaMdFSvch6r"
      },
      "source": [
        "df.to_csv(\"drive/MyDrive/Textual_Data_Analysis/lemmattisoidut/lemmat.csv\")"
      ],
      "execution_count": null,
      "outputs": []
    },
    {
      "cell_type": "markdown",
      "metadata": {
        "id": "jYW5lbFFcr2s"
      },
      "source": [
        "#end"
      ]
    }
  ]
}