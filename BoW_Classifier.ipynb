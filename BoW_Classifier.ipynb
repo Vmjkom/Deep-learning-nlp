{
  "nbformat": 4,
  "nbformat_minor": 0,
  "metadata": {
    "colab": {
      "name": "BoW_Classifier",
      "provenance": [],
      "collapsed_sections": [],
      "authorship_tag": "ABX9TyNeQR5jQhxJBX/pYY+XrNXc",
      "include_colab_link": true
    },
    "kernelspec": {
      "name": "python3",
      "display_name": "Python 3"
    },
    "accelerator": "GPU"
  },
  "cells": [
    {
      "cell_type": "markdown",
      "metadata": {
        "id": "view-in-github",
        "colab_type": "text"
      },
      "source": [
        "<a href=\"https://colab.research.google.com/github/Vmjkom/Projektit/blob/master/BoW_Classifier.ipynb\" target=\"_parent\"><img src=\"https://colab.research.google.com/assets/colab-badge.svg\" alt=\"Open In Colab\"/></a>"
      ]
    },
    {
      "cell_type": "code",
      "metadata": {
        "id": "5boQsFkNU5qJ",
        "colab_type": "code",
        "outputId": "d3e2c7a8-8ea9-4388-caa2-6d3e5d19af3e",
        "colab": {
          "base_uri": "https://localhost:8080/",
          "height": 119
        }
      },
      "source": [
        "!wget -nc http://dl.turkunlp.org/TKO_8965-projects/classification/fincore-dev.tsv\n",
        "!wget -nc http://dl.turkunlp.org/TKO_8965-projects/classification/fincore-test.tsv\n",
        "!wget -nc http://dl.turkunlp.org/TKO_8965-projects/classification/fincore-train.tsv"
      ],
      "execution_count": 31,
      "outputs": [
        {
          "output_type": "stream",
          "text": [
            "File ‘fincore-dev.tsv’ already there; not retrieving.\n",
            "\n",
            "File ‘fincore-test.tsv’ already there; not retrieving.\n",
            "\n",
            "File ‘fincore-train.tsv’ already there; not retrieving.\n",
            "\n"
          ],
          "name": "stdout"
        }
      ]
    },
    {
      "cell_type": "code",
      "metadata": {
        "id": "Ia7zXuzOU8I2",
        "colab_type": "code",
        "outputId": "2c9b8c1e-6cea-41f4-b1cd-f7820757aa2b",
        "colab": {
          "base_uri": "https://localhost:8080/",
          "height": 514
        }
      },
      "source": [
        "import csv\n",
        "import pandas as pd\n",
        "import matplotlib.pyplot as plt\n",
        "from sklearn.utils import shuffle\n",
        "\n",
        "train_df = pd.read_csv('/content/fincore-train.tsv',delimiter = '\\t',names=['Labels', 'Text'])\n",
        "train_df = shuffle(train_df)\n",
        "\n",
        "dev_df = pd.read_csv('/content/fincore-dev.tsv',delimiter = '\\t',names=['Labels', 'Text'])\n",
        "dev_df = shuffle(dev_df)\n",
        "\n",
        "test_df = pd.read_csv('/content/fincore-test.tsv',delimiter = '\\t',names=['Labels', 'Text'])\n",
        "test_df = shuffle(test_df)\n",
        "\n",
        "train_df.Labels.value_counts().plot(kind='bar');\n",
        "train_df.head()\n"
      ],
      "execution_count": 32,
      "outputs": [
        {
          "output_type": "execute_result",
          "data": {
            "text/html": [
              "<div>\n",
              "<style scoped>\n",
              "    .dataframe tbody tr th:only-of-type {\n",
              "        vertical-align: middle;\n",
              "    }\n",
              "\n",
              "    .dataframe tbody tr th {\n",
              "        vertical-align: top;\n",
              "    }\n",
              "\n",
              "    .dataframe thead th {\n",
              "        text-align: right;\n",
              "    }\n",
              "</style>\n",
              "<table border=\"1\" class=\"dataframe\">\n",
              "  <thead>\n",
              "    <tr style=\"text-align: right;\">\n",
              "      <th></th>\n",
              "      <th>Labels</th>\n",
              "      <th>Text</th>\n",
              "    </tr>\n",
              "  </thead>\n",
              "  <tbody>\n",
              "    <tr>\n",
              "      <th>2338</th>\n",
              "      <td>PB NA</td>\n",
              "      <td>26 July 2013 Lukumaraton : my 14 -hour readin...</td>\n",
              "    </tr>\n",
              "    <tr>\n",
              "      <th>4169</th>\n",
              "      <td>MT OS RV OP</td>\n",
              "      <td>Mielipide SIEMENS SN25E202EU :sta Sen käyttäj...</td>\n",
              "    </tr>\n",
              "    <tr>\n",
              "      <th>567</th>\n",
              "      <td>RV OP</td>\n",
              "      <td>Every Picture Tells A Story Kirjassa The 500 ...</td>\n",
              "    </tr>\n",
              "    <tr>\n",
              "      <th>1764</th>\n",
              "      <td>DF ID</td>\n",
              "      <td>Vanha pappa Aerts veti kyllä sympatiapisteet ...</td>\n",
              "    </tr>\n",
              "    <tr>\n",
              "      <th>3039</th>\n",
              "      <td>DS IG</td>\n",
              "      <td>Hotellin kartta Ilallinen Start your day with...</td>\n",
              "    </tr>\n",
              "  </tbody>\n",
              "</table>\n",
              "</div>"
            ],
            "text/plain": [
              "            Labels                                               Text\n",
              "2338        PB NA    26 July 2013 Lukumaraton : my 14 -hour readin...\n",
              "4169  MT OS RV OP    Mielipide SIEMENS SN25E202EU :sta Sen käyttäj...\n",
              "567         RV OP    Every Picture Tells A Story Kirjassa The 500 ...\n",
              "1764        DF ID    Vanha pappa Aerts veti kyllä sympatiapisteet ...\n",
              "3039        DS IG    Hotellin kartta Ilallinen Start your day with..."
            ]
          },
          "metadata": {
            "tags": []
          },
          "execution_count": 32
        },
        {
          "output_type": "display_data",
          "data": {
            "image/png": "[encoded data removed]",
            "text/plain": [
              "<Figure size 432x288 with 1 Axes>"
            ]
          },
          "metadata": {
            "tags": [],
            "needs_background": "light"
          }
        }
      ]
    },
    {
      "cell_type": "code",
      "metadata": {
        "id": "7in5NHJbD11s",
        "colab_type": "code",
        "colab": {}
      },
      "source": [
        "import string\n",
        "\n",
        "def clean_label(label):\n",
        "  label = label.strip()\n",
        "  label = label[-2:]\n",
        "  return label\n",
        "\n",
        "def clean_text(text):\n",
        "  text = text.lower()\n",
        "  text = text.strip()\n",
        "  no_punct = \"\".join([c for c in text if c not in string.punctuation])\n",
        "  return no_punct"
      ],
      "execution_count": 0,
      "outputs": []
    },
    {
      "cell_type": "code",
      "metadata": {
        "id": "hoXROgjEI2Y1",
        "colab_type": "code",
        "outputId": "ad3dfb0c-59b4-46c6-e41b-384188bd9b8e",
        "colab": {
          "base_uri": "https://localhost:8080/",
          "height": 474
        }
      },
      "source": [
        "train_df['Labels'] = train_df['Labels'].apply(clean_label)\n",
        "train_df['Text'] = train_df['Text'].apply(clean_text)\n",
        "\n",
        "train_df.head()\n",
        "\n",
        "dev_df['Labels'] = dev_df['Labels'].apply(clean_label)\n",
        "dev_df['Text'] = dev_df['Text'].apply(clean_text)\n",
        "\n",
        "dev_df.head()\n",
        "\n",
        "test_df['Labels'] = test_df['Labels'].apply(clean_label)\n",
        "\n",
        "train_df.Labels.value_counts().plot(kind='bar');\n",
        "print(train_df.head())\n",
        "print(dev_df.head())\n",
        "\n",
        "\n",
        "\n"
      ],
      "execution_count": 34,
      "outputs": [
        {
          "output_type": "stream",
          "text": [
            "     Labels                                               Text\n",
            "2338     NA  26 july 2013 lukumaraton  my 14 hour reading b...\n",
            "4169     OP  mielipide siemens sn25e202eu sta sen käyttäjät...\n",
            "567      OP  every picture tells a story kirjassa the 500 g...\n",
            "1764     ID  vanha pappa aerts veti kyllä sympatiapisteet k...\n",
            "3039     IG  hotellin kartta ilallinen start your day with ...\n",
            "    Labels                                               Text\n",
            "664     NA  hallitus aikoo käynnistää ensi vuonna laajan t...\n",
            "424     IN  vaikka useimmat lait on kirjoitettu ennen nett...\n",
            "233     ID  hannan antamassa linkissä kerrotaan  että kuva...\n",
            "248     OS  käyttäjän tiedot silloin  kun se tulee käsinte...\n",
            "374     OP  vastaus tähän keskusteluun täälä myös kupariki...\n"
          ],
          "name": "stdout"
        },
        {
          "output_type": "display_data",
          "data": {
            "image/png": "[encoded data removed]",
            "text/plain": [
              "<Figure size 432x288 with 1 Axes>"
            ]
          },
          "metadata": {
            "tags": [],
            "needs_background": "light"
          }
        }
      ]
    },
    {
      "cell_type": "code",
      "metadata": {
        "id": "Yq9nWFDQOVX1",
        "colab_type": "code",
        "colab": {
          "base_uri": "https://localhost:8080/",
          "height": 51
        },
        "outputId": "ada93452-dab2-4e73-bad4-99bdac266349"
      },
      "source": [
        "from sklearn.feature_extraction.text import TfidfVectorizer\n",
        "from sklearn.preprocessing import LabelEncoder\n",
        "\n",
        "\n",
        "tfidf = TfidfVectorizer(sublinear_tf=True,ngram_range=(1,2))\n",
        "label_encoder=LabelEncoder()\n",
        "\n",
        "train_features = tfidf.fit_transform(train_df.Text)\n",
        "train_labels = label_encoder.fit_transform(train_df.Labels)\n",
        "\n",
        "dev_features = tfidf.transform(dev_df.Text)\n",
        "dev_labels = label_encoder.transform(dev_df.Labels)\n",
        "\n",
        "print(train_features.shape)\n",
        "print(\"class labels\",label_encoder.classes_)\n",
        "\n"
      ],
      "execution_count": 35,
      "outputs": [
        {
          "output_type": "stream",
          "text": [
            "(5295, 2466617)\n",
            "class labels ['HI' 'ID' 'IG' 'IN' 'LY' 'NA' 'OP' 'OS' 'SP']\n"
          ],
          "name": "stdout"
        }
      ]
    },
    {
      "cell_type": "code",
      "metadata": {
        "id": "XB1amzOApcck",
        "colab_type": "code",
        "colab": {}
      },
      "source": [
        "import keras\n",
        "from keras.models import Sequential\n",
        "from keras import layers\n",
        "\n",
        "input_dim = train_features.shape[1]\n",
        "class_count = len(label_encoder.classes_)\n",
        "\n",
        "model=Sequential()\n",
        "model.add(layers.Dense(100,input_dim=input_dim,activation='relu'))\n",
        "model.add(layers.Dense(class_count,activation='softmax'))\n",
        "\n"
      ],
      "execution_count": 0,
      "outputs": []
    },
    {
      "cell_type": "code",
      "metadata": {
        "id": "22-P6Au2yMTC",
        "colab_type": "code",
        "colab": {
          "base_uri": "https://localhost:8080/",
          "height": 221
        },
        "outputId": "8b776c02-50d4-4d23-919d-bf44fcad9274"
      },
      "source": [
        "model.compile(loss='sparse_categorical_crossentropy',\n",
        "              optimizer='adam',\n",
        "              metrics=['accuracy'] )\n",
        "model.summary()"
      ],
      "execution_count": 37,
      "outputs": [
        {
          "output_type": "stream",
          "text": [
            "Model: \"sequential_3\"\n",
            "_________________________________________________________________\n",
            "Layer (type)                 Output Shape              Param #   \n",
            "=================================================================\n",
            "dense_5 (Dense)              (None, 100)               246661800 \n",
            "_________________________________________________________________\n",
            "dense_6 (Dense)              (None, 9)                 909       \n",
            "=================================================================\n",
            "Total params: 246,662,709\n",
            "Trainable params: 246,662,709\n",
            "Non-trainable params: 0\n",
            "_________________________________________________________________\n"
          ],
          "name": "stdout"
        }
      ]
    },
    {
      "cell_type": "code",
      "metadata": {
        "id": "F8i2CMN_zNnc",
        "colab_type": "code",
        "colab": {
          "base_uri": "https://localhost:8080/",
          "height": 204
        },
        "outputId": "b41683c9-ab41-4b5c-ac25-b479150c87a5"
      },
      "source": [
        "history=model.fit(train_features,train_labels,epochs=5,batch_size=50,validation_data=(dev_features,dev_labels))"
      ],
      "execution_count": 38,
      "outputs": [
        {
          "output_type": "stream",
          "text": [
            "Train on 5295 samples, validate on 756 samples\n",
            "Epoch 1/5\n",
            "5295/5295 [==============================] - 83s 16ms/step - loss: 1.5999 - accuracy: 0.4967 - val_loss: 1.1044 - val_accuracy: 0.5847\n",
            "Epoch 2/5\n",
            "5295/5295 [==============================] - 79s 15ms/step - loss: 0.3317 - accuracy: 0.9673 - val_loss: 0.9196 - val_accuracy: 0.7037\n",
            "Epoch 3/5\n",
            "5295/5295 [==============================] - 78s 15ms/step - loss: 0.0398 - accuracy: 0.9951 - val_loss: 0.9108 - val_accuracy: 0.6971\n",
            "Epoch 4/5\n",
            "5295/5295 [==============================] - 76s 14ms/step - loss: 0.0148 - accuracy: 0.9975 - val_loss: 0.9075 - val_accuracy: 0.7037\n",
            "Epoch 5/5\n",
            "5295/5295 [==============================] - 74s 14ms/step - loss: 0.0111 - accuracy: 0.9975 - val_loss: 0.9147 - val_accuracy: 0.7011\n"
          ],
          "name": "stdout"
        }
      ]
    }
  ]
}